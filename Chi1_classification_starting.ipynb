{
 "cells": [
  {
   "cell_type": "code",
   "execution_count": 1,
   "metadata": {},
   "outputs": [],
   "source": [
    "import numpy as np"
   ]
  },
  {
   "cell_type": "code",
   "execution_count": 2,
   "metadata": {},
   "outputs": [
    {
     "data": {
      "text/plain": [
       "'1.14.0'"
      ]
     },
     "execution_count": 2,
     "metadata": {},
     "output_type": "execute_result"
    }
   ],
   "source": [
    "from __future__ import absolute_import, division, print_function, unicode_literals\n",
    "\n",
    "import os\n",
    "\n",
    "import tensorflow as tf\n",
    "from tensorflow import keras\n",
    "\n",
    "tf.__version__"
   ]
  },
  {
   "cell_type": "code",
   "execution_count": 3,
   "metadata": {},
   "outputs": [],
   "source": [
    "train_feature_file=\"/nfs/amino-home/qingyliu/dihedral_angle/ML_data/back_tag/back_train_feature_new_0.npy\"\n",
    "train_label_file = \"/nfs/amino-home/qingyliu/dihedral_angle/ML_data/back_tag/back_train_label_new_0.npy\""
   ]
  },
  {
   "cell_type": "code",
   "execution_count": 4,
   "metadata": {},
   "outputs": [],
   "source": [
    "train_features = np.load(train_feature_file)\n",
    "train_labels = np.load(train_label_file)"
   ]
  },
  {
   "cell_type": "markdown",
   "metadata": {},
   "source": [
    "test_feature_file=\"/nfs/amino-home/qingyliu/dihedral_angle/ML_data/back_tag/back_train_feature_new_4.npy\"\n",
    "test_label_file = \"/nfs/amino-home/qingyliu/dihedral_angle/ML_data/back_tag/back_train_label_new_4.npy\""
   ]
  },
  {
   "cell_type": "markdown",
   "metadata": {},
   "source": [
    "test_features = np.load(test_feature_file)\n",
    "test_labels = np.load(test_label_file)"
   ]
  },
  {
   "cell_type": "markdown",
   "metadata": {},
   "source": [
    "train_features_testing = train_features_testing.reshape(-1,15*27)\n",
    "test_features_testing = test_features_testing.reshape(-1,15*27)"
   ]
  },
  {
   "cell_type": "markdown",
   "metadata": {},
   "source": [
    "# Returns a short sequential model\n",
    "def create_model():\n",
    "    model = tf.keras.models.Sequential([\n",
    "        keras.layers.Dense(128, activation=tf.keras.activations.relu , input_shape=(405,)),\n",
    "        keras.layers.Dropout(0.2),\n",
    "        keras.layers.Dense(3, activation=tf.keras.activations.softmax)\n",
    "      ])\n",
    "\n",
    "    model.compile(optimizer=tf.keras.optimizers.Adam(),\n",
    "                loss=tf.keras.losses.sparse_categorical_crossentropy,\n",
    "                metrics=['accuracy'])\n",
    "\n",
    "    return model\n",
    "\n",
    "\n",
    "# Create a basic model instance\n",
    "model = create_model()\n",
    "model.summary()"
   ]
  },
  {
   "cell_type": "code",
   "execution_count": 6,
   "metadata": {},
   "outputs": [],
   "source": [
    "# Returns a short sequential model\n",
    "def create_model_3():\n",
    "    model = tf.keras.models.Sequential([\n",
    "        keras.layers.Flatten(input_shape=(15, 27)),\n",
    "        keras.layers.Dense(1024, activation=tf.keras.activations.relu ),\n",
    "\n",
    "        keras.layers.Dense(512, activation=tf.keras.activations.relu),\n",
    "\n",
    "        keras.layers.Dense(256, activation=tf.keras.activations.relu),\n",
    "        \n",
    "        keras.layers.Dense(128, activation=tf.keras.activations.relu),\n",
    "        \n",
    "        keras.layers.Dense(64, activation=tf.keras.activations.relu),\n",
    "\n",
    "        keras.layers.Dense(3,activation=tf.keras.activations.softmax)\n",
    "      ])\n",
    "\n",
    "    model.compile(optimizer=tf.keras.optimizers.Adam(),\n",
    "                loss=tf.keras.losses.sparse_categorical_crossentropy,\n",
    "                metrics=['accuracy'])\n",
    "\n",
    "    return model\n",
    "\n",
    "\n",
    "# Create a basic model instance"
   ]
  },
  {
   "cell_type": "code",
   "execution_count": 7,
   "metadata": {},
   "outputs": [
    {
     "name": "stdout",
     "output_type": "stream",
     "text": [
      "WARNING:tensorflow:From /home/qingyliu/miniconda3/lib/python3.7/site-packages/tensorflow/python/ops/init_ops.py:1251: calling VarianceScaling.__init__ (from tensorflow.python.ops.init_ops) with dtype is deprecated and will be removed in a future version.\n",
      "Instructions for updating:\n",
      "Call initializer instance with the dtype argument instead of passing it to the constructor\n",
      "1249920/1250000 [============================>.] - ETA: 0s - loss: 0.8462 - acc: 0.6033\n",
      "Epoch 00001: saving model to /nfs/amino-home/qingyliu/dihedral_angle/ML_data/back_tag/training_3/cp.ckpt\n",
      "1250000/1250000 [==============================] - 152s 121us/sample - loss: 0.8463 - acc: 0.6033\n"
     ]
    },
    {
     "data": {
      "text/plain": [
       "<tensorflow.python.keras.callbacks.History at 0x7f78a020ada0>"
      ]
     },
     "execution_count": 7,
     "metadata": {},
     "output_type": "execute_result"
    }
   ],
   "source": [
    "checkpoint_path_3 = \"/nfs/amino-home/qingyliu/dihedral_angle/ML_data/back_tag/training_3/cp.ckpt\"\n",
    "checkpoint_dir_3 = os.path.dirname(checkpoint_path_3)\n",
    "\n",
    "# Create checkpoint callback\n",
    "cp_callback_3 = tf.keras.callbacks.ModelCheckpoint(checkpoint_path_3,\n",
    "                                                 save_weights_only=True,\n",
    "                                                 verbose=1)\n",
    "\n",
    "model_3 = create_model_3()\n",
    "#latest = tf.train.latest_checkpoint(checkpoint_dir)\n",
    "#model.load_weights(latest)\n",
    "model_3.fit(train_features, train_labels,  epochs = 1,\n",
    "          callbacks = [cp_callback_3])  # pass callback to training\n",
    "\n",
    "# This may generate warnings related to saving the state of the optimizer.\n",
    "# These warnings (and similar warnings throughout this notebook)\n",
    "# are in place to discourage outdated usage, and can be ignored."
   ]
  },
  {
   "cell_type": "code",
   "execution_count": 8,
   "metadata": {},
   "outputs": [],
   "source": [
    "# Returns a short sequential model\n",
    "def create_model_1():\n",
    "    model = tf.keras.models.Sequential([\n",
    "        keras.layers.Flatten(input_shape=(15, 27)),\n",
    "\n",
    "        \n",
    "        keras.layers.Dense(128, activation=tf.keras.activations.relu),\n",
    "\n",
    "        keras.layers.Dense(3,activation=tf.keras.activations.softmax)\n",
    "      ])\n",
    "\n",
    "    model.compile(optimizer=tf.keras.optimizers.Adam(),\n",
    "                loss=tf.keras.losses.sparse_categorical_crossentropy,\n",
    "                metrics=['accuracy'])\n",
    "\n",
    "    return model\n",
    "\n"
   ]
  },
  {
   "cell_type": "code",
   "execution_count": 9,
   "metadata": {},
   "outputs": [
    {
     "name": "stdout",
     "output_type": "stream",
     "text": [
      "1248320/1250000 [============================>.] - ETA: 0s - loss: 0.8507 - acc: 0.6016\n",
      "Epoch 00001: saving model to /nfs/amino-home/qingyliu/dihedral_angle/ML_data/back_tag/training_1/cp.ckpt\n",
      "1250000/1250000 [==============================] - 43s 34us/sample - loss: 0.8507 - acc: 0.6016\n"
     ]
    },
    {
     "data": {
      "text/plain": [
       "<tensorflow.python.keras.callbacks.History at 0x7f78a01165f8>"
      ]
     },
     "execution_count": 9,
     "metadata": {},
     "output_type": "execute_result"
    }
   ],
   "source": [
    "checkpoint_path_1 = \"/nfs/amino-home/qingyliu/dihedral_angle/ML_data/back_tag/training_1/cp.ckpt\"\n",
    "checkpoint_dir_1 = os.path.dirname(checkpoint_path_1)\n",
    "\n",
    "# Create checkpoint callback\n",
    "cp_callback_1 = tf.keras.callbacks.ModelCheckpoint(checkpoint_path_1,\n",
    "                                                 save_weights_only=True,\n",
    "                                                 verbose=1)\n",
    "\n",
    "model_1 = create_model_1()\n",
    "#latest = tf.train.latest_checkpoint(checkpoint_dir)\n",
    "#model.load_weights(latest)\n",
    "model_1.fit(train_features, train_labels,  epochs = 1,\n",
    "          callbacks = [cp_callback_1])  # pass callback to training\n",
    "\n",
    "# This may generate warnings related to saving the state of the optimizer.\n",
    "# These warnings (and similar warnings throughout this notebook)\n",
    "# are in place to discourage outdated usage, and can be ignored."
   ]
  }
 ],
 "metadata": {
  "kernelspec": {
   "display_name": "Python 3",
   "language": "python",
   "name": "python3"
  },
  "language_info": {
   "codemirror_mode": {
    "name": "ipython",
    "version": 3
   },
   "file_extension": ".py",
   "mimetype": "text/x-python",
   "name": "python",
   "nbconvert_exporter": "python",
   "pygments_lexer": "ipython3",
   "version": "3.7.4"
  }
 },
 "nbformat": 4,
 "nbformat_minor": 2
}
