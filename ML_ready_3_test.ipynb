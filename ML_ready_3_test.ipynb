{
 "cells": [
  {
   "cell_type": "code",
   "execution_count": 35,
   "metadata": {},
   "outputs": [],
   "source": [
    "import numpy as np\n",
    "import copy"
   ]
  },
  {
   "cell_type": "code",
   "execution_count": 36,
   "metadata": {},
   "outputs": [],
   "source": [
    "def range_determine(deg):\n",
    "    deg = copy.deepcopy(deg)\n",
    "    for i in range(len(deg)):\n",
    "        try:\n",
    "            deg[i] = float(deg[i])\n",
    "        except:\n",
    "            deg[i] = 3\n",
    "        \n",
    "        if (deg[i] <=0):\n",
    "            deg[i] = deg[i] +360\n",
    "        if deg[i]>0 and deg[i] <120:\n",
    "            deg[i] = 0\n",
    "        elif deg[i]>=120 and deg[i] <240:\n",
    "            deg[i] = 1\n",
    "        elif deg[i]>=240 and deg[i] <=360:\n",
    "            deg[i] = 2\n",
    "        else:\n",
    "            deg[i] = 3\n",
    "    return deg"
   ]
  },
  {
   "cell_type": "code",
   "execution_count": 42,
   "metadata": {},
   "outputs": [],
   "source": [
    "training_raw_path = \"/home/qingyliu/test/training_data/train_scaled.npy\"\n",
    "training_raw = np.load(training_raw_path, allow_pickle = True)"
   ]
  },
  {
   "cell_type": "code",
   "execution_count": 47,
   "metadata": {},
   "outputs": [],
   "source": [
    "training_feature_file_name = \"/home/qingyliu/test/training_data/train_feature_0\"\n",
    "training_label_value_file_name = \"/home/qingyliu/test/training_data/train_label_value_0\"\n",
    "training_label_file_name = \"/home/qingyliu/test/training_data/train_label_0\""
   ]
  },
  {
   "cell_type": "code",
   "execution_count": 43,
   "metadata": {},
   "outputs": [],
   "source": [
    "train_feature = []\n",
    "train_label = []\n",
    "train_label_value=[]\n",
    "count = 0\n",
    "for i in range(len(training_raw)):\n",
    "\n",
    "#         if len(train_label) > 499: # this number may change to 500*2500\n",
    "#             np.save(training_feature_file_name+str(count),np.asarray(train_feature))\n",
    "#             np.save(training_label_file_name+str(count),np.asarray(train_label))\n",
    "#             np.save(training_label_value_file_name+str(count),np.asarray(train_label_value))\n",
    "#             train_feature = []\n",
    "#             train_label = []\n",
    "#             train_label_value = []\n",
    "#             count += 1\n",
    "\n",
    "        train_feature.append(np.asarray(training_raw[i])[:,:-1])\n",
    "        train_label_value.append(training_raw[i][:,-1])\n",
    "        train_label.append(range_determine(training_raw[i][:,-1]))"
   ]
  },
  {
   "cell_type": "code",
   "execution_count": 38,
   "metadata": {},
   "outputs": [
    {
     "data": {
      "text/plain": [
       "(89, 26)"
      ]
     },
     "execution_count": 38,
     "metadata": {},
     "output_type": "execute_result"
    }
   ],
   "source": [
    "train_feature[1].shape"
   ]
  },
  {
   "cell_type": "code",
   "execution_count": 44,
   "metadata": {},
   "outputs": [
    {
     "data": {
      "text/plain": [
       "array([-6.03600e+01,  1.74710e+02, -5.92700e+01, -6.55300e+01,\n",
       "        1.65400e+02,  1.64510e+02, -1.54530e+02, -6.33400e+01,\n",
       "       -5.94600e+01,  6.85100e+01,  9.40501e+05, -1.69520e+02,\n",
       "       -7.09600e+01, -7.44400e+01, -5.03100e+01, -1.75380e+02,\n",
       "       -4.48900e+01,  9.40501e+05, -5.56700e+01, -1.57800e+01,\n",
       "       -1.77630e+02,  7.58200e+01, -7.96100e+01,  1.77270e+02,\n",
       "       -7.07500e+01,  1.63670e+02, -1.76310e+02, -6.70100e+01,\n",
       "        9.40501e+05,  1.79130e+02, -7.74600e+01, -6.20200e+01,\n",
       "        9.40501e+05,  9.30524e+05, -8.39900e+01,  9.40501e+05,\n",
       "        5.94900e+01, -6.66000e+01, -1.71230e+02, -5.22900e+01,\n",
       "       -1.78790e+02,  9.40501e+05,  6.02700e+01, -1.54510e+02,\n",
       "        9.40501e+05,  6.93900e+01,  9.40501e+05, -7.70000e+01,\n",
       "        4.73000e+00, -1.73140e+02, -6.43800e+01, -2.01200e+01,\n",
       "       -6.08500e+01,  1.78810e+02, -8.17800e+01, -7.31200e+01,\n",
       "       -6.21100e+01,  1.79710e+02, -1.38700e+02, -5.36200e+01,\n",
       "       -1.57160e+02, -6.98700e+01, -1.15240e+02, -9.81800e+01,\n",
       "       -7.70800e+01, -1.73820e+02, -1.58680e+02, -6.99800e+01,\n",
       "       -1.01030e+02, -7.41200e+01, -7.11800e+01, -1.63800e+02,\n",
       "        9.30524e+05, -6.00000e+01,  9.30524e+05,  6.58600e+01,\n",
       "        9.30524e+05,  9.40501e+05, -1.76660e+02, -1.72150e+02,\n",
       "        7.61000e+01,  6.27500e+01,  9.40501e+05, -6.95300e+01,\n",
       "       -5.58700e+01, -1.34240e+02,  1.66240e+02,  1.78680e+02,\n",
       "       -6.18100e+01])"
      ]
     },
     "execution_count": 44,
     "metadata": {},
     "output_type": "execute_result"
    }
   ],
   "source": [
    "train_label_value[1]"
   ]
  },
  {
   "cell_type": "code",
   "execution_count": 45,
   "metadata": {},
   "outputs": [
    {
     "data": {
      "text/plain": [
       "array([2., 1., 2., 2., 1., 1., 1., 2., 2., 0., 3., 1., 2., 2., 2., 1., 2.,\n",
       "       3., 2., 2., 1., 0., 2., 1., 2., 1., 1., 2., 3., 1., 2., 2., 3., 3.,\n",
       "       2., 3., 0., 2., 1., 2., 1., 3., 0., 1., 3., 0., 3., 2., 0., 1., 2.,\n",
       "       2., 2., 1., 2., 2., 2., 1., 1., 2., 1., 2., 2., 2., 2., 1., 1., 2.,\n",
       "       2., 2., 2., 1., 3., 2., 3., 0., 3., 3., 1., 1., 0., 0., 3., 2., 2.,\n",
       "       1., 1., 1., 2.])"
      ]
     },
     "execution_count": 45,
     "metadata": {},
     "output_type": "execute_result"
    }
   ],
   "source": [
    "train_label[1]"
   ]
  },
  {
   "cell_type": "code",
   "execution_count": 48,
   "metadata": {},
   "outputs": [],
   "source": [
    "np.save(training_label_value_file_name,np.asarray(train_label_value))\n",
    "np.save(training_feature_file_name,np.asarray(train_feature))\n",
    "np.save(training_label_file_name,np.asarray(train_label))"
   ]
  },
  {
   "cell_type": "code",
   "execution_count": null,
   "metadata": {},
   "outputs": [],
   "source": []
  }
 ],
 "metadata": {
  "kernelspec": {
   "display_name": "Python 3",
   "language": "python",
   "name": "python3"
  },
  "language_info": {
   "codemirror_mode": {
    "name": "ipython",
    "version": 3
   },
   "file_extension": ".py",
   "mimetype": "text/x-python",
   "name": "python",
   "nbconvert_exporter": "python",
   "pygments_lexer": "ipython3",
   "version": "3.7.3"
  }
 },
 "nbformat": 4,
 "nbformat_minor": 2
}
