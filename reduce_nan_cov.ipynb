{
 "cells": [
  {
   "cell_type": "code",
   "execution_count": 22,
   "metadata": {},
   "outputs": [],
   "source": [
    "import numpy as np\n",
    "import os"
   ]
  },
  {
   "cell_type": "code",
   "execution_count": 23,
   "metadata": {},
   "outputs": [],
   "source": [
    "before_dir= \"/oasis/scratch/comet/qingyliu/temp_project/conv_ML_input\"\n",
    "after_dir = \"/oasis/scratch/comet/qingyliu/temp_project/temp\""
   ]
  },
  {
   "cell_type": "code",
   "execution_count": 26,
   "metadata": {},
   "outputs": [],
   "source": [
    "directory = os.fsencode(before_dir)\n",
    "for file in os.listdir(directory):\n",
    "    filename = os.fsdecode(file)\n",
    "    if filename.endswith(\".npy\"):\n",
    "        a = np.load(os.path.join(before_dir,filename))\n",
    "        if np.isnan(a).any():\n",
    "            k =np.where(np.isnan(a))\n",
    "            for i in range(len(k[3])):\n",
    "                if k[3][i] == 41:\n",
    "                    b = np.clip(a[k[0][i],k[1][i],k[2][i],20:41], 1e-6, (1. - 1e-6))\n",
    "                    a[k[0][i],k[1][i],k[2][i],20:41] = b\n",
    "                    a[k[0][i],k[1][i],k[2][i],41] = np.sum(-b * np.log(b))\n",
    "                elif k[3][i] == 83:\n",
    "                    b = np.clip(a[k[0][i],k[1][i],k[2][i],62:83], 1e-6, (1. - 1e-6))\n",
    "                    a[k[0][i],k[1][i],k[2][i],20:41] = b\n",
    "                    a[k[0][i],k[1][i],k[2][i],83] = np.sum(-b * np.log(b))\n",
    "            np.save(os.path.join(after_dir,filename),np.nan_to_num(a,copy = False))\n",
    "        else:\n",
    "            continue\n",
    "\n"
   ]
  },
  {
   "cell_type": "code",
   "execution_count": 29,
   "metadata": {},
   "outputs": [],
   "source": [
    "directory = os.fsencode(after_dir)\n",
    "for file in os.listdir(directory):\n",
    "    filename = os.fsdecode(file)\n",
    "    if os.path.exists(os.path.join(before_dir,filename)):\n",
    "        os.remove(os.path.join(before_dir,filename))\n",
    "        os.rename(os.path.join(after_dir,filename),os.path.join(before_dir,filename))\n",
    "        "
   ]
  }
 ],
 "metadata": {
  "kernelspec": {
   "display_name": "Python 3",
   "language": "python",
   "name": "python3"
  },
  "language_info": {
   "codemirror_mode": {
    "name": "ipython",
    "version": 3
   },
   "file_extension": ".py",
   "mimetype": "text/x-python",
   "name": "python",
   "nbconvert_exporter": "python",
   "pygments_lexer": "ipython3",
   "version": "3.7.4"
  }
 },
 "nbformat": 4,
 "nbformat_minor": 4
}
