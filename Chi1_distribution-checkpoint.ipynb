{
 "cells": [
  {
   "cell_type": "code",
   "execution_count": 20,
   "metadata": {},
   "outputs": [],
   "source": [
    "import numpy as np"
   ]
  },
  {
   "cell_type": "code",
   "execution_count": 21,
   "metadata": {},
   "outputs": [],
   "source": [
    "directory_path =\"/nfs/amino-home/qingyliu/dihedral_angle/chi1_dataset\""
   ]
  },
  {
   "cell_type": "code",
   "execution_count": 22,
   "metadata": {},
   "outputs": [],
   "source": [
    "chi1_distri_dataset = {}"
   ]
  },
  {
   "cell_type": "code",
   "execution_count": 26,
   "metadata": {},
   "outputs": [],
   "source": [
    "def range_determine(deg):\n",
    "    try:\n",
    "        deg = float(deg)\n",
    "    except:\n",
    "        return 3\n",
    "        \n",
    "    if (deg <0):\n",
    "        deg = deg +360\n",
    "    if deg>=0 and deg <120:\n",
    "        return 0\n",
    "    elif deg>=120 and deg <240:\n",
    "        return 1\n",
    "    elif deg>=240 and deg <360:\n",
    "        return 2\n",
    "    else:\n",
    "        return 3"
   ]
  },
  {
   "cell_type": "code",
   "execution_count": 28,
   "metadata": {},
   "outputs": [],
   "source": [
    "import os\n",
    "\n",
    "directory = os.fsencode(directory_path)\n",
    "\n",
    "for file in os.listdir(directory):\n",
    "    filename = os.fsdecode(file)\n",
    "    with open(os.path.join(directory_path, filename)) as f:\n",
    "        for line in f:\n",
    "            line = line.replace('\\n','').split()\n",
    "            if len(line) < 2:\n",
    "                continue\n",
    "            else:\n",
    "                if line[0] in chi1_distri_dataset:\n",
    "                    chi1_distri_dataset[line[0]][range_determine(line[1])] +=1\n",
    "                else:\n",
    "                    chi1_distri_dataset[line[0]] = [0,0,0,0]\n",
    "                    chi1_distri_dataset[line[0]][range_determine(line[1])] +=1"
   ]
  },
  {
   "cell_type": "code",
   "execution_count": 46,
   "metadata": {},
   "outputs": [],
   "source": [
    "import pickle\n",
    "f = open(\"Chi1_dataset.pkl\",\"wb\")\n",
    "pickle.dump(chi1_distri_dataset,f)\n",
    "f.close()"
   ]
  },
  {
   "cell_type": "code",
   "execution_count": 48,
   "metadata": {},
   "outputs": [],
   "source": [
    "f1 = open(\"Chi1_dataset.pkl\",\"rb\")\n",
    "b = pickle.load(f1)\n",
    "f1.close()"
   ]
  },
  {
   "cell_type": "code",
   "execution_count": 49,
   "metadata": {},
   "outputs": [
    {
     "data": {
      "text/plain": [
       "{'VAL': [51939, 417919, 106340, 0],\n",
       " 'LEU': [15258, 250832, 494571, 0],\n",
       " 'PRO': [188640, 26, 183301, 0],\n",
       " 'ASN': [48074, 103333, 193032, 0],\n",
       " 'THR': [206206, 42455, 191355, 0],\n",
       " 'GLU': [51508, 178255, 301167, 0],\n",
       " 'ASP': [76002, 153651, 239042, 0],\n",
       " 'PHE': [36532, 114741, 178441, 0],\n",
       " 'LYS': [37198, 157552, 263293, 0],\n",
       " 'ILE': [62782, 46550, 361788, 0],\n",
       " 'SER': [220355, 123707, 145381, 0],\n",
       " 'ARG': [40152, 144103, 231406, 0],\n",
       " 'TYR': [32865, 101094, 151026, 0],\n",
       " 'GLN': [24925, 93490, 177765, 0],\n",
       " 'TRP': [17334, 38953, 56025, 0],\n",
       " 'HIS': [24301, 63949, 102776, 0],\n",
       " 'MET': [14621, 53745, 108906, 0],\n",
       " 'CYS': [19724, 30930, 57702, 0],\n",
       " 'UNK': [392, 11, 1, 0],\n",
       " 'ASX': [0, 0, 3, 0],\n",
       " 'PYL': [0, 1, 0, 0]}"
      ]
     },
     "execution_count": 49,
     "metadata": {},
     "output_type": "execute_result"
    }
   ],
   "source": [
    "b"
   ]
  },
  {
   "cell_type": "code",
   "execution_count": null,
   "metadata": {},
   "outputs": [],
   "source": []
  }
 ],
 "metadata": {
  "kernelspec": {
   "display_name": "Python 3",
   "language": "python",
   "name": "python3"
  },
  "language_info": {
   "codemirror_mode": {
    "name": "ipython",
    "version": 3
   },
   "file_extension": ".py",
   "mimetype": "text/x-python",
   "name": "python",
   "nbconvert_exporter": "python",
   "pygments_lexer": "ipython3",
   "version": "3.7.3"
  }
 },
 "nbformat": 4,
 "nbformat_minor": 2
}
