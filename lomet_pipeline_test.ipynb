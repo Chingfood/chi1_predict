{
 "cells": [
  {
   "cell_type": "code",
   "execution_count": 30,
   "metadata": {},
   "outputs": [],
   "source": [
    "LOMETS_file = \"/home/chingyuenliu/LOMETS_library_ZW/d1ez3a_/initall.CET\"\n",
    "template_library = \"/home/chingyuenliu/sample_pdb_library\"\n",
    "index = 14"
   ]
  },
  {
   "cell_type": "code",
   "execution_count": 34,
   "metadata": {},
   "outputs": [],
   "source": [
    "f = open(LOMETS_file,'r')"
   ]
  },
  {
   "cell_type": "code",
   "execution_count": 35,
   "metadata": {},
   "outputs": [],
   "source": [
    "for i in range(125):\n",
    "    f.readline()"
   ]
  },
  {
   "cell_type": "code",
   "execution_count": 36,
   "metadata": {},
   "outputs": [
    {
     "data": {
      "text/plain": [
       "'TER\\n'"
      ]
     },
     "execution_count": 36,
     "metadata": {},
     "output_type": "execute_result"
    }
   ],
   "source": [
    "f.readline()"
   ]
  },
  {
   "cell_type": "code",
   "execution_count": null,
   "metadata": {},
   "outputs": [],
   "source": []
  },
  {
   "cell_type": "code",
   "execution_count": 6,
   "metadata": {},
   "outputs": [
    {
     "name": "stdout",
     "output_type": "stream",
     "text": [
      "   20   124 (N_temp, Lch)\n",
      "\n",
      "  123    3.412     1    1fewA    0.081    0.992(=123/124) (L_ali,Z,i,pdb,id,cov)\n",
      "\n",
      "ATOM      1  CA  ARG     1      47.385  33.755 -18.645    9 ARG  47.429  31.987 -22.488  47.397  32.696 -19.761  47.926  35.025 -19.119  48.211  33.258 -17.457  47.656  32.787 -16.473\n",
      "\n",
      "  118    2.675     2    2dnxA    0.203    0.952(=118/124) (L_ali,Z,i,pdb,id,cov)\n",
      "\n",
      "ATOM      1  CA  ARG     1      19.581 -18.256   4.612    5 SER  21.015 -17.338   5.487  20.510 -17.117   5.036  19.089 -18.987   5.767  20.309 -19.209   3.661  21.436 -19.620   3.931\n",
      "\n",
      "  124    2.547     3   1bg1A1    0.097    1.000(=124/124) (L_ali,Z,i,pdb,id,cov)\n",
      "\n",
      "ATOM      1  CA  ARG     1     134.719  96.504  33.981    2 VAL 135.501  97.714  32.666 135.574  97.530  33.213 133.908  97.136  35.016 135.667  95.430  34.447 136.391  95.610  35.423\n",
      "\n",
      "  120    2.514     4   4tqlA1    0.167    0.968(=120/124) (L_ali,Z,i,pdb,id,cov)\n",
      "\n",
      "ATOM      1  CA  ARG     1     -10.798  29.288  -6.396   12 ARG -14.556  31.598  -5.277 -12.177  29.818  -6.709 -10.190  28.718  -7.577 -10.880  28.234  -5.295 -10.568  28.489  -4.116\n",
      "\n",
      "  117    2.450     5   5n77A2    0.085    0.944(=117/124) (L_ali,Z,i,pdb,id,cov)\n",
      "\n",
      "ATOM      1  CA  ARG     1     -67.350  32.011 -27.308    3 GLY      NA      NA      NA      NA      NA      NA -67.937  30.852 -26.660 -67.450  33.310 -26.549 -67.924  34.294 -27.087\n",
      "\n",
      "  108    2.450     6   1sumB1    0.111    0.871(=108/124) (L_ali,Z,i,pdb,id,cov)\n",
      "\n",
      "ATOM      5  CA  MET     5      36.207  69.006  12.732    1 ASN  37.216  70.237  14.635  37.491  69.467  13.442  34.996  69.377  13.514  36.241  67.502  12.532  36.429  67.005  11.416\n",
      "\n",
      "  123    2.386     7    5vjsA    0.098    0.992(=123/124) (L_ali,Z,i,pdb,id,cov)\n",
      "\n",
      "ATOM      1  CA  ARG     1      19.100   9.567  88.974   60 ILE  20.846  11.146  88.492  19.911  10.833  88.632  18.699   8.834  87.767  17.791   9.948  89.713  17.696   9.826  90.932\n",
      "\n",
      "  113    2.386     8    1fioA    0.168    0.911(=113/124) (L_ali,Z,i,pdb,id,cov)\n",
      "\n",
      "ATOM      2  CA  ASP     2      29.939 -14.312 108.884    1 MET  31.773 -15.793 106.874  30.678 -15.383 108.080  29.850 -14.764 110.300  28.560 -14.063 108.261  28.444 -13.411 107.215\n",
      "\n",
      "  118    2.354     9   4egwA2    0.076    0.952(=118/124) (L_ali,Z,i,pdb,id,cov)\n",
      "\n",
      "ATOM      3  CA  ARG     3      35.363 -37.708 -11.989    1 ILE  34.518 -39.379 -10.493  34.624 -38.964 -11.450  35.650 -37.797 -13.426  36.491 -37.404 -11.018  36.361 -37.685  -9.828\n",
      "\n",
      "  119    2.322    10   2fji11    0.084    0.960(=119/124) (L_ali,Z,i,pdb,id,cov)\n",
      "\n",
      "ATOM      1  CA  ARG     1      62.795   7.834   5.726   79 ALA  63.573   6.677   5.151  63.573   6.677   5.151  63.673   8.988   5.875  62.109   7.404   7.024  60.906   7.121   7.033\n",
      "\n",
      "  124    2.290    11   1yvlB2    0.081    1.000(=124/124) (L_ali,Z,i,pdb,id,cov)\n",
      "\n",
      "ATOM      1  CA  ARG     1      -9.489 -56.601 182.643    1 MET  -9.516 -54.507 184.951  -8.682 -56.023 183.821  -9.012 -57.939 182.306  -9.388 -55.673 181.436 -10.353 -54.999 181.086\n",
      "\n",
      "  115    2.290    12    3uunA    0.104    0.927(=115/124) (L_ali,Z,i,pdb,id,cov)\n",
      "\n",
      "ATOM      2  CA  ASP     2     -64.985   8.837  -4.338    1 GLU -65.455  11.421  -6.724 -65.692   9.672  -5.411 -65.655   7.507  -4.139 -64.954   9.608  -3.029 -63.984  10.320  -2.737\n",
      "\n",
      "  122    2.258    13    6h2dP    0.090    0.984(=122/124) (L_ali,Z,i,pdb,id,cov)\n",
      "\n",
      "ATOM      1  CA  ARG     1      86.762  36.360  23.584   22 LEU  84.801  34.776  22.650  85.885  35.769  22.458  86.118  37.506  24.203  88.123  36.837  23.082  88.352  38.037  22.951\n",
      "\n",
      "  106    2.226    14    1xwmA    0.038    0.855(=106/124) (L_ali,Z,i,pdb,id,cov)\n",
      "\n",
      "ATOM      7  CA  GLU     7      68.702  53.018 -13.246    1 THR  70.117  52.390 -12.016  69.620  52.692 -12.008  68.942  54.394 -13.764  67.235  52.924 -12.813  66.684  51.829 -12.671\n",
      "\n",
      "  120    2.162    15    5oenB    0.067    0.968(=120/124) (L_ali,Z,i,pdb,id,cov)\n",
      "\n",
      "ATOM      5  CA  MET     5      27.015  62.897  23.985    1 GLN  29.103  63.047  21.350  28.288  63.071  23.154  27.117  63.631  25.241  26.755  61.420  24.272  27.450  60.807  25.081\n",
      "\n",
      "  115    2.130    16   4e40A1    0.087    0.927(=115/124) (L_ali,Z,i,pdb,id,cov)\n",
      "\n",
      "ATOM      1  CA  ARG     1      22.527 -14.649   1.100   15 ARG  24.419 -14.754   3.766  23.908 -15.257   0.885  21.504 -15.564   0.563  22.482 -13.266   0.450  22.448 -12.223   1.135\n",
      "\n",
      "  105    2.130    17    2odvA    0.105    0.847(=105/124) (L_ali,Z,i,pdb,id,cov)\n",
      "\n",
      "ATOM      1  CA  ARG     1      38.465   5.321  17.734  111 GLU  40.448   5.957  16.072  38.879   6.655  17.118  37.291   4.778  17.072  38.296   5.388  19.246  39.236   5.117  19.982\n",
      "\n",
      "  100    2.098    18   2odvA2    0.090    0.806(=100/124) (L_ali,Z,i,pdb,id,cov)\n",
      "\n",
      "ATOM      1  CA  ARG     1      44.325   0.344  24.847    2 LEU  45.537   1.679  22.869  44.869   1.582  24.135  42.948   0.032  24.453  44.417   0.532  26.365  45.334  -0.007  27.009\n",
      "\n",
      "  122    2.098    19   6h2dP1    0.090    0.984(=122/124) (L_ali,Z,i,pdb,id,cov)\n",
      "\n",
      "ATOM      1  CA  ARG     1      86.762  36.360  23.584   22 LEU  84.801  34.776  22.650  85.885  35.769  22.458  86.118  37.506  24.203  88.123  36.837  23.082  88.352  38.037  22.951\n",
      "\n",
      "  105    2.098    20   1fioA1    0.162    0.847(=105/124) (L_ali,Z,i,pdb,id,cov)\n",
      "\n",
      "ATOM      2  CA  ASP     2      29.939 -14.312 108.884    1 MET  31.773 -15.793 106.874  30.678 -15.383 108.080  29.850 -14.764 110.300  28.560 -14.063 108.261  28.444 -13.411 107.215\n",
      "\n"
     ]
    }
   ],
   "source": [
    "for line in f:\n",
    "    if line[:4] == \"ATOM\" :\n",
    "        for line_1 in f:\n",
    "            if line_1[:3] == \"TER\":\n",
    "                break\n",
    "    print(line)"
   ]
  },
  {
   "cell_type": "code",
   "execution_count": 37,
   "metadata": {},
   "outputs": [],
   "source": [
    "f.close()"
   ]
  },
  {
   "cell_type": "code",
   "execution_count": 8,
   "metadata": {},
   "outputs": [],
   "source": [
    "import os"
   ]
  },
  {
   "cell_type": "code",
   "execution_count": 38,
   "metadata": {},
   "outputs": [],
   "source": [
    "f = open(os.path.join(template_library,\"2dnxA\"+\".pdb\"),'rb')"
   ]
  },
  {
   "cell_type": "code",
   "execution_count": 70,
   "metadata": {},
   "outputs": [
    {
     "data": {
      "text/plain": [
       "b'ATOM     15  CB  SER     3      14.894 -19.016  11.602\\n'"
      ]
     },
     "execution_count": 70,
     "metadata": {},
     "output_type": "execute_result"
    }
   ],
   "source": [
    "f.readline()"
   ]
  },
  {
   "cell_type": "code",
   "execution_count": 71,
   "metadata": {},
   "outputs": [
    {
     "data": {
      "text/plain": [
       "825"
      ]
     },
     "execution_count": 71,
     "metadata": {},
     "output_type": "execute_result"
    }
   ],
   "source": [
    "f.tell()"
   ]
  },
  {
   "cell_type": "code",
   "execution_count": 61,
   "metadata": {},
   "outputs": [
    {
     "data": {
      "text/plain": [
       "550"
      ]
     },
     "execution_count": 61,
     "metadata": {},
     "output_type": "execute_result"
    }
   ],
   "source": [
    "f.seek(-55,1)"
   ]
  },
  {
   "cell_type": "code",
   "execution_count": 29,
   "metadata": {},
   "outputs": [],
   "source": [
    "f.close()"
   ]
  }
 ],
 "metadata": {
  "kernelspec": {
   "display_name": "Python 3",
   "language": "python",
   "name": "python3"
  },
  "language_info": {
   "codemirror_mode": {
    "name": "ipython",
    "version": 3
   },
   "file_extension": ".py",
   "mimetype": "text/x-python",
   "name": "python",
   "nbconvert_exporter": "python",
   "pygments_lexer": "ipython3",
   "version": "3.7.6"
  }
 },
 "nbformat": 4,
 "nbformat_minor": 4
}
