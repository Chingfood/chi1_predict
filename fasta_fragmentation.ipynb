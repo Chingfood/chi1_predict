{
 "cells": [
  {
   "cell_type": "code",
   "execution_count": 1,
   "metadata": {},
   "outputs": [],
   "source": [
    "fasta_dir = \"/home/chingyuenliu/fasta_library_30\"\n",
    "\n",
    "fasta_big_dir = \"/home/chingyuenliu/fasta_library_30_too_big\"\n",
    "\n",
    "fasta_npy_dir =\"/home/chingyuenliu/fasta_library_30_npy\""
   ]
  },
  {
   "cell_type": "code",
   "execution_count": null,
   "metadata": {},
   "outputs": [],
   "source": [
    "import os\n",
    "import numpy as np\n",
    "\n",
    "directory = os.fsencode(fasta_dir)\n",
    "\n",
    "for file in os.listdir(directory):\n",
    "    filename = os.fsdecode(file)\n",
    "    if filename.endswith(\".fasta\"):\n",
    "        f = open(os.path.join(fasta_dir,filename),'r')\n",
    "        first = f.readline().replace('\\n','').split()\n",
    "        \n",
    "        "
   ]
  },
  {
   "cell_type": "code",
   "execution_count": 7,
   "metadata": {},
   "outputs": [],
   "source": [
    "import os\n",
    "import numpy as np\n",
    "\n",
    "directory = os.fsencode(label_dir)\n",
    "\n",
    "for file in os.listdir(directory):\n",
    "    filename = os.fsdecode(file)\n",
    "    if filename.endswith(\".npy\"):\n",
    "        a = np.load(os.path.join(label_dir,filename))\n",
    "        length = a.shape[0]\n",
    "        quotient = length //300\n",
    "        \n",
    "        if length <=300:\n",
    "            continue\n",
    "        else:\n",
    "            for i in range(quotient):\n",
    "                np.save(os.path.join(label_dir,filename[:-4]+\"_\"+str(i+1)),a[i*(length//(quotient+1)):(i+1)*(length//(quotient+1))])\n",
    "            \n",
    "            np.save(os.path.join(label_dir,filename[:-4]+\"_\"+str(quotient+1)),a[quotient*(length//(quotient+1)):])\n",
    "            \n",
    "            os.rename(os.path.join(label_dir,filename),os.path.join(big_label_dir,filename))\n"
   ]
  },
  {
   "cell_type": "code",
   "execution_count": null,
   "metadata": {},
   "outputs": [],
   "source": [
    "import os\n",
    "import numpy as np\n",
    "\n",
    "directory = os.fsencode(label_dir)\n",
    "\n",
    "for file in os.listdir(directory):\n",
    "    filename = os.fsdecode(file)\n",
    "    if filename.endswith(\".npy\"):\n",
    "        a = np.load(os.path.join(label_dir,filename))\n",
    "        length = a.shape[0]\n",
    "        \n",
    "        if length > 300 and length < 600:\n",
    "            b = np.load(os.path.join(cov_dir,filename))\n",
    "            np.save(os.path.join(cov_dir,filename[:-4]+\"_1\"), np.expand_dims(b[0,:length//2,:length//2,:],0))\n",
    "            np.save(os.path.join(cov_dir,filename[:-4]+\"_2\"), np.expand_dims(b[0,length//2:,length//2:,:],0))        \n",
    "            np.save(os.path.join(label_dir,filename[:-4]+\"_1\"),np.expand_dims(a[0,:length//2],0))\n",
    "            np.save(os.path.join(label_dir,filename[:-4]+\"_2\"),np.expand_dims(a[0,length//2:],0))\n",
    "            os.rename(os.path.join(label_dir,filename),os.path.join(big_label_dir,filename))\n",
    "            os.rename(os.path.join(cov_dir,filename),os.path.join(big_cov_dir,filename))\n",
    "        if length > 600 and length < 900:\n",
    "            b = np.load(os.path.join(cov_dir,filename))\n",
    "\n",
    "            np.save(os.path.join(cov_dir,filename[:-4]+\"_1\"), np.expand_dims(b[0,:length//3,:length//3,:],0))\n",
    "            np.save(os.path.join(cov_dir,filename[:-4]+\"_2\"), np.expand_dims(b[0,length//3:2*length//3,length//3:2*le\n",
    "ngth//3,:],0))\n",
    "            np.save(os.path.join(cov_dir,filename[:-4]+\"_3\"), np.expand_dims(b[0,2*length//3:,2*length//3:,:],0))\n",
    "\n",
    "            np.save(os.path.join(label_dir,filename[:-4]+\"_1\"),np.expand_dims(a[0,:length//3],0))\n",
    "            np.save(os.path.join(label_dir,filename[:-4]+\"_2\"),np.expand_dims(a[0,length//3:2*length//3],0))\n",
    "            np.save(os.path.join(label_dir,filename[:-4]+\"_2\"),np.expand_dims(a[0,2*length//3:],0))\n",
    "\n",
    "            os.rename(os.path.join(label_dir,filename),os.path.join(big_label_dir,filename))\n",
    "            os.rename(os.path.join(cov_dir,filename),os.path.join(big_cov_dir,filename))\n",
    "\n",
    "        if length > 900 and length < 1200:\n",
    "            b = np.load(os.path.join(cov_dir,filename))\n",
    "\n",
    "            np.save(os.path.join(cov_dir,filename[:-4]+\"_1\"), np.expand_dims(b[0,:length//4,:length//4,:],0))\n",
    "            np.save(os.path.join(cov_dir,filename[:-4]+\"_2\"), np.expand_dims(b[0,length//4:2*length//4,length//4:2*le\n",
    "ngth//4,:],0))\n",
    "            np.save(os.path.join(cov_dir,filename[:-4]+\"_3\"), np.expand_dims(b[0,2*length//4:3*length//4,2*length//4:\n",
    "3*length//4,:],0))\n",
    "            np.save(os.path.join(cov_dir,filename[:-4]+\"_4\"), np.expand_dims(b[0,3*length//4:,3*length//4:,:],0))\n",
    "\n",
    "            np.save(os.path.join(label_dir,filename[:-4]+\"_1\"),np.expand_dims(a[0,:length//4],0))\n",
    "            np.save(os.path.join(label_dir,filename[:-4]+\"_2\"),np.expand_dims(a[0,length//3:2*length//4],0))\n",
    "            np.save(os.path.join(label_dir,filename[:-4]+\"_3\"),np.expand_dims(a[0,2*length//3:3*length//4],0))\n",
    "            np.save(os.path.join(label_dir,filename[:-4]+\"_4\"),np.expand_dims(a[0,3*length//4:],0))\n",
    "\n",
    "            os.rename(os.path.join(label_dir,filename),os.path.join(big_label_dir,filename))\n",
    "            os.rename(os.path.join(cov_dir,filename),os.path.join(big_cov_dir,filename))"
   ]
  }
 ],
 "metadata": {
  "kernelspec": {
   "display_name": "Python 3",
   "language": "python",
   "name": "python3"
  },
  "language_info": {
   "codemirror_mode": {
    "name": "ipython",
    "version": 3
   },
   "file_extension": ".py",
   "mimetype": "text/x-python",
   "name": "python",
   "nbconvert_exporter": "python",
   "pygments_lexer": "ipython3",
   "version": "3.7.6"
  }
 },
 "nbformat": 4,
 "nbformat_minor": 4
}
