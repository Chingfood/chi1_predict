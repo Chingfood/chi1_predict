{
 "cells": [
  {
   "cell_type": "code",
   "execution_count": 27,
   "metadata": {},
   "outputs": [],
   "source": [
    "import tensorflow as tf"
   ]
  },
  {
   "cell_type": "code",
   "execution_count": 28,
   "metadata": {},
   "outputs": [],
   "source": [
    "import pathlib"
   ]
  },
  {
   "cell_type": "code",
   "execution_count": 29,
   "metadata": {},
   "outputs": [],
   "source": [
    "import os"
   ]
  },
  {
   "cell_type": "code",
   "execution_count": 30,
   "metadata": {},
   "outputs": [],
   "source": [
    "import numpy as np"
   ]
  },
  {
   "cell_type": "code",
   "execution_count": 31,
   "metadata": {},
   "outputs": [],
   "source": [
    "data_dir = pathlib.Path(\"/nfs/amino-home/qingyliu/dihedral_angle/conv_ML_input\")"
   ]
  },
  {
   "cell_type": "code",
   "execution_count": 32,
   "metadata": {},
   "outputs": [
    {
     "data": {
      "text/plain": [
       "[PosixPath('/nfs/amino-home/qingyliu/dihedral_angle/conv_ML_input/4m5dA.npy'),\n",
       " PosixPath('/nfs/amino-home/qingyliu/dihedral_angle/conv_ML_input/5xgtA.npy'),\n",
       " PosixPath('/nfs/amino-home/qingyliu/dihedral_angle/conv_ML_input/6q58A.npy'),\n",
       " PosixPath('/nfs/amino-home/qingyliu/dihedral_angle/conv_ML_input/4cvuA.npy'),\n",
       " PosixPath('/nfs/amino-home/qingyliu/dihedral_angle/conv_ML_input/1hp1A.npy'),\n",
       " PosixPath('/nfs/amino-home/qingyliu/dihedral_angle/conv_ML_input/6p0cA.npy'),\n",
       " PosixPath('/nfs/amino-home/qingyliu/dihedral_angle/conv_ML_input/1qsaA.npy'),\n",
       " PosixPath('/nfs/amino-home/qingyliu/dihedral_angle/conv_ML_input/4hvtA.npy'),\n",
       " PosixPath('/nfs/amino-home/qingyliu/dihedral_angle/conv_ML_input/5mq6A.npy'),\n",
       " PosixPath('/nfs/amino-home/qingyliu/dihedral_angle/conv_ML_input/4ccdA.npy'),\n",
       " PosixPath('/nfs/amino-home/qingyliu/dihedral_angle/conv_ML_input/3aj7A.npy'),\n",
       " PosixPath('/nfs/amino-home/qingyliu/dihedral_angle/conv_ML_input/5yp4A.npy'),\n",
       " PosixPath('/nfs/amino-home/qingyliu/dihedral_angle/conv_ML_input/1mpxA.npy'),\n",
       " PosixPath('/nfs/amino-home/qingyliu/dihedral_angle/conv_ML_input/6cpuA.npy'),\n",
       " PosixPath('/nfs/amino-home/qingyliu/dihedral_angle/conv_ML_input/6mltA.npy'),\n",
       " PosixPath('/nfs/amino-home/qingyliu/dihedral_angle/conv_ML_input/4hhrA.npy')]"
      ]
     },
     "execution_count": 32,
     "metadata": {},
     "output_type": "execute_result"
    }
   ],
   "source": [
    "list(data_dir.glob('*.npy'))"
   ]
  },
  {
   "cell_type": "code",
   "execution_count": 33,
   "metadata": {},
   "outputs": [],
   "source": [
    "list_ds = tf.data.Dataset.list_files(str(data_dir/'*'))"
   ]
  },
  {
   "cell_type": "code",
   "execution_count": 34,
   "metadata": {},
   "outputs": [
    {
     "name": "stdout",
     "output_type": "stream",
     "text": [
      "tf.Tensor(b'/nfs/amino-home/qingyliu/dihedral_angle/conv_ML_input/1qsaA.npy', shape=(), dtype=string)\n",
      "tf.Tensor(b'/nfs/amino-home/qingyliu/dihedral_angle/conv_ML_input/6p0cA.npy', shape=(), dtype=string)\n",
      "tf.Tensor(b'/nfs/amino-home/qingyliu/dihedral_angle/conv_ML_input/4cvuA.npy', shape=(), dtype=string)\n",
      "tf.Tensor(b'/nfs/amino-home/qingyliu/dihedral_angle/conv_ML_input/4m5dA.npy', shape=(), dtype=string)\n",
      "tf.Tensor(b'/nfs/amino-home/qingyliu/dihedral_angle/conv_ML_input/4hvtA.npy', shape=(), dtype=string)\n"
     ]
    }
   ],
   "source": [
    "for f in list_ds.take(5):\n",
    "    print(f)"
   ]
  },
  {
   "cell_type": "markdown",
   "metadata": {},
   "source": [
    "def get_label(file_path):\n",
    "    parts = tf.strings.split(file_path, os.path.sep)\n",
    "    dir_path = \"/nfs/amino-home/qingyliu/dihedral_angle/chi1_label\"\n",
    "    return np.load(os.path.join(dir_path,label.numpy()[-1].decode(\"utf-8\")))"
   ]
  },
  {
   "cell_type": "markdown",
   "metadata": {},
   "source": [
    "def process_path(file_path):\n",
    "    label = get_label(file_path)\n",
    "  # load the raw data from the file as a string\n",
    "    print(file_path)\n",
    "    cov = np.load(file_path.numpy())\n",
    "\n",
    "    return cov, label"
   ]
  },
  {
   "cell_type": "markdown",
   "metadata": {},
   "source": [
    "labeled_ds = list_ds.map(process_path)"
   ]
  },
  {
   "cell_type": "code",
   "execution_count": 51,
   "metadata": {},
   "outputs": [],
   "source": [
    "def get_label(file_path):\n",
    "  # convert the path to a list of path components\n",
    "    print(file_path)\n",
    "    parts = tf.strings.split(file_path, os.path.sep)\n",
    "  # The second to last is the class-directory\n",
    "    return parts"
   ]
  },
  {
   "cell_type": "code",
   "execution_count": 54,
   "metadata": {},
   "outputs": [],
   "source": [
    "def process_path(file_path):\n",
    "    label = get_label(file_path)\n",
    "    print(file_path)\n",
    "  # load the raw data from the file as a string\n",
    "    img = file_path\n",
    "    print(label)\n",
    "    print(img)\n",
    "    return img, label\n"
   ]
  },
  {
   "cell_type": "code",
   "execution_count": 55,
   "metadata": {},
   "outputs": [
    {
     "name": "stdout",
     "output_type": "stream",
     "text": [
      "Tensor(\"args_0:0\", shape=(), dtype=string)\n",
      "Tensor(\"args_0:0\", shape=(), dtype=string)\n",
      "Tensor(\"StringSplit/RaggedGetItem/strided_slice_5:0\", shape=(None,), dtype=string)\n",
      "Tensor(\"args_0:0\", shape=(), dtype=string)\n"
     ]
    }
   ],
   "source": [
    "labeled_ds = list_ds.map(process_path)"
   ]
  },
  {
   "cell_type": "code",
   "execution_count": 42,
   "metadata": {},
   "outputs": [
    {
     "name": "stdout",
     "output_type": "stream",
     "text": [
      "Image shape:  b'/nfs/amino-home/qingyliu/dihedral_angle/conv_ML_input/4cvuA.npy'\n",
      "Label:  [b'' b'nfs' b'amino-home' b'qingyliu' b'dihedral_angle' b'conv_ML_input'\n",
      " b'4cvuA.npy']\n"
     ]
    }
   ],
   "source": [
    "for image, label in labeled_ds.take(1):\n",
    "    print(\"Image shape: \", image.numpy())\n",
    "    print(\"Label: \", label.numpy())"
   ]
  },
  {
   "cell_type": "code",
   "execution_count": 22,
   "metadata": {},
   "outputs": [
    {
     "data": {
      "text/plain": [
       "(1, 724, 724, 526)"
      ]
     },
     "execution_count": 22,
     "metadata": {},
     "output_type": "execute_result"
    }
   ],
   "source": [
    "a.shape"
   ]
  },
  {
   "cell_type": "code",
   "execution_count": 23,
   "metadata": {},
   "outputs": [
    {
     "data": {
      "text/plain": [
       "(1, 724)"
      ]
     },
     "execution_count": 23,
     "metadata": {},
     "output_type": "execute_result"
    }
   ],
   "source": [
    "b.shape"
   ]
  }
 ],
 "metadata": {
  "kernelspec": {
   "display_name": "Python 3",
   "language": "python",
   "name": "python3"
  },
  "language_info": {
   "codemirror_mode": {
    "name": "ipython",
    "version": 3
   },
   "file_extension": ".py",
   "mimetype": "text/x-python",
   "name": "python",
   "nbconvert_exporter": "python",
   "pygments_lexer": "ipython3",
   "version": "3.7.4"
  }
 },
 "nbformat": 4,
 "nbformat_minor": 4
}
