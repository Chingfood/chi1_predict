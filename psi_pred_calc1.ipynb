{
 "cells": [
  {
   "cell_type": "code",
   "execution_count": 1,
   "metadata": {},
   "outputs": [],
   "source": [
    "import subprocess\n",
    "\n",
    "execdir = \"/nfs/amino-home/qingyliu/psipred/current/bin\"\n",
    "\n",
    "fasta_list = \"/nfs/amino-home/qingyliu/dihedral_angle/template_list\"\n"
   ]
  },
  {
   "cell_type": "code",
   "execution_count": 2,
   "metadata": {},
   "outputs": [],
   "source": [
    "def psi_pred(line):\n",
    "    with open(\"/nfs/amino-home/qingyliu/dihedral_angle/PSSM_library/\"+line+\".ss\",'w') as f:\n",
    "        subprocess.run([execdir+\"/psipred\", line+\".mtx\", execdir+\"/weights.dat\", execdir+\"/weights.dat2\",execdir+\"/weights.dat3\"], stdout =f)\n",
    "    with open(\"/nfs/amino-home/qingyliu/dihedral_angle/PSSM_library/\"+line+\".horiz\",'w') as f:\n",
    "        subprocess.run([execdir+\"/psipass2\", execdir+\"/weights_p2.dat\",\"1\",\"1.0\",\"1.0\", \"/nfs/amino-home/qingyliu/dihedral_angle/PSSM_library/\"+line+\".ss2\", \"/nfs/amino-home/qingyliu/dihedral_angle/PSSM_library/\"+line+\".ss\"], stdout =f)\n"
   ]
  },
  {
   "cell_type": "code",
   "execution_count": null,
   "metadata": {},
   "outputs": [],
   "source": [
    "with open(fasta_list,)"
   ]
  }
 ],
 "metadata": {
  "kernelspec": {
   "display_name": "Python 3",
   "language": "python",
   "name": "python3"
  },
  "language_info": {
   "codemirror_mode": {
    "name": "ipython",
    "version": 3
   },
   "file_extension": ".py",
   "mimetype": "text/x-python",
   "name": "python",
   "nbconvert_exporter": "python",
   "pygments_lexer": "ipython3",
   "version": "3.7.3"
  }
 },
 "nbformat": 4,
 "nbformat_minor": 2
}
