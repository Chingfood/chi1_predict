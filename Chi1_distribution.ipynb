{
 "cells": [
  {
   "cell_type": "code",
   "execution_count": 5,
   "metadata": {},
   "outputs": [],
   "source": [
    "import numpy as np"
   ]
  },
  {
   "cell_type": "code",
   "execution_count": 21,
   "metadata": {},
   "outputs": [],
   "source": [
    "directory_path =\"/nfs/amino-home/qingyliu/dihedral_angle/chi1_dataset\""
   ]
  },
  {
   "cell_type": "code",
   "execution_count": 22,
   "metadata": {},
   "outputs": [],
   "source": [
    "chi1_distri_dataset = {}"
   ]
  },
  {
   "cell_type": "code",
   "execution_count": 26,
   "metadata": {},
   "outputs": [],
   "source": [
    "def range_determine(deg):\n",
    "    try:\n",
    "        deg = float(deg)\n",
    "    except:\n",
    "        return 3\n",
    "        \n",
    "    if (deg <0):\n",
    "        deg = deg +360\n",
    "    if deg>=0 and deg <120:\n",
    "        return 0\n",
    "    elif deg>=120 and deg <240:\n",
    "        return 1\n",
    "    elif deg>=240 and deg <360:\n",
    "        return 2\n",
    "    else:\n",
    "        return 3"
   ]
  },
  {
   "cell_type": "code",
   "execution_count": 28,
   "metadata": {},
   "outputs": [],
   "source": [
    "import os\n",
    "\n",
    "directory = os.fsencode(directory_path)\n",
    "\n",
    "for file in os.listdir(directory):\n",
    "    filename = os.fsdecode(file)\n",
    "    with open(os.path.join(directory_path, filename)) as f:\n",
    "        for line in f:\n",
    "            line = line.replace('\\n','').split()\n",
    "            if len(line) < 2:\n",
    "                continue\n",
    "            else:\n",
    "                if line[0] in chi1_distri_dataset:\n",
    "                    chi1_distri_dataset[line[0]][range_determine(line[1])] +=1\n",
    "                else:\n",
    "                    chi1_distri_dataset[line[0]] = [0,0,0,0]\n",
    "                    chi1_distri_dataset[line[0]][range_determine(line[1])] +=1"
   ]
  },
  {
   "cell_type": "code",
   "execution_count": 46,
   "metadata": {},
   "outputs": [],
   "source": [
    "\n",
    "f = open(\"Chi1_dataset.pkl\",\"wb\")\n",
    "pickle.dump(chi1_distri_dataset,f)\n",
    "f.close()"
   ]
  },
  {
   "cell_type": "code",
   "execution_count": 1,
   "metadata": {},
   "outputs": [],
   "source": [
    "import pickle"
   ]
  },
  {
   "cell_type": "code",
   "execution_count": 2,
   "metadata": {},
   "outputs": [],
   "source": [
    "f1 = open(\"Chi1_dataset.pkl\",\"rb\")\n",
    "b = pickle.load(f1)\n",
    "f1.close()"
   ]
  },
  {
   "cell_type": "code",
   "execution_count": 3,
   "metadata": {},
   "outputs": [
    {
     "data": {
      "text/plain": [
       "{'VAL': [51939, 417919, 106340, 0],\n",
       " 'LEU': [15258, 250832, 494571, 0],\n",
       " 'PRO': [188640, 26, 183301, 0],\n",
       " 'ASN': [48074, 103333, 193032, 0],\n",
       " 'THR': [206206, 42455, 191355, 0],\n",
       " 'GLU': [51508, 178255, 301167, 0],\n",
       " 'ASP': [76002, 153651, 239042, 0],\n",
       " 'PHE': [36532, 114741, 178441, 0],\n",
       " 'LYS': [37198, 157552, 263293, 0],\n",
       " 'ILE': [62782, 46550, 361788, 0],\n",
       " 'SER': [220355, 123707, 145381, 0],\n",
       " 'ARG': [40152, 144103, 231406, 0],\n",
       " 'TYR': [32865, 101094, 151026, 0],\n",
       " 'GLN': [24925, 93490, 177765, 0],\n",
       " 'TRP': [17334, 38953, 56025, 0],\n",
       " 'HIS': [24301, 63949, 102776, 0],\n",
       " 'MET': [14621, 53745, 108906, 0],\n",
       " 'CYS': [19724, 30930, 57702, 0],\n",
       " 'UNK': [392, 11, 1, 0],\n",
       " 'ASX': [0, 0, 3, 0],\n",
       " 'PYL': [0, 1, 0, 0]}"
      ]
     },
     "execution_count": 3,
     "metadata": {},
     "output_type": "execute_result"
    }
   ],
   "source": [
    "b"
   ]
  },
  {
   "cell_type": "code",
   "execution_count": 24,
   "metadata": {},
   "outputs": [
    {
     "data": {
      "text/plain": [
       "51939"
      ]
     },
     "execution_count": 24,
     "metadata": {},
     "output_type": "execute_result"
    }
   ],
   "source": [
    "b['VAL'][0]"
   ]
  },
  {
   "cell_type": "code",
   "execution_count": 19,
   "metadata": {},
   "outputs": [],
   "source": [
    "norm_b = {}"
   ]
  },
  {
   "cell_type": "code",
   "execution_count": 25,
   "metadata": {},
   "outputs": [],
   "source": [
    "for res in b.keys():\n",
    "    norm_b[res] = []\n",
    "    for i in range(3):\n",
    "        norm_b[res].append(b[res][i]/sum(b[res]))\n",
    "        "
   ]
  },
  {
   "cell_type": "code",
   "execution_count": 26,
   "metadata": {},
   "outputs": [
    {
     "data": {
      "text/plain": [
       "{'VAL': [0.0901408890693824, 0.7253044960239362, 0.18455461490668137],\n",
       " 'LEU': [0.020058869851352967, 0.32975530492558447, 0.6501858252230626],\n",
       " 'PRO': [0.5071417625757123, 6.989867380708504e-05, 0.49278833875048056],\n",
       " 'ASN': [0.13957188355557879, 0.30000377425320596, 0.5604243421912153],\n",
       " 'THR': [0.46863295880149813, 0.09648512781353405, 0.43488191338496784],\n",
       " 'GLU': [0.09701467236735539, 0.33574105814325805, 0.5672442694893866],\n",
       " 'ASP': [0.16215662637749495, 0.3278272650657677, 0.5100161085567373],\n",
       " 'PHE': [0.11079905615169511, 0.3480016013878695, 0.5411993424604354],\n",
       " 'LYS': [0.08121071602447805, 0.3439677060887297, 0.5748215778867923],\n",
       " 'ILE': [0.13326116488368145, 0.09880709797928341, 0.7679317371370351],\n",
       " 'SER': [0.45021585761774097, 0.2527505756543663, 0.2970335667278927],\n",
       " 'ARG': [0.09659794880924599, 0.3466839563971602, 0.5567180947935938],\n",
       " 'TYR': [0.1153218590452129, 0.3547344597084057, 0.5299436812463814],\n",
       " 'GLN': [0.0841549058005267, 0.31565264366263757, 0.6001924505368357],\n",
       " 'TRP': [0.1543379158059691, 0.34682847781181, 0.49883360638222096],\n",
       " 'HIS': [0.12721304953252438, 0.3347659480908358, 0.5380210023766399],\n",
       " 'MET': [0.08247777426779186, 0.3031781668847872, 0.6143440588474209],\n",
       " 'CYS': [0.18202960611318247, 0.2854479678098121, 0.5325224260770054],\n",
       " 'UNK': [0.9702970297029703, 0.027227722772277228, 0.0024752475247524753],\n",
       " 'ASX': [0.0, 0.0, 1.0],\n",
       " 'PYL': [0.0, 1.0, 0.0]}"
      ]
     },
     "execution_count": 26,
     "metadata": {},
     "output_type": "execute_result"
    }
   ],
   "source": [
    "norm_b"
   ]
  }
 ],
 "metadata": {
  "kernelspec": {
   "display_name": "Python 3",
   "language": "python",
   "name": "python3"
  },
  "language_info": {
   "codemirror_mode": {
    "name": "ipython",
    "version": 3
   },
   "file_extension": ".py",
   "mimetype": "text/x-python",
   "name": "python",
   "nbconvert_exporter": "python",
   "pygments_lexer": "ipython3",
   "version": "3.7.3"
  }
 },
 "nbformat": 4,
 "nbformat_minor": 2
}
