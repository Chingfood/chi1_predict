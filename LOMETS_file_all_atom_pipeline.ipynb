{
 "cells": [
  {
   "cell_type": "code",
   "execution_count": 491,
   "metadata": {},
   "outputs": [],
   "source": [
    "LOMETS_file = \"/home/chingyuenliu/LOMETS_library_ZW/d1ez3a_/initall.CET\""
   ]
  },
  {
   "cell_type": "code",
   "execution_count": 512,
   "metadata": {},
   "outputs": [],
   "source": [
    "new_file = \"/home/chingyuenliu/LOMETS_library_ZW/d1ez3a_/initall_2.CET\""
   ]
  },
  {
   "cell_type": "code",
   "execution_count": 493,
   "metadata": {},
   "outputs": [],
   "source": [
    "template_library = \"/home/chingyuenliu/sample_pdb_library\""
   ]
  },
  {
   "cell_type": "code",
   "execution_count": 513,
   "metadata": {},
   "outputs": [],
   "source": [
    "index = 2"
   ]
  },
  {
   "cell_type": "code",
   "execution_count": 514,
   "metadata": {},
   "outputs": [],
   "source": [
    "f = open(LOMETS_file,'r')\n",
    "f1 = open(new_file,'w')"
   ]
  },
  {
   "cell_type": "code",
   "execution_count": 515,
   "metadata": {},
   "outputs": [
    {
     "data": {
      "text/plain": [
       "26"
      ]
     },
     "execution_count": 515,
     "metadata": {},
     "output_type": "execute_result"
    }
   ],
   "source": [
    "f1.write(f.readline())"
   ]
  },
  {
   "cell_type": "code",
   "execution_count": 497,
   "metadata": {},
   "outputs": [],
   "source": [
    "def operation_3(line_spl):\n",
    "    return line_spl[3]"
   ]
  },
  {
   "cell_type": "code",
   "execution_count": 498,
   "metadata": {},
   "outputs": [],
   "source": [
    "def operation_4(line,line_spl,line_dict):\n",
    "    coord_list = operation_5(line_spl[9],index,line_dict,line_spl[10:13])\n",
    "    ori = \"{0} {1:6d} {2:>3} {3:>4} {4:5d}    {5:8.3f} {6:8.3f} {7:8.3f} {8:4d} {9}\".format(line_spl[0],int(line_spl[1]),line_spl[2],\n",
    "                                                                                            line_spl[3],int(line_spl[4]),coord_list[0][0],\n",
    "                                                                                            coord_list[0][1],coord_list[0][2],\n",
    "                                                                                            int(line_spl[8]),line_spl[9])\n",
    "    addi = \"\"\n",
    "    for i in range(1,index+1):\n",
    "        if coord_list[i][0] != 'NA':\n",
    "            addi = addi + \" {:8.3f} {:8.3f} {:8.3f}\".format(coord_list[i][0],coord_list[i][1],coord_list[i][2])\n",
    "        else:\n",
    "            addi = addi + \" {:>8} {:>8} {:>8}\".format(coord_list[i][0],coord_list[i][1],coord_list[i][2])\n",
    "    return ori+addi    \n",
    "                                                                                            "
   ]
  },
  {
   "cell_type": "code",
   "execution_count": 499,
   "metadata": {},
   "outputs": [],
   "source": [
    "def operation_5(AA,index,line_dict,geo_cent):\n",
    "    aa_dict = {'GLY':['N','CA','C','O'],\n",
    "               'ALA':['N','CA','C','O','CB'],\n",
    "               'ASP':['N','CA','C','O','CB','CG','OD1','OD2'],\n",
    "               'ASN':['N','CA','C','O','CB','CG','OD1','ND2'],\n",
    "               'ARG':['N','CA','C','O','CB','CG','CD','NE','CZ','NH1','NH2'],\n",
    "               'CYS':['N','CA','C','O','CB','SG'],\n",
    "               'GLU':['N','CA','C','O','CB','CG','CD','OE1','OE2'],\n",
    "               'GLN':['N','CA','C','O','CB','CG','CD','OE1','NE2'],\n",
    "               'HIS':['N','CA','C','O','CB','CG','ND1','CD2','CE1','NE2'],\n",
    "               'HYP':['N','CA','C','O','CB','CG','CD','OD'],\n",
    "               'ILE':['N','CA','C','O','CB','CG1','CG2','CD1'],\n",
    "               'LEU':['N','CA','C','O','CB','CG','CD1','CD2'],\n",
    "               'LYS':['N','CA','C','O','CB','CG','CD','CE','NZ'],\n",
    "               'MET':['N','CA','C','O','CB','CG','SD','CE'],\n",
    "               'PHE':['N','CA','C','O','CB','CG','CD1','CD2','CE1','CE2','CZ'],\n",
    "               'PRO':['N','CA','C','O','CB','CG','CD'],\n",
    "               'SER':['N','CA','C','O','CB','OG'],\n",
    "               'THR':['N','CA','C','O','CB','OG1','CG2'],\n",
    "               'TRP':['N','CA','C','O','CB','CG','CD1','CD2','NE1','CE2','CE3','CZ2','CZ3','CH2'],\n",
    "               'TYR':['N','CA','C','O','CB','CG','CD1','CD2','CE1','CE2','CZ','OH'],\n",
    "               'VAL':['N','CA','C','O','CB','CG1','CG2']   }\n",
    "    \n",
    "    if AA == 'HIS':\n",
    "        if 'AE1' in line_dict:\n",
    "            line_dict['CE1'] = line_dict['AE1']\n",
    "            line_dict.pop('AE1')\n",
    "        if 'AE2' in line_dict:\n",
    "            line_dict['NE2'] = line_dict['AE2']\n",
    "            line_dict.pop('AE2')\n",
    "    \n",
    "    if AA == 'ASN':\n",
    "        if 'AD1' in line_dict:\n",
    "            line_dict['OD1'] = line_dict['AD1']\n",
    "            line_dict.pop('AD1')\n",
    "        if 'AD2' in line_dict:\n",
    "            line_dict['ND2'] = line_dict['AD2']\n",
    "            line_dict.pop('AD2')\n",
    "            \n",
    "    if AA == 'GLN':\n",
    "        if 'AE1' in line_dict:\n",
    "            line_dict['OE1'] = line_dict['AE1']\n",
    "            line_dict.pop('AE1')\n",
    "        if 'AE2' in line_dict:\n",
    "            line_dict['NE2'] = line_dict['AE2']\n",
    "            line_dict.pop('AE2')\n",
    "    \n",
    "    for atom in aa_dict[AA]:\n",
    "        if atom in line_dict:\n",
    "            continue\n",
    "        else:\n",
    "            line_dict[atom] =['NA','NA','NA']\n",
    "    \n",
    "    coord_list = []\n",
    "    coord_list.append(line_dict['CA'])\n",
    "    if index >=1:\n",
    "        if geo_cent[0] == 'NA':\n",
    "            coord_list.append(geo_cent)\n",
    "        else:\n",
    "            coord_list.append([float(i) for i in geo_cent])\n",
    "    if index >= 2:\n",
    "        if AA == 'GLY':\n",
    "            coord_list.append(['NA','NA','NA'])\n",
    "        else:\n",
    "            coord_list.append(line_dict['CB'])\n",
    "    if index >= 3:\n",
    "        coord_list.append(line_dict['N'])\n",
    "    if index >= 4:\n",
    "        coord_list.append(line_dict['C'])\n",
    "    if index >= 5:\n",
    "        coord_list.append(line_dict['O'])\n",
    "    if index >= 6:\n",
    "        if index > len(aa_dict[AA]):\n",
    "            for atom_idx in range(5,len(aa_dict[AA])):\n",
    "                coord_list.append(line_dict[aa_dict[AA][atom_idx]])\n",
    "            for count in range(len(aa_dict[AA]),index):\n",
    "                coord_list.append(['NA','NA','NA'])\n",
    "        else:\n",
    "            for atom_idx in range(5,index):\n",
    "                coord_list.append(line_dict[aa_dict[AA][atom_idx]])\n",
    "    return coord_list"
   ]
  },
  {
   "cell_type": "code",
   "execution_count": 516,
   "metadata": {},
   "outputs": [],
   "source": [
    "pdb_id = \"\""
   ]
  },
  {
   "cell_type": "code",
   "execution_count": 509,
   "metadata": {},
   "outputs": [],
   "source": [
    "import os"
   ]
  },
  {
   "cell_type": "code",
   "execution_count": 517,
   "metadata": {},
   "outputs": [],
   "source": [
    "for line in f:\n",
    "    line_spl = line.replace('\\n','').split()\n",
    "    if line_spl[0] == \"ATOM\":\n",
    "        f_pdb = open(os.path.join(template_library,pdb_id+\".pdb\"), 'r')\n",
    "        while(line):\n",
    "            \n",
    "            line_dict={}\n",
    "            while(1):\n",
    "                line_pdb =f_pdb.readline()\n",
    "                if line_pdb[:4] != \"ATOM\"  and line_pdb[:3] != \"TER\":\n",
    "                    continue\n",
    "                else:\n",
    "                    line_pdb_spl = line_pdb.replace('\\n','').split()\n",
    "                    if line_pdb[:3] == \"TER\":\n",
    "                        \n",
    "                        f_pdb.seek(f_pdb.tell()-55,0)\n",
    "\n",
    "                        new_line = operation_4(line,line_spl,line_dict)\n",
    "                        \n",
    "                        f1.write(new_line+'\\n')\n",
    "                        break\n",
    "                    elif int(line_pdb_spl[4]) < int(line_spl[8]):\n",
    "                        continue\n",
    "                    elif int(line_pdb_spl[4]) == int(line_spl[8]):\n",
    "                        line_dict[line_pdb_spl[2]] = [float(i) for i in line_pdb_spl[5:8]]\n",
    "                        \n",
    "                    \n",
    "                    elif int(line_pdb_spl[4]) > int(line_spl[8]) :\n",
    "                        \n",
    "                        f_pdb.seek(f_pdb.tell()-55,0)\n",
    "\n",
    "                        new_line = operation_4(line,line_spl,line_dict)\n",
    "                        \n",
    "                        \n",
    "                        f1.write(new_line+'\\n')\n",
    "                        break\n",
    "            line = f.readline()\n",
    "            if line[:3] == \"TER\":\n",
    "                \n",
    "                f1.write(line)\n",
    "                f_pdb.close()\n",
    "                break\n",
    "            line_spl = line.replace('\\n','').split()\n",
    "    else:\n",
    "        pdb_id = operation_3(line_spl)\n",
    "        f1.write(line)"
   ]
  },
  {
   "cell_type": "code",
   "execution_count": 518,
   "metadata": {},
   "outputs": [],
   "source": [
    "f.close()\n",
    "f1.close()"
   ]
  },
  {
   "cell_type": "markdown",
   "metadata": {},
   "source": [
    "f = open(LOMETS_file,'r')\n",
    "f1 = open(new_file,'w')\n",
    "f1.write(f.readline())\n"
   ]
  },
  {
   "cell_type": "markdown",
   "metadata": {},
   "source": [
    "line = f.readline()\n",
    "line_spl = line.replace('\\n','').split()\n",
    "pdb_id = operation_3(line_spl)\n",
    "f1.write(line)"
   ]
  },
  {
   "cell_type": "code",
   "execution_count": 475,
   "metadata": {},
   "outputs": [
    {
     "data": {
      "text/plain": [
       "''"
      ]
     },
     "execution_count": 475,
     "metadata": {},
     "output_type": "execute_result"
    }
   ],
   "source": []
  },
  {
   "cell_type": "markdown",
   "metadata": {},
   "source": [
    "pdb_id"
   ]
  },
  {
   "cell_type": "markdown",
   "metadata": {},
   "source": [
    "line = f.readline()\n",
    "\n",
    "\n",
    "if (1):\n",
    "    line_spl = line.replace('\\n','').split()\n",
    "    if line_spl[0] == \"ATOM\":\n",
    "        f_pdb = open(os.path.join(template_library,pdb_id+\".pdb\"), 'r')\n",
    "        while(line):\n",
    "            print(line)\n",
    "            line_dict={}\n",
    "            while(1):\n",
    "                line_pdb =f_pdb.readline()\n",
    "                if line_pdb[:4] != \"ATOM\" and line_pdb[:3] != \"TER\":\n",
    "                    continue\n",
    "                else:\n",
    "                    line_pdb_spl = line_pdb.replace('\\n','').split()\n",
    "                    \n",
    "                    if line_pdb[:3] == \"TER\"  :\n",
    "                        print(\"Im here\")\n",
    "                        f_pdb.seek(f_pdb.tell()-55,0)\n",
    "\n",
    "                        new_line = operation_4(line,line_spl,line_dict)\n",
    "                        print(\"line_to_wrote\")\n",
    "                        print(new_line)\n",
    "                        f1.write(new_line+'\\n')\n",
    "                        break\n",
    "                        \n",
    "                    print(line_pdb_spl[4])\n",
    "                    print(line_spl[8])\n",
    "                    if int(line_pdb_spl[4]) < int(line_spl[8]):\n",
    "                        continue\n",
    "                    elif int(line_pdb_spl[4]) == int(line_spl[8]):\n",
    "                        line_dict[line_pdb_spl[2]] = [float(i) for i in line_pdb_spl[5:8]]\n",
    "                        print(line_pdb)\n",
    "                \n",
    "                    elif int(line_pdb_spl[4]) > int(line_spl[8]) :\n",
    "                        print(\"Im here\")\n",
    "                        f_pdb.seek(f_pdb.tell()-55,0)\n",
    "\n",
    "                        new_line = operation_4(line,line_spl,line_dict)\n",
    "                        print(\"line_to_wrote\")\n",
    "                        print(new_line)\n",
    "                        f1.write(new_line+'\\n')\n",
    "                        break\n",
    "            line = f.readline()\n",
    "            if line[:3] == \"TER\":\n",
    "                print(line)\n",
    "                f1.write(line)\n",
    "                f_pdb.close()\n",
    "                break\n",
    "            line_spl = line.replace('\\n','').split()"
   ]
  },
  {
   "cell_type": "markdown",
   "metadata": {},
   "source": [
    "pdb_id"
   ]
  },
  {
   "cell_type": "markdown",
   "metadata": {},
   "source": [
    "f.close()\n",
    "f1.close()"
   ]
  },
  {
   "cell_type": "markdown",
   "metadata": {},
   "source": [
    "f_pdb.close()"
   ]
  },
  {
   "cell_type": "markdown",
   "metadata": {},
   "source": [
    "second_l = f.readline()"
   ]
  },
  {
   "cell_type": "markdown",
   "metadata": {},
   "source": [
    "for i in range(len(second_l)):\n",
    "    print(second_l[i])"
   ]
  },
  {
   "cell_type": "markdown",
   "metadata": {},
   "source": [
    "for i in range(118):\n",
    "    f.readline()"
   ]
  },
  {
   "cell_type": "markdown",
   "metadata": {},
   "source": [
    "line = f.readline()"
   ]
  },
  {
   "cell_type": "markdown",
   "metadata": {},
   "source": [
    "line"
   ]
  },
  {
   "cell_type": "markdown",
   "metadata": {},
   "source": [
    "f.close()"
   ]
  }
 ],
 "metadata": {
  "kernelspec": {
   "display_name": "Python 3",
   "language": "python",
   "name": "python3"
  },
  "language_info": {
   "codemirror_mode": {
    "name": "ipython",
    "version": 3
   },
   "file_extension": ".py",
   "mimetype": "text/x-python",
   "name": "python",
   "nbconvert_exporter": "python",
   "pygments_lexer": "ipython3",
   "version": "3.7.6"
  }
 },
 "nbformat": 4,
 "nbformat_minor": 4
}
