{
 "cells": [
  {
   "cell_type": "code",
   "execution_count": 49,
   "metadata": {},
   "outputs": [],
   "source": [
    "import numpy as np\n",
    "import copy"
   ]
  },
  {
   "cell_type": "code",
   "execution_count": 55,
   "metadata": {},
   "outputs": [],
   "source": [
    "def range_determine(deg):\n",
    "    deg = copy.deepcopy(deg)\n",
    "    for i in range(len(deg)):\n",
    "        try:\n",
    "            deg[i] = float(deg[i])\n",
    "        except:\n",
    "            deg[i] = 4\n",
    "        \n",
    "        if (deg[i] <=0):\n",
    "            deg[i] = deg[i] +360\n",
    "        if deg[i]>0 and deg[i] <120:\n",
    "            deg[i] = 0\n",
    "        elif deg[i]>=120 and deg[i] <240:\n",
    "            deg[i] = 1\n",
    "        elif deg[i]>=240 and deg[i] <=360:\n",
    "            deg[i] = 2\n",
    "        elif deg[i] == 940501:\n",
    "            deg[i] = 3\n",
    "        elif deg[i] == 930524:\n",
    "            deg[i] = 4\n",
    "        else:\n",
    "            deg[i] = 4\n",
    "    return deg"
   ]
  },
  {
   "cell_type": "markdown",
   "metadata": {},
   "source": [
    "training_raw_path = \"/home/qingyliu/test/training_data/train_scaled.npy\"\n"
   ]
  },
  {
   "cell_type": "code",
   "execution_count": 51,
   "metadata": {},
   "outputs": [],
   "source": [
    "training_raw_path = \"/nfs/amino-home/qingyliu/dihedral_angle/ML_data/whole_seq/hhblits/train_scaled.npy\""
   ]
  },
  {
   "cell_type": "code",
   "execution_count": 52,
   "metadata": {},
   "outputs": [],
   "source": [
    "training_raw = np.load(training_raw_path, allow_pickle = True)"
   ]
  },
  {
   "cell_type": "code",
   "execution_count": 53,
   "metadata": {},
   "outputs": [],
   "source": [
    "training_feature_file_name = \"/nfs/amino-home/qingyliu/dihedral_angle/ML_data/whole_seq/hhblits/train_feature\"\n",
    "training_label_value_file_name = \"/nfs/amino-home/qingyliu/dihedral_angle/ML_data/whole_seq/hhblits/train_label_value\"\n",
    "training_label_file_name = \"/nfs/amino-home/qingyliu/dihedral_angle/ML_data/whole_seq/hhblits/train_label\""
   ]
  },
  {
   "cell_type": "code",
   "execution_count": 56,
   "metadata": {},
   "outputs": [],
   "source": [
    "train_feature = []\n",
    "train_label = []\n",
    "train_label_value=[]\n",
    "count = 0\n",
    "for i in range(len(training_raw)):\n",
    "\n",
    "#         if len(train_label) > 499: # this number may change to 500*2500\n",
    "#             np.save(training_feature_file_name+str(count),np.asarray(train_feature))\n",
    "#             np.save(training_label_file_name+str(count),np.asarray(train_label))\n",
    "#             np.save(training_label_value_file_name+str(count),np.asarray(train_label_value))\n",
    "#             train_feature = []\n",
    "#             train_label = []\n",
    "#             train_label_value = []\n",
    "#             count += 1\n",
    "\n",
    "        train_feature.append(np.asarray(training_raw[i])[:,:-1])\n",
    "        train_label_value.append(training_raw[i][:,-1])\n",
    "        train_label.append(range_determine(training_raw[i][:,-1]))"
   ]
  },
  {
   "cell_type": "code",
   "execution_count": 57,
   "metadata": {},
   "outputs": [],
   "source": [
    "np.save(training_label_value_file_name,np.asarray(train_label_value))\n",
    "np.save(training_feature_file_name,np.asarray(train_feature))\n",
    "np.save(training_label_file_name,np.asarray(train_label))"
   ]
  },
  {
   "cell_type": "code",
   "execution_count": 58,
   "metadata": {},
   "outputs": [],
   "source": [
    "testing_raw_path = \"/nfs/amino-home/qingyliu/dihedral_angle/ML_data/whole_seq/hhblits/test_scaled.npy\""
   ]
  },
  {
   "cell_type": "code",
   "execution_count": 59,
   "metadata": {},
   "outputs": [],
   "source": [
    "testing_raw = np.load(testing_raw_path, allow_pickle = True)"
   ]
  },
  {
   "cell_type": "code",
   "execution_count": 60,
   "metadata": {},
   "outputs": [],
   "source": [
    "testing_feature_file_name = \"/nfs/amino-home/qingyliu/dihedral_angle/ML_data/whole_seq/hhblits/test_feature\"\n",
    "testing_label_value_file_name = \"/nfs/amino-home/qingyliu/dihedral_angle/ML_data/whole_seq/hhblits/test_label_value\"\n",
    "testing_label_file_name = \"/nfs/amino-home/qingyliu/dihedral_angle/ML_data/whole_seq/hhblits/test_label\""
   ]
  },
  {
   "cell_type": "code",
   "execution_count": 61,
   "metadata": {},
   "outputs": [],
   "source": [
    "test_feature = []\n",
    "test_label = []\n",
    "test_label_value=[]\n",
    "count = 0\n",
    "for i in range(len(testing_raw)):\n",
    "\n",
    "#         if len(train_label) > 499: # this number may change to 500*2500\n",
    "#             np.save(training_feature_file_name+str(count),np.asarray(train_feature))\n",
    "#             np.save(training_label_file_name+str(count),np.asarray(train_label))\n",
    "#             np.save(training_label_value_file_name+str(count),np.asarray(train_label_value))\n",
    "#             train_feature = []\n",
    "#             train_label = []\n",
    "#             train_label_value = []\n",
    "#             count += 1\n",
    "\n",
    "        test_feature.append(np.asarray(testing_raw[i])[:,:-1])\n",
    "        test_label_value.append(testing_raw[i][:,-1])\n",
    "        test_label.append(range_determine(testing_raw[i][:,-1]))\n",
    "np.save(testing_label_value_file_name,np.asarray(test_label_value))\n",
    "np.save(testing_feature_file_name,np.asarray(test_feature))\n",
    "np.save(testing_label_file_name,np.asarray(test_label))"
   ]
  }
 ],
 "metadata": {
  "kernelspec": {
   "display_name": "Python 3",
   "language": "python",
   "name": "python3"
  },
  "language_info": {
   "codemirror_mode": {
    "name": "ipython",
    "version": 3
   },
   "file_extension": ".py",
   "mimetype": "text/x-python",
   "name": "python",
   "nbconvert_exporter": "python",
   "pygments_lexer": "ipython3",
   "version": "3.7.4"
  }
 },
 "nbformat": 4,
 "nbformat_minor": 2
}
