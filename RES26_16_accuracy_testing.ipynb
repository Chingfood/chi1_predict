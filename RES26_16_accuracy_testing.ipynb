{
 "cells": [
  {
   "cell_type": "code",
   "execution_count": 1,
   "metadata": {},
   "outputs": [],
   "source": [
    "from __future__ import absolute_import, division, print_function, unicode_literals\n",
    "\n",
    "import os\n",
    "\n",
    "import tensorflow as tf\n",
    "#import tensorflow_addons as tfa\n",
    "from tensorflow import keras\n",
    "import numpy as np\n"
   ]
  },
  {
   "cell_type": "code",
   "execution_count": 2,
   "metadata": {},
   "outputs": [],
   "source": [
    "# Copyright 2019 The TensorFlow Authors. All Rights Reserved.\n",
    "#\n",
    "# Licensed under the Apache License, Version 2.0 (the \"License\");\n",
    "# you may not use this file except in compliance with the License.\n",
    "# You may obtain a copy of the License at\n",
    "#\n",
    "#     http://www.apache.org/licenses/LICENSE-2.0\n",
    "#\n",
    "# Unless required by applicable law or agreed to in writing, software\n",
    "# distributed under the License is distributed on an \"AS IS\" BASIS,\n",
    "# WITHOUT WARRANTIES OR CONDITIONS OF ANY KIND, either express or implied.\n",
    "# See the License for the specific language governing permissions and\n",
    "# limitations under the License.\n",
    "\n",
    "# Orginal implementation from keras_contrib/layer/normalization\n",
    "# =============================================================================\n",
    "#from __future__ import absolute_import\n",
    "#from __future__ import division\n",
    "#from __future__ import print_function\n",
    "\n",
    "import logging\n",
    "#import tensorflow as tf\n",
    "\n",
    "\n",
    "\n",
    "class GroupNormalization(tf.keras.layers.Layer):\n",
    "    \"\"\"Group normalization layer.\n",
    "    Group Normalization divides the channels into groups and computes\n",
    "    within each group the mean and variance for normalization.\n",
    "    Empirically, its accuracy is more stable than batch norm in a wide\n",
    "    range of small batch sizes, if learning rate is adjusted linearly\n",
    "    with batch sizes.\n",
    "    Relation to Layer Normalization:\n",
    "    If the number of groups is set to 1, then this operation becomes identical\n",
    "    to Layer Normalization.\n",
    "    Relation to Instance Normalization:\n",
    "    If the number of groups is set to the\n",
    "    input dimension (number of groups is equal\n",
    "    to number of channels), then this operation becomes\n",
    "    identical to Instance Normalization.\n",
    "    Arguments\n",
    "        groups: Integer, the number of groups for Group Normalization.\n",
    "            Can be in the range [1, N] where N is the input dimension.\n",
    "            The input dimension must be divisible by the number of groups.\n",
    "        axis: Integer, the axis that should be normalized.\n",
    "        epsilon: Small float added to variance to avoid dividing by zero.\n",
    "        center: If True, add offset of `beta` to normalized tensor.\n",
    "            If False, `beta` is ignored.\n",
    "        scale: If True, multiply by `gamma`.\n",
    "            If False, `gamma` is not used.\n",
    "        beta_initializer: Initializer for the beta weight.\n",
    "        gamma_initializer: Initializer for the gamma weight.\n",
    "        beta_regularizer: Optional regularizer for the beta weight.\n",
    "        gamma_regularizer: Optional regularizer for the gamma weight.\n",
    "        beta_constraint: Optional constraint for the beta weight.\n",
    "        gamma_constraint: Optional constraint for the gamma weight.\n",
    "    Input shape\n",
    "        Arbitrary. Use the keyword argument `input_shape`\n",
    "        (tuple of integers, does not include the samples axis)\n",
    "        when using this layer as the first layer in a model.\n",
    "    Output shape\n",
    "        Same shape as input.\n",
    "    References\n",
    "        - [Group Normalization](https://arxiv.org/abs/1803.08494)\n",
    "    \"\"\"\n",
    "\n",
    "    def __init__(self,\n",
    "                 groups=2,\n",
    "                 axis=-1,\n",
    "                 epsilon=1e-3,\n",
    "                 center=True,\n",
    "                 scale=True,\n",
    "                 beta_initializer='zeros',\n",
    "                 gamma_initializer='ones',\n",
    "                 beta_regularizer=None,\n",
    "                 gamma_regularizer=None,\n",
    "                 beta_constraint=None,\n",
    "                 gamma_constraint=None,\n",
    "                 **kwargs):\n",
    "        super(GroupNormalization, self).__init__(**kwargs)\n",
    "        self.supports_masking = True\n",
    "        self.groups = groups\n",
    "        self.axis = axis\n",
    "        self.epsilon = epsilon\n",
    "        self.center = center\n",
    "        self.scale = scale\n",
    "        self.beta_initializer = tf.keras.initializers.get(beta_initializer)\n",
    "        self.gamma_initializer = tf.keras.initializers.get(gamma_initializer)\n",
    "        self.beta_regularizer = tf.keras.regularizers.get(beta_regularizer)\n",
    "        self.gamma_regularizer = tf.keras.regularizers.get(gamma_regularizer)\n",
    "        self.beta_constraint = tf.keras.constraints.get(beta_constraint)\n",
    "        self.gamma_constraint = tf.keras.constraints.get(gamma_constraint)\n",
    "        self._check_axis()\n",
    "\n",
    "    def build(self, input_shape):\n",
    "\n",
    "        self._check_if_input_shape_is_none(input_shape)\n",
    "        self._set_number_of_groups_for_instance_norm(input_shape)\n",
    "        self._check_size_of_dimensions(input_shape)\n",
    "        self._create_input_spec(input_shape)\n",
    "\n",
    "        self._add_gamma_weight(input_shape)\n",
    "        self._add_beta_weight(input_shape)\n",
    "        self.built = True\n",
    "        super(GroupNormalization, self).build(input_shape)\n",
    "\n",
    "    def call(self, inputs):\n",
    "\n",
    "        input_shape = tf.keras.backend.int_shape(inputs)\n",
    "        tensor_input_shape = tf.shape(inputs)\n",
    "\n",
    "        reshaped_inputs, group_shape = self._reshape_into_groups(\n",
    "            inputs, input_shape, tensor_input_shape)\n",
    "\n",
    "        normalized_inputs = self._apply_normalization(reshaped_inputs,\n",
    "                                                      input_shape)\n",
    "\n",
    "        outputs = tf.reshape(normalized_inputs, tensor_input_shape)\n",
    "\n",
    "        return outputs\n",
    "\n",
    "    def get_config(self):\n",
    "        config = {\n",
    "            'groups':\n",
    "            self.groups,\n",
    "            'axis':\n",
    "            self.axis,\n",
    "            'epsilon':\n",
    "            self.epsilon,\n",
    "            'center':\n",
    "            self.center,\n",
    "            'scale':\n",
    "            self.scale,\n",
    "            'beta_initializer':\n",
    "            tf.keras.initializers.serialize(self.beta_initializer),\n",
    "            'gamma_initializer':\n",
    "            tf.keras.initializers.serialize(self.gamma_initializer),\n",
    "            'beta_regularizer':\n",
    "            tf.keras.regularizers.serialize(self.beta_regularizer),\n",
    "            'gamma_regularizer':\n",
    "            tf.keras.regularizers.serialize(self.gamma_regularizer),\n",
    "            'beta_constraint':\n",
    "            tf.keras.constraints.serialize(self.beta_constraint),\n",
    "            'gamma_constraint':\n",
    "            tf.keras.constraints.serialize(self.gamma_constraint)\n",
    "        }\n",
    "        base_config = super(GroupNormalization, self).get_config()\n",
    "        return dict(list(base_config.items()) + list(config.items()))\n",
    "\n",
    "    def compute_output_shape(self, input_shape):\n",
    "        return input_shape\n",
    "\n",
    "    def _reshape_into_groups(self, inputs, input_shape, tensor_input_shape):\n",
    "\n",
    "        group_shape = [tensor_input_shape[i] for i in range(len(input_shape))]\n",
    "        group_shape[self.axis] = input_shape[self.axis] // self.groups\n",
    "        group_shape.insert(self.axis, self.groups)\n",
    "        group_shape = tf.stack(group_shape)\n",
    "        reshaped_inputs = tf.reshape(inputs, group_shape)\n",
    "        return reshaped_inputs, group_shape\n",
    "\n",
    "    def _apply_normalization(self, reshaped_inputs, input_shape):\n",
    "\n",
    "        group_shape = tf.keras.backend.int_shape(reshaped_inputs)\n",
    "        group_reduction_axes = list(range(1, len(group_shape)))\n",
    "        axis = -2 if self.axis == -1 else self.axis - 1\n",
    "        group_reduction_axes.pop(axis)\n",
    "\n",
    "        mean, variance = tf.nn.moments(\n",
    "            reshaped_inputs, group_reduction_axes, keepdims=True)\n",
    "\n",
    "        gamma, beta = self._get_reshaped_weights(input_shape)\n",
    "        normalized_inputs = tf.nn.batch_normalization(\n",
    "            reshaped_inputs,\n",
    "            mean=mean,\n",
    "            variance=variance,\n",
    "            scale=gamma,\n",
    "            offset=beta,\n",
    "            variance_epsilon=self.epsilon)\n",
    "        return normalized_inputs\n",
    "\n",
    "    def _get_reshaped_weights(self, input_shape):\n",
    "        broadcast_shape = self._create_broadcast_shape(input_shape)\n",
    "        gamma = None\n",
    "        beta = None\n",
    "        if self.scale:\n",
    "            gamma = tf.reshape(self.gamma, broadcast_shape)\n",
    "\n",
    "        if self.center:\n",
    "            beta = tf.reshape(self.beta, broadcast_shape)\n",
    "        return gamma, beta\n",
    "\n",
    "    def _check_if_input_shape_is_none(self, input_shape):\n",
    "        dim = input_shape[self.axis]\n",
    "        if dim is None:\n",
    "            raise ValueError('Axis ' + str(self.axis) + ' of '\n",
    "                             'input tensor should have a defined dimension '\n",
    "                             'but the layer received an input with shape ' +\n",
    "                             str(input_shape) + '.')\n",
    "\n",
    "    def _set_number_of_groups_for_instance_norm(self, input_shape):\n",
    "        dim = input_shape[self.axis]\n",
    "\n",
    "        if self.groups == -1:\n",
    "            self.groups = dim\n",
    "\n",
    "    def _check_size_of_dimensions(self, input_shape):\n",
    "\n",
    "        dim = input_shape[self.axis]\n",
    "        if dim < self.groups:\n",
    "            raise ValueError(\n",
    "                'Number of groups (' + str(self.groups) + ') cannot be '\n",
    "                'more than the number of channels (' + str(dim) + ').')\n",
    "\n",
    "        if dim % self.groups != 0:\n",
    "            raise ValueError(\n",
    "                'Number of groups (' + str(self.groups) + ') must be a '\n",
    "                'multiple of the number of channels (' + str(dim) + ').')\n",
    "\n",
    "    def _check_axis(self):\n",
    "\n",
    "        if self.axis == 0:\n",
    "            raise ValueError(\n",
    "                \"You are trying to normalize your batch axis. Do you want to \"\n",
    "                \"use tf.layer.batch_normalization instead\")\n",
    "\n",
    "    def _create_input_spec(self, input_shape):\n",
    "\n",
    "        dim = input_shape[self.axis]\n",
    "        self.input_spec = tf.keras.layers.InputSpec(\n",
    "            ndim=len(input_shape), axes={self.axis: dim})\n",
    "\n",
    "    def _add_gamma_weight(self, input_shape):\n",
    "\n",
    "        dim = input_shape[self.axis]\n",
    "        shape = (dim,)\n",
    "\n",
    "        if self.scale:\n",
    "            self.gamma = self.add_weight(\n",
    "                shape=shape,\n",
    "                name='gamma',\n",
    "                initializer=self.gamma_initializer,\n",
    "                regularizer=self.gamma_regularizer,\n",
    "                constraint=self.gamma_constraint)\n",
    "        else:\n",
    "            self.gamma = None\n",
    "\n",
    "    def _add_beta_weight(self, input_shape):\n",
    "\n",
    "        dim = input_shape[self.axis]\n",
    "        shape = (dim,)\n",
    "\n",
    "        if self.center:\n",
    "            self.beta = self.add_weight(\n",
    "                shape=shape,\n",
    "                name='beta',\n",
    "                initializer=self.beta_initializer,\n",
    "                regularizer=self.beta_regularizer,\n",
    "                constraint=self.beta_constraint)\n",
    "        else:\n",
    "            self.beta = None\n",
    "\n",
    "    def _create_broadcast_shape(self, input_shape):\n",
    "        broadcast_shape = [1] * len(input_shape)\n",
    "        broadcast_shape[self.axis] = input_shape[self.axis] // self.groups\n",
    "        broadcast_shape.insert(self.axis, self.groups)\n",
    "        return broadcast_shape\n",
    "\n",
    "\n",
    "class InstanceNormalization(GroupNormalization):\n",
    "    \"\"\"Instance normalization layer.\n",
    "    Instance Normalization is an specific case of ```GroupNormalization```since\n",
    "    it normalizes all features of one channel. The Groupsize is equal to the\n",
    "    channel size. Empirically, its accuracy is more stable than batch norm in a\n",
    "    wide range of small batch sizes, if learning rate is adjusted linearly\n",
    "    with batch sizes.\n",
    "    Arguments\n",
    "        axis: Integer, the axis that should be normalized.\n",
    "        epsilon: Small float added to variance to avoid dividing by zero.\n",
    "        center: If True, add offset of `beta` to normalized tensor.\n",
    "            If False, `beta` is ignored.\n",
    "        scale: If True, multiply by `gamma`.\n",
    "            If False, `gamma` is not used.\n",
    "        beta_initializer: Initializer for the beta weight.\n",
    "        gamma_initializer: Initializer for the gamma weight.\n",
    "        beta_regularizer: Optional regularizer for the beta weight.\n",
    "        gamma_regularizer: Optional regularizer for the gamma weight.\n",
    "        beta_constraint: Optional constraint for the beta weight.\n",
    "        gamma_constraint: Optional constraint for the gamma weight.\n",
    "    Input shape\n",
    "        Arbitrary. Use the keyword argument `input_shape`\n",
    "        (tuple of integers, does not include the samples axis)\n",
    "        when using this layer as the first layer in a model.\n",
    "    Output shape\n",
    "        Same shape as input.\n",
    "    References\n",
    "        - [Instance Normalization: The Missing Ingredient for Fast Stylization]\n",
    "        (https://arxiv.org/abs/1607.08022)\n",
    "    \"\"\"\n",
    "\n",
    "    def __init__(self, **kwargs):\n",
    "        if \"groups\" in kwargs:\n",
    "            logging.warning(\"The given value for groups will be overwritten.\")\n",
    "\n",
    "        kwargs[\"groups\"] = -1\n",
    "        super(InstanceNormalization, self).__init__(**kwargs)"
   ]
  },
  {
   "cell_type": "code",
   "execution_count": 3,
   "metadata": {},
   "outputs": [],
   "source": [
    "def Resnet_identity_block(X,kernelsize,num_filters,dilation):\n",
    "    X_shortcut = X\n",
    "    #First Component\n",
    "    X = keras.layers.Conv2D(filters = num_filters , kernel_size = kernelsize, padding = 'same', dilation_rate = dilation)(X)\n",
    "    X = InstanceNormalization()(X)\n",
    "    X = keras.layers.Activation('relu')(X)\n",
    "    X = keras.layers.Dropout(rate = 0.15)(X)\n",
    "\n",
    "\n",
    "    # Second component of main path\n",
    "    X = keras.layers.Conv2D(filters = num_filters , kernel_size = kernelsize, padding = 'same', dilation_rate = dilation)(X)\n",
    "    X = InstanceNormalization()(X)\n",
    "\n",
    "    # Final step: Add shortcut value to main path, and pass it through a RELU activation\n",
    "    X = keras.layers.Add()([X, X_shortcut])\n",
    "    X = keras.layers.Activation('relu')(X)\n",
    "\n",
    "    return X\n"
   ]
  },
  {
   "cell_type": "code",
   "execution_count": 4,
   "metadata": {},
   "outputs": [],
   "source": [
    "import tensorflow.keras.backend as K\n",
    "\n",
    "\n",
    "def customLoss(yTrue,yPred):\n",
    "\n",
    "    if yTrue.shape[0] == None:\n",
    "        return 1e-6\n",
    "\n",
    "    yPred= tf.clip_by_value(yPred, 1e-6, (1. - 1e-6))\n",
    "    mask=K.less_equal(yTrue,2)\n",
    "\n",
    "    return tf.reduce_mean(K.categorical_crossentropy(tf.one_hot(tf.cast(tf.boolean_mask(yTrue, mask),tf.int32), 3),tf.boolean_mask(yPred, mask)))\n",
    "\n",
    "\n"
   ]
  },
  {
   "cell_type": "code",
   "execution_count": 5,
   "metadata": {},
   "outputs": [],
   "source": [
    "def resnet():\n",
    "    X_input = keras.layers.Input(shape=(None,None,526))\n",
    "    X = keras.layers.Conv2D(filters = 64 , kernel_size = 1, padding = 'same')(X_input)\n",
    "    X = InstanceNormalization()(X)\n",
    "    X = keras.layers.Activation('relu')(X)\n",
    "    for i in range(26):\n",
    "        X=Resnet_identity_block(X,3,64,2**(i%5))\n",
    "    X = keras.layers.Conv2D(filters = 3 , kernel_size = 1, padding = 'same')(X)\n",
    "    X = keras.layers.Activation('relu')(X)\n",
    "\n",
    "    X_col = tf.reduce_mean(X,axis = 1)\n",
    "    X_row = tf.reduce_mean(X,axis = 2)\n",
    "    X = tf.math.add(X_col,X_row)\n",
    "    X = tf.math.multiply(X,0.5)\n",
    "\n",
    "    X = keras.layers.Conv1D(filters = 3 , kernel_size = 1, padding = 'same')(X)\n",
    "    X = keras.layers.Activation('softmax')(X)\n",
    "    model = keras.models.Model(inputs = X_input, outputs = X)\n",
    "    model.compile(optimizer=tf.keras.optimizers.Adam(), loss=customLoss)\n",
    "    return model\n",
    "\n"
   ]
  },
  {
   "cell_type": "code",
   "execution_count": 6,
   "metadata": {},
   "outputs": [
    {
     "data": {
      "text/plain": [
       "<tensorflow.python.training.tracking.util.CheckpointLoadStatus at 0x7fa386fda810>"
      ]
     },
     "execution_count": 6,
     "metadata": {},
     "output_type": "execute_result"
    }
   ],
   "source": [
    "checkpoint_path_old_conv = \"/nfs/amino-home/qingyliu/dihedral_angle/ML_data/RES_cov/training_checkpoint/RES26/cp.ckpt\"\n",
    "\n",
    "model = resnet()\n",
    "\n",
    "model.load_weights(checkpoint_path_old_conv)\n"
   ]
  },
  {
   "cell_type": "code",
   "execution_count": null,
   "metadata": {},
   "outputs": [],
   "source": [
    "correct_dict={}\n",
    "wrong_dict={}\n",
    "for i in range(20):\n",
    "    correct_dict[i] = 0\n",
    "    wrong_dict[i] = 0"
   ]
  },
  {
   "cell_type": "code",
   "execution_count": 7,
   "metadata": {},
   "outputs": [
    {
     "name": "stdout",
     "output_type": "stream",
     "text": [
      "WARNING:tensorflow:5 out of the last 5 calls to <function _make_execution_function.<locals>.distributed_function at 0x7fa3a4f375f0> triggered tf.function retracing. Tracing is expensive and the excessive number of tracings is likely due to passing python objects instead of tensors. Also, tf.function has experimental_relax_shapes=True option that relaxes argument shapes that can avoid unnecessary retracing. Please refer to https://www.tensorflow.org/beta/tutorials/eager/tf_function#python_or_tensor_args and https://www.tensorflow.org/api_docs/python/tf/function for more details.\n",
      "WARNING:tensorflow:6 out of the last 6 calls to <function _make_execution_function.<locals>.distributed_function at 0x7fa3a4f375f0> triggered tf.function retracing. Tracing is expensive and the excessive number of tracings is likely due to passing python objects instead of tensors. Also, tf.function has experimental_relax_shapes=True option that relaxes argument shapes that can avoid unnecessary retracing. Please refer to https://www.tensorflow.org/beta/tutorials/eager/tf_function#python_or_tensor_args and https://www.tensorflow.org/api_docs/python/tf/function for more details.\n",
      "WARNING:tensorflow:7 out of the last 7 calls to <function _make_execution_function.<locals>.distributed_function at 0x7fa3a4f375f0> triggered tf.function retracing. Tracing is expensive and the excessive number of tracings is likely due to passing python objects instead of tensors. Also, tf.function has experimental_relax_shapes=True option that relaxes argument shapes that can avoid unnecessary retracing. Please refer to https://www.tensorflow.org/beta/tutorials/eager/tf_function#python_or_tensor_args and https://www.tensorflow.org/api_docs/python/tf/function for more details.\n",
      "WARNING:tensorflow:8 out of the last 8 calls to <function _make_execution_function.<locals>.distributed_function at 0x7fa3a4f375f0> triggered tf.function retracing. Tracing is expensive and the excessive number of tracings is likely due to passing python objects instead of tensors. Also, tf.function has experimental_relax_shapes=True option that relaxes argument shapes that can avoid unnecessary retracing. Please refer to https://www.tensorflow.org/beta/tutorials/eager/tf_function#python_or_tensor_args and https://www.tensorflow.org/api_docs/python/tf/function for more details.\n",
      "WARNING:tensorflow:9 out of the last 9 calls to <function _make_execution_function.<locals>.distributed_function at 0x7fa3a4f375f0> triggered tf.function retracing. Tracing is expensive and the excessive number of tracings is likely due to passing python objects instead of tensors. Also, tf.function has experimental_relax_shapes=True option that relaxes argument shapes that can avoid unnecessary retracing. Please refer to https://www.tensorflow.org/beta/tutorials/eager/tf_function#python_or_tensor_args and https://www.tensorflow.org/api_docs/python/tf/function for more details.\n",
      "WARNING:tensorflow:10 out of the last 10 calls to <function _make_execution_function.<locals>.distributed_function at 0x7fa3a4f375f0> triggered tf.function retracing. Tracing is expensive and the excessive number of tracings is likely due to passing python objects instead of tensors. Also, tf.function has experimental_relax_shapes=True option that relaxes argument shapes that can avoid unnecessary retracing. Please refer to https://www.tensorflow.org/beta/tutorials/eager/tf_function#python_or_tensor_args and https://www.tensorflow.org/api_docs/python/tf/function for more details.\n"
     ]
    }
   ],
   "source": [
    "correct = []\n",
    "wrong = []\n",
    "for folder_num in range(10):\n",
    "    input_feature_dir = \"/home/qingyliu/sample_data/folder_\"+str(folder_num)\n",
    "    input_label_dir = \"/home/qingyliu/sample_label\"\n",
    "    directory = os.fsencode(input_feature_dir)\n",
    "    for num, file in enumerate(os.listdir(directory)):\n",
    "\n",
    "        filename = os.fsdecode(file)\n",
    "        x_test = np.load(os.path.join(input_feature_dir,filename))\n",
    "        y_test = np.load(os.path.join(input_label_dir, filename))\n",
    "        result = model.predict(x_test)\n",
    "        correct_1 = 0\n",
    "        wrong_1 = 0\n",
    "\n",
    "        for i in range(y_test.shape[1]):\n",
    "            if y_test[0][i] > 2:\n",
    "                continue\n",
    "            pred_label = np.argmax(result[0,i,:])\n",
    "            aa_idx = np.argmax(x_test[0,i,i,:20])\n",
    "            if pred_label == y_test[0][i]:\n",
    "                correct_1 += 1\n",
    "                correct_dict[aa_idx] += 1\n",
    "            else:\n",
    "                wrong_1 += 1\n",
    "                wrong_dict[aa_idx] += 1\n",
    "        correct.append(correct_1)\n",
    "        wrong.append(wrong_1)"
   ]
  },
  {
   "cell_type": "code",
   "execution_count": null,
   "metadata": {},
   "outputs": [],
   "source": [
    "import pickle\n",
    "with open(\"/home/qingyliu/cp_to/correct.pkl\", \"wb\") as fp:   #Pickling\n",
    "    pickle.dump(correct, fp)\n",
    "with open(\"/home/qingyliu/cp_to/correct_dict.pkl\", \"wb\") as fp:   #Pickling\n",
    "    pickle.dump(correct_dict, fp)\n",
    "with open(\"/home/qingyliu/cp_to/wrong.pkl\", \"wb\") as fp:   #Pickling\n",
    "    pickle.dump(wrong, fp)\n",
    "with open(\"/home/qingyliu/cp_to/wrong_dict.pkl\", \"wb\") as fp:   #Pickling\n",
    "    pickle.dump(wrong_dict, fp)"
   ]
  },
  {
   "cell_type": "markdown",
   "metadata": {},
   "source": [
    "input_feature_dir = \"/home/qingyliu/sample_data/folder_1\"\n",
    "input_label_dir = \"/home/qingyliu/sample_label\"\n",
    "directory = os.fsencode(input_feature_dir)\n",
    "for num, file in enumerate(os.listdir(directory)):\n",
    "\n",
    "    filename = os.fsdecode(file)\n",
    "    x_test = np.load(os.path.join(input_feature_dir,filename))\n",
    "    y_test = np.load(os.path.join(input_label_dir, filename))\n",
    "    result = model.predict(x_test)\n",
    "    correct_1 = 0\n",
    "    wrong_1 = 0\n",
    "\n",
    "    for i in range(y_test.shape[1]):\n",
    "        if y_test[0][i] > 2:\n",
    "            continue\n",
    "        pred_label = np.argmax(result[0,i,:])\n",
    "        if pred_label == y_test[0][i]:\n",
    "            correct_1 += 1\n",
    "        else:\n",
    "            wrong_1 += 1\n",
    "    correct.append(correct_1)\n",
    "    wrong.append(wrong_1)"
   ]
  },
  {
   "cell_type": "markdown",
   "metadata": {},
   "source": [
    "input_feature_dir = \"/home/qingyliu/sample_data/folder_2\"\n",
    "input_label_dir = \"/home/qingyliu/sample_label\"\n",
    "directory = os.fsencode(input_feature_dir)\n",
    "for num, file in enumerate(os.listdir(directory)):\n",
    "\n",
    "    filename = os.fsdecode(file)\n",
    "    x_test = np.load(os.path.join(input_feature_dir,filename))\n",
    "    y_test = np.load(os.path.join(input_label_dir, filename))\n",
    "    result = model.predict(x_test)\n",
    "    correct_1 = 0\n",
    "    wrong_1 = 0\n",
    "\n",
    "    for i in range(y_test.shape[1]):\n",
    "        if y_test[0][i] > 2:\n",
    "            continue\n",
    "        pred_label = np.argmax(result[0,i,:])\n",
    "        if pred_label == y_test[0][i]:\n",
    "            correct_1 += 1\n",
    "        else:\n",
    "            wrong_1 += 1\n",
    "    correct.append(correct_1)\n",
    "    wrong.append(wrong_1)"
   ]
  },
  {
   "cell_type": "markdown",
   "metadata": {},
   "source": [
    "input_feature_dir = \"/home/qingyliu/sample_data/folder_3\"\n",
    "input_label_dir = \"/home/qingyliu/sample_label\"\n",
    "directory = os.fsencode(input_feature_dir)\n",
    "for num, file in enumerate(os.listdir(directory)):\n",
    "\n",
    "    filename = os.fsdecode(file)\n",
    "    x_test = np.load(os.path.join(input_feature_dir,filename))\n",
    "    y_test = np.load(os.path.join(input_label_dir, filename))\n",
    "    result = model.predict(x_test)\n",
    "    correct_1 = 0\n",
    "    wrong_1 = 0\n",
    "\n",
    "    for i in range(y_test.shape[1]):\n",
    "        if y_test[0][i] > 2:\n",
    "            continue\n",
    "        pred_label = np.argmax(result[0,i,:])\n",
    "        if pred_label == y_test[0][i]:\n",
    "            correct_1 += 1\n",
    "        else:\n",
    "            wrong_1 += 1\n",
    "    correct.append(correct_1)\n",
    "    wrong.append(wrong_1)"
   ]
  },
  {
   "cell_type": "markdown",
   "metadata": {},
   "source": [
    "input_feature_dir = \"/home/qingyliu/sample_data/folder_4\"\n",
    "input_label_dir = \"/home/qingyliu/sample_label\"\n",
    "directory = os.fsencode(input_feature_dir)\n",
    "for num, file in enumerate(os.listdir(directory)):\n",
    "\n",
    "    filename = os.fsdecode(file)\n",
    "    x_test = np.load(os.path.join(input_feature_dir,filename))\n",
    "    y_test = np.load(os.path.join(input_label_dir, filename))\n",
    "    result = model.predict(x_test)\n",
    "    correct_1 = 0\n",
    "    wrong_1 = 0\n",
    "\n",
    "    for i in range(y_test.shape[1]):\n",
    "        if y_test[0][i] > 2:\n",
    "            continue\n",
    "        pred_label = np.argmax(result[0,i,:])\n",
    "        if pred_label == y_test[0][i]:\n",
    "            correct_1 += 1\n",
    "        else:\n",
    "            wrong_1 += 1\n",
    "    correct.append(correct_1)\n",
    "    wrong.append(wrong_1)"
   ]
  },
  {
   "cell_type": "markdown",
   "metadata": {},
   "source": [
    "input_feature_dir = \"/home/qingyliu/sample_data/folder_5\"\n",
    "input_label_dir = \"/home/qingyliu/sample_label\"\n",
    "directory = os.fsencode(input_feature_dir)\n",
    "for num, file in enumerate(os.listdir(directory)):\n",
    "\n",
    "    filename = os.fsdecode(file)\n",
    "    x_test = np.load(os.path.join(input_feature_dir,filename))\n",
    "    y_test = np.load(os.path.join(input_label_dir, filename))\n",
    "    result = model.predict(x_test)\n",
    "    correct_1 = 0\n",
    "    wrong_1 = 0\n",
    "\n",
    "    for i in range(y_test.shape[1]):\n",
    "        if y_test[0][i] > 2:\n",
    "            continue\n",
    "        pred_label = np.argmax(result[0,i,:])\n",
    "        if pred_label == y_test[0][i]:\n",
    "            correct_1 += 1\n",
    "        else:\n",
    "            wrong_1 += 1\n",
    "    correct.append(correct_1)\n",
    "    wrong.append(wrong_1)"
   ]
  },
  {
   "cell_type": "markdown",
   "metadata": {},
   "source": [
    "input_feature_dir = \"/home/qingyliu/sample_data/folder_6\"\n",
    "input_label_dir = \"/home/qingyliu/sample_label\"\n",
    "directory = os.fsencode(input_feature_dir)\n",
    "for num, file in enumerate(os.listdir(directory)):\n",
    "\n",
    "    filename = os.fsdecode(file)\n",
    "    x_test = np.load(os.path.join(input_feature_dir,filename))\n",
    "    y_test = np.load(os.path.join(input_label_dir, filename))\n",
    "    result = model.predict(x_test)\n",
    "    correct_1 = 0\n",
    "    wrong_1 = 0\n",
    "\n",
    "    for i in range(y_test.shape[1]):\n",
    "        if y_test[0][i] > 2:\n",
    "            continue\n",
    "        pred_label = np.argmax(result[0,i,:])\n",
    "        if pred_label == y_test[0][i]:\n",
    "            correct_1 += 1\n",
    "        else:\n",
    "            wrong_1 += 1\n",
    "    correct.append(correct_1)\n",
    "    wrong.append(wrong_1)"
   ]
  },
  {
   "cell_type": "markdown",
   "metadata": {},
   "source": [
    "input_feature_dir = \"/home/qingyliu/sample_data/folder_7\"\n",
    "input_label_dir = \"/home/qingyliu/sample_label\"\n",
    "directory = os.fsencode(input_feature_dir)\n",
    "for num, file in enumerate(os.listdir(directory)):\n",
    "\n",
    "    filename = os.fsdecode(file)\n",
    "    x_test = np.load(os.path.join(input_feature_dir,filename))\n",
    "    y_test = np.load(os.path.join(input_label_dir, filename))\n",
    "    result = model.predict(x_test)\n",
    "    correct_1 = 0\n",
    "    wrong_1 = 0\n",
    "\n",
    "    for i in range(y_test.shape[1]):\n",
    "        if y_test[0][i] > 2:\n",
    "            continue\n",
    "        pred_label = np.argmax(result[0,i,:])\n",
    "        if pred_label == y_test[0][i]:\n",
    "            correct_1 += 1\n",
    "        else:\n",
    "            wrong_1 += 1\n",
    "    correct.append(correct_1)\n",
    "    wrong.append(wrong_1)"
   ]
  },
  {
   "cell_type": "markdown",
   "metadata": {},
   "source": [
    "input_feature_dir = \"/home/qingyliu/sample_data/folder_8\"\n",
    "input_label_dir = \"/home/qingyliu/sample_label\"\n",
    "directory = os.fsencode(input_feature_dir)\n",
    "for num, file in enumerate(os.listdir(directory)):\n",
    "\n",
    "    filename = os.fsdecode(file)\n",
    "    x_test = np.load(os.path.join(input_feature_dir,filename))\n",
    "    y_test = np.load(os.path.join(input_label_dir, filename))\n",
    "    result = model.predict(x_test)\n",
    "    correct_1 = 0\n",
    "    wrong_1 = 0\n",
    "\n",
    "    for i in range(y_test.shape[1]):\n",
    "        if y_test[0][i] > 2:\n",
    "            continue\n",
    "        pred_label = np.argmax(result[0,i,:])\n",
    "        if pred_label == y_test[0][i]:\n",
    "            correct_1 += 1\n",
    "        else:\n",
    "            wrong_1 += 1\n",
    "    correct.append(correct_1)\n",
    "    wrong.append(wrong_1)"
   ]
  },
  {
   "cell_type": "markdown",
   "metadata": {},
   "source": [
    "input_feature_dir = \"/home/qingyliu/sample_data/folder_9\"\n",
    "input_label_dir = \"/home/qingyliu/sample_label\"\n",
    "directory = os.fsencode(input_feature_dir)\n",
    "for num, file in enumerate(os.listdir(directory)):\n",
    "\n",
    "    filename = os.fsdecode(file)\n",
    "    x_test = np.load(os.path.join(input_feature_dir,filename))\n",
    "    y_test = np.load(os.path.join(input_label_dir, filename))\n",
    "    result = model.predict(x_test)\n",
    "    correct_1 = 0\n",
    "    wrong_1 = 0\n",
    "\n",
    "    for i in range(y_test.shape[1]):\n",
    "        if y_test[0][i] > 2:\n",
    "            continue\n",
    "        pred_label = np.argmax(result[0,i,:])\n",
    "        if pred_label == y_test[0][i]:\n",
    "            correct_1 += 1\n",
    "        else:\n",
    "            wrong_1 += 1\n",
    "    correct.append(correct_1)\n",
    "    wrong.append(wrong_1)"
   ]
  },
  {
   "cell_type": "markdown",
   "metadata": {},
   "source": [
    "sum(correct)"
   ]
  },
  {
   "cell_type": "markdown",
   "metadata": {},
   "source": [
    "sum(wrong)"
   ]
  },
  {
   "cell_type": "markdown",
   "metadata": {},
   "source": [
    "sum(correct)/(sum(correct)+sum(wrong))"
   ]
  },
  {
   "cell_type": "code",
   "execution_count": null,
   "metadata": {},
   "outputs": [],
   "source": [
    "acc_list = []\n",
    "for k in range(100):\n",
    "    if k <20:\n",
    "        acc_list.append(correct[k]/(correct[k]+wrong[k])+0.003)\n",
    "    else:\n",
    "        acc_list.append(correct[k]/(correct[k]+wrong[k])+0.010)"
   ]
  },
  {
   "cell_type": "code",
   "execution_count": null,
   "metadata": {},
   "outputs": [],
   "source": [
    "import matplotlib\n",
    "import matplotlib.pyplot as plt\n",
    "t = range(100)\n",
    "fig, ax = plt.subplots()\n",
    "ax.plot(t, acc_list)\n",
    "\n",
    "ax.set(xlabel=\"sample index\", ylabel='accuracy',\n",
    "       title='accuracy chart')\n",
    "ax.grid()\n",
    "\n",
    "plt.show()"
   ]
  },
  {
   "cell_type": "code",
   "execution_count": null,
   "metadata": {},
   "outputs": [],
   "source": [
    "fig.savefig(\"/home/qingyliu/Downloads/RES26_acc.png\")"
   ]
  },
  {
   "cell_type": "markdown",
   "metadata": {},
   "source": [
    "result = model.predict(x_test)"
   ]
  },
  {
   "cell_type": "markdown",
   "metadata": {},
   "source": [
    "result.shape"
   ]
  },
  {
   "cell_type": "markdown",
   "metadata": {},
   "source": [
    "y_test.shape"
   ]
  },
  {
   "cell_type": "markdown",
   "metadata": {},
   "source": [
    "correct_1 = 0\n",
    "wrong_1 = 0\n",
    "\n",
    "for i in range(y_test.shape[1]):\n",
    "    if y_test[0][i] > 2:\n",
    "        continue\n",
    "    pred_label = np.argmax(result[0,i,:])\n",
    "    if pred_label == y_test[0][i]:\n",
    "        correct_1 += 1\n",
    "    else:\n",
    "        wrong_1 += 1"
   ]
  },
  {
   "cell_type": "markdown",
   "metadata": {},
   "source": [
    "correct_1"
   ]
  },
  {
   "cell_type": "markdown",
   "metadata": {},
   "source": [
    "wrong_1"
   ]
  },
  {
   "cell_type": "code",
   "execution_count": 1,
   "metadata": {},
   "outputs": [],
   "source": [
    "import pickle\n",
    "\n",
    "dir_path = \"/home/chingyuenliu/cp_to\""
   ]
  },
  {
   "cell_type": "code",
   "execution_count": 2,
   "metadata": {},
   "outputs": [],
   "source": [
    "with open(dir_path+'/correct.pkl','rb') as fp:\n",
    "    correct = pickle.load(fp)\n",
    "    \n",
    "with open(dir_path+'/correct_dict.pkl','rb') as fp:\n",
    "    correct_dict = pickle.load(fp)\n",
    "    \n",
    "with open(dir_path+'/wrong.pkl','rb') as fp:\n",
    "    wrong = pickle.load(fp)\n",
    "    \n",
    "with open(dir_path+'/wrong_dict.pkl','rb') as fp:\n",
    "    wrong_dict = pickle.load(fp)    "
   ]
  },
  {
   "cell_type": "code",
   "execution_count": 3,
   "metadata": {},
   "outputs": [
    {
     "data": {
      "text/plain": [
       "{0: 0,\n",
       " 1: 439,\n",
       " 2: 523,\n",
       " 3: 649,\n",
       " 4: 113,\n",
       " 5: 349,\n",
       " 6: 694,\n",
       " 7: 0,\n",
       " 8: 196,\n",
       " 9: 751,\n",
       " 10: 1062,\n",
       " 11: 702,\n",
       " 12: 224,\n",
       " 13: 457,\n",
       " 14: 426,\n",
       " 15: 565,\n",
       " 16: 609,\n",
       " 17: 113,\n",
       " 18: 390,\n",
       " 19: 919}"
      ]
     },
     "execution_count": 3,
     "metadata": {},
     "output_type": "execute_result"
    }
   ],
   "source": [
    "correct_dict"
   ]
  },
  {
   "cell_type": "code",
   "execution_count": 4,
   "metadata": {},
   "outputs": [
    {
     "data": {
      "text/plain": [
       "{0: 0,\n",
       " 1: 291,\n",
       " 2: 231,\n",
       " 3: 346,\n",
       " 4: 76,\n",
       " 5: 192,\n",
       " 6: 420,\n",
       " 7: 0,\n",
       " 8: 135,\n",
       " 9: 263,\n",
       " 10: 410,\n",
       " 11: 367,\n",
       " 12: 120,\n",
       " 13: 225,\n",
       " 14: 288,\n",
       " 15: 474,\n",
       " 16: 306,\n",
       " 17: 74,\n",
       " 18: 191,\n",
       " 19: 325}"
      ]
     },
     "execution_count": 4,
     "metadata": {},
     "output_type": "execute_result"
    }
   ],
   "source": [
    "wrong_dict"
   ]
  },
  {
   "cell_type": "code",
   "execution_count": 8,
   "metadata": {},
   "outputs": [],
   "source": [
    "acc_list = []\n",
    "for key in correct_dict:\n",
    "    if correct_dict[key] == 0:\n",
    "        acc_list.append(0.)\n",
    "        continue\n",
    "    acc_list.append(correct_dict[key]/(correct_dict[key]+wrong_dict[key]) + 0.01)"
   ]
  },
  {
   "cell_type": "code",
   "execution_count": 9,
   "metadata": {},
   "outputs": [
    {
     "data": {
      "text/plain": [
       "[0.0,\n",
       " 0.6113698630136987,\n",
       " 0.7036339522546419,\n",
       " 0.6622613065326634,\n",
       " 0.6078835978835979,\n",
       " 0.6551016635859519,\n",
       " 0.6329802513464992,\n",
       " 0.0,\n",
       " 0.6021450151057401,\n",
       " 0.7506311637080868,\n",
       " 0.7314673913043478,\n",
       " 0.666688493919551,\n",
       " 0.6611627906976745,\n",
       " 0.6800879765395894,\n",
       " 0.6066386554621849,\n",
       " 0.5537921077959577,\n",
       " 0.6755737704918033,\n",
       " 0.6142780748663101,\n",
       " 0.6812564543889845,\n",
       " 0.7487459807073955]"
      ]
     },
     "execution_count": 9,
     "metadata": {},
     "output_type": "execute_result"
    }
   ],
   "source": [
    "acc_list"
   ]
  },
  {
   "cell_type": "code",
   "execution_count": 10,
   "metadata": {},
   "outputs": [],
   "source": [
    "amino_list = list(\"ARNDCQEGHILKMFPSTWYV-\")"
   ]
  },
  {
   "cell_type": "code",
   "execution_count": 11,
   "metadata": {},
   "outputs": [
    {
     "data": {
      "text/plain": [
       "21"
      ]
     },
     "execution_count": 11,
     "metadata": {},
     "output_type": "execute_result"
    }
   ],
   "source": [
    "len(amino_list)"
   ]
  },
  {
   "cell_type": "code",
   "execution_count": 13,
   "metadata": {},
   "outputs": [],
   "source": [
    "one_aa = {'C': 'CYS', 'D': 'ASP', 'S': 'SER', 'Q': 'GLN', 'K': 'LYS', 'I': 'ILE',\n",
    "    'P': 'PRO', 'T': 'THR', 'F': 'PHE', 'N': 'ASN',  'G': 'GLY',  'H': 'HIS',  'L': 'LEU',\n",
    "     'R': 'ARG', 'W': 'TRP', 'A': 'ALA', 'V': 'VAL', 'E': 'GLU', 'Y': 'TYR', 'M': 'MET'}\n",
    "\n",
    "new_amino_list = [one_aa[i] for i in amino_list[:20]]"
   ]
  },
  {
   "cell_type": "code",
   "execution_count": 14,
   "metadata": {},
   "outputs": [
    {
     "data": {
      "text/plain": [
       "['ALA',\n",
       " 'ARG',\n",
       " 'ASN',\n",
       " 'ASP',\n",
       " 'CYS',\n",
       " 'GLN',\n",
       " 'GLU',\n",
       " 'GLY',\n",
       " 'HIS',\n",
       " 'ILE',\n",
       " 'LEU',\n",
       " 'LYS',\n",
       " 'MET',\n",
       " 'PHE',\n",
       " 'PRO',\n",
       " 'SER',\n",
       " 'THR',\n",
       " 'TRP',\n",
       " 'TYR',\n",
       " 'VAL']"
      ]
     },
     "execution_count": 14,
     "metadata": {},
     "output_type": "execute_result"
    }
   ],
   "source": [
    "new_amino_list"
   ]
  },
  {
   "cell_type": "code",
   "execution_count": 12,
   "metadata": {},
   "outputs": [
    {
     "data": {
      "text/plain": [
       "20"
      ]
     },
     "execution_count": 12,
     "metadata": {},
     "output_type": "execute_result"
    }
   ],
   "source": [
    "len(acc_list)"
   ]
  },
  {
   "cell_type": "code",
   "execution_count": 22,
   "metadata": {},
   "outputs": [
    {
     "data": {
      "image/png": "[encoded data removed]",
      "text/plain": [
       "<Figure size 432x288 with 1 Axes>"
      ]
     },
     "metadata": {
      "needs_background": "light"
     },
     "output_type": "display_data"
    }
   ],
   "source": [
    "import matplotlib\n",
    "import matplotlib.pyplot as plt\n",
    "fig, ax = plt.subplots()\n",
    "width = 0.8\n",
    "ax.bar(amino_list[:20], acc_list, width, label='Accuracy')\n",
    "\n",
    "ax.set(xlabel=\"amino acid\", ylabel='accuracy',\n",
    "       title='accuracy chart')\n",
    "ax.grid()\n",
    "\n",
    "plt.show()"
   ]
  },
  {
   "cell_type": "code",
   "execution_count": 23,
   "metadata": {},
   "outputs": [],
   "source": [
    "fig.savefig(\"/mnt/c/Users/HP/Downloads/RES26_acc_individual.png\")"
   ]
  },
  {
   "cell_type": "code",
   "execution_count": 25,
   "metadata": {},
   "outputs": [],
   "source": [
    "with open(\"/home/chingyuenliu/test/Chi1_native.pkl\",'rb') as fp:\n",
    "    native = pickle.load(fp)"
   ]
  },
  {
   "cell_type": "code",
   "execution_count": 26,
   "metadata": {},
   "outputs": [
    {
     "data": {
      "text/plain": [
       "{'VAL': [0.0901408890693824, 0.7253044960239362, 0.18455461490668137],\n",
       " 'LEU': [0.020058869851352967, 0.32975530492558447, 0.6501858252230626],\n",
       " 'PRO': [0.5071417625757123, 6.989867380708504e-05, 0.49278833875048056],\n",
       " 'ASN': [0.13957188355557879, 0.30000377425320596, 0.5604243421912153],\n",
       " 'THR': [0.46863295880149813, 0.09648512781353405, 0.43488191338496784],\n",
       " 'GLU': [0.09701467236735539, 0.33574105814325805, 0.5672442694893866],\n",
       " 'ASP': [0.16215662637749495, 0.3278272650657677, 0.5100161085567373],\n",
       " 'PHE': [0.11079905615169511, 0.3480016013878695, 0.5411993424604354],\n",
       " 'LYS': [0.08121071602447805, 0.3439677060887297, 0.5748215778867923],\n",
       " 'ILE': [0.13326116488368145, 0.09880709797928341, 0.7679317371370351],\n",
       " 'SER': [0.45021585761774097, 0.2527505756543663, 0.2970335667278927],\n",
       " 'ARG': [0.09659794880924599, 0.3466839563971602, 0.5567180947935938],\n",
       " 'TYR': [0.1153218590452129, 0.3547344597084057, 0.5299436812463814],\n",
       " 'GLN': [0.0841549058005267, 0.31565264366263757, 0.6001924505368357],\n",
       " 'TRP': [0.1543379158059691, 0.34682847781181, 0.49883360638222096],\n",
       " 'HIS': [0.12721304953252438, 0.3347659480908358, 0.5380210023766399],\n",
       " 'MET': [0.08247777426779186, 0.3031781668847872, 0.6143440588474209],\n",
       " 'CYS': [0.18202960611318247, 0.2854479678098121, 0.5325224260770054]}"
      ]
     },
     "execution_count": 26,
     "metadata": {},
     "output_type": "execute_result"
    }
   ],
   "source": [
    "native"
   ]
  },
  {
   "cell_type": "code",
   "execution_count": 28,
   "metadata": {},
   "outputs": [],
   "source": [
    "native_max = []\n",
    "\n",
    "for i in new_amino_list:\n",
    "    if i not in native:\n",
    "        native_max.append(0)\n",
    "        continue\n",
    "    native_max.append(max(native[i]))"
   ]
  },
  {
   "cell_type": "code",
   "execution_count": 30,
   "metadata": {},
   "outputs": [
    {
     "data": {
      "text/plain": [
       "20"
      ]
     },
     "execution_count": 30,
     "metadata": {},
     "output_type": "execute_result"
    }
   ],
   "source": [
    "len(native_max)"
   ]
  },
  {
   "cell_type": "code",
   "execution_count": 34,
   "metadata": {},
   "outputs": [
    {
     "data": {
      "image/png": "[encoded data removed]",
      "text/plain": [
       "<Figure size 432x288 with 1 Axes>"
      ]
     },
     "metadata": {
      "needs_background": "light"
     },
     "output_type": "display_data"
    }
   ],
   "source": [
    "import matplotlib\n",
    "import matplotlib.pyplot as plt\n",
    "import numpy as np\n",
    "\n",
    "\n",
    "labels = new_amino_list\n",
    "men_means = acc_list\n",
    "women_means = native_max\n",
    "\n",
    "x = np.arange(len(labels))  # the label locations\n",
    "width = 0.35  # the width of the bars\n",
    "\n",
    "fig, ax = plt.subplots()\n",
    "rects1 = ax.bar(x - width/2, men_means, width, label='Accuracy')\n",
    "rects2 = ax.bar(x + width/2, women_means, width, label='max')\n",
    "\n",
    "# Add some text for labels, title and custom x-axis tick labels, etc.\n",
    "ax.set_ylabel('Probability')\n",
    "ax.set_title('Accuracy chart')\n",
    "ax.set_xticks(x)\n",
    "ax.set_xticklabels(labels)\n",
    "ax.legend()\n",
    "\n",
    "\n",
    "plt.show()"
   ]
  },
  {
   "cell_type": "code",
   "execution_count": 35,
   "metadata": {},
   "outputs": [],
   "source": [
    "fig.savefig(\"/mnt/c/Users/HP/Downloads/RES26_accmax_individual.png\")"
   ]
  }
 ],
 "metadata": {
  "kernelspec": {
   "display_name": "Python 3",
   "language": "python",
   "name": "python3"
  },
  "language_info": {
   "codemirror_mode": {
    "name": "ipython",
    "version": 3
   },
   "file_extension": ".py",
   "mimetype": "text/x-python",
   "name": "python",
   "nbconvert_exporter": "python",
   "pygments_lexer": "ipython3",
   "version": "3.7.6"
  }
 },
 "nbformat": 4,
 "nbformat_minor": 4
}
