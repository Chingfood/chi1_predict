{
 "cells": [
  {
   "cell_type": "code",
   "execution_count": 12,
   "metadata": {},
   "outputs": [],
   "source": [
    "import numpy as np"
   ]
  },
  {
   "cell_type": "code",
   "execution_count": 13,
   "metadata": {},
   "outputs": [],
   "source": [
    "train_feature_file_format = \"/nfs/amino-home/qingyliu/dihedral_angle/ML_data/back_tag/back_train_feature_new_\"\n"
   ]
  },
  {
   "cell_type": "code",
   "execution_count": 14,
   "metadata": {},
   "outputs": [],
   "source": [
    "j = 3\n",
    "train_features= np.load(train_feature_file_format+str(j)+\".npy\")\n"
   ]
  },
  {
   "cell_type": "code",
   "execution_count": 15,
   "metadata": {},
   "outputs": [],
   "source": [
    "np.save(\"/nfs/amino-home/qingyliu/dihedral_angle/ML_data/back_tag/PSSM_only/back_train_PSSM_3\", train_features[:,:,0:20])"
   ]
  },
  {
   "cell_type": "code",
   "execution_count": 16,
   "metadata": {},
   "outputs": [],
   "source": [
    "np.save(\"/nfs/amino-home/qingyliu/dihedral_angle/ML_data/back_tag/PSSM_only/back_train_PSSM_terminal_3\", np.concatenate([train_features[:,:,0:20],train_features[:,:,26:27]],axis = 2))"
   ]
  },
  {
   "cell_type": "code",
   "execution_count": 17,
   "metadata": {},
   "outputs": [],
   "source": [
    "np.save(\"/nfs/amino-home/qingyliu/dihedral_angle/ML_data/back_tag/secondary_only/back_train_secondary_3\",train_features[:,:,20:23])"
   ]
  },
  {
   "cell_type": "code",
   "execution_count": 18,
   "metadata": {},
   "outputs": [],
   "source": [
    "np.save(\"/nfs/amino-home/qingyliu/dihedral_angle/ML_data/back_tag/secondary_only/back_train_secondary_terminal_3\",np.concatenate([train_features[:,:,20:23],train_features[:,:,26:27]],axis = 2))"
   ]
  },
  {
   "cell_type": "code",
   "execution_count": 19,
   "metadata": {},
   "outputs": [],
   "source": [
    "np.save(\"/nfs/amino-home/qingyliu/dihedral_angle/ML_data/back_tag/native_only/back_train_native_3\",train_features[:,:,23:26])"
   ]
  },
  {
   "cell_type": "code",
   "execution_count": 20,
   "metadata": {},
   "outputs": [],
   "source": [
    "np.save(\"/nfs/amino-home/qingyliu/dihedral_angle/ML_data/back_tag/native_only/back_train_native_terminal_3\",np.concatenate([train_features[:,:,23:26],train_features[:,:,26:27]],axis = 2))"
   ]
  }
 ],
 "metadata": {
  "kernelspec": {
   "display_name": "Python 3",
   "language": "python",
   "name": "python3"
  },
  "language_info": {
   "codemirror_mode": {
    "name": "ipython",
    "version": 3
   },
   "file_extension": ".py",
   "mimetype": "text/x-python",
   "name": "python",
   "nbconvert_exporter": "python",
   "pygments_lexer": "ipython3",
   "version": "3.7.3"
  }
 },
 "nbformat": 4,
 "nbformat_minor": 2
}
