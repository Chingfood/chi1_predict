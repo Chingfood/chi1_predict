{
 "cells": [
  {
   "cell_type": "code",
   "execution_count": 3,
   "metadata": {},
   "outputs": [],
   "source": [
    "label_dir = \"/nfs/amino-home/qingyliu/dihedral_angle/chi1_label\"\n",
    "cov_dir = \"/nfs/amino-home/qingyliu/dihedral_angle/conv_ML_input\"\n",
    "big_cov_dir = \"/nfs/amino-home/qingyliu/dihedral_angle/conv_ML_too_big\"\n",
    "big_label_dir = \"/nfs/amino-home/qingyliu/dihedral_angle/chi1_label_too_big\""
   ]
  },
  {
   "cell_type": "code",
   "execution_count": 5,
   "metadata": {},
   "outputs": [],
   "source": [
    "import os\n",
    "import numpy as np\n",
    "\n",
    "directory = os.fsencode(label_dir)\n",
    "\n",
    "for file in os.listdir(directory):\n",
    "    filename = os.fsdecode(file)\n",
    "    if filename.endswith(\".npy\") and os.path.isfile(os.path.join(cov_dir, filename[:-4]+\".npy\")):\n",
    "        a = np.load(os.path.join(label_dir,filename))\n",
    "        length = a.shape[1]\n",
    "        if length > 300 and length < 600:\n",
    "            b = np.load(os.path.join(cov_dir,filename))\n",
    "            np.save(os.path.join(cov_dir,filename[:-4]+\"_1\"), np.expand_dims(b[0,:length//2,:length//2,:],0))\n",
    "            np.save(os.path.join(cov_dir,filename[:-4]+\"_2\"), np.expand_dims(b[0,length//2:,length//2:,:],0))           \n",
    "            np.save(os.path.join(label_dir,filename[:-4]+\"_1\"),a[0,:length//2])\n",
    "            np.save(os.path.join(label_dir,filename[:-4]+\"_2\"),a[0,length//2:])\n",
    "            os.rename(os.path.join(label_dir,filename),os.path.join(big_label_dir,filename))\n",
    "            os.rename(os.path.join(cov_dir,filename),os.path.join(big_cov_dir,filename))\n",
    "            \n",
    "        if length > 600 and length < 900:\n",
    "            b = np.load(os.path.join(cov_dir,filename))\n",
    "            \n",
    "            np.save(os.path.join(cov_dir,filename[:-4]+\"_1\"), np.expand_dims(b[0,:length//3,:length//3,:],0))\n",
    "            np.save(os.path.join(cov_dir,filename[:-4]+\"_2\"), np.expand_dims(b[0,length//3:2*length//3,length//3:2*length//3,:],0))\n",
    "            np.save(os.path.join(cov_dir,filename[:-4]+\"_3\"), np.expand_dims(b[0,2*length//3:,2*length//3:,:],0))\n",
    "            \n",
    "            np.save(os.path.join(label_dir,filename[:-4]+\"_1\"),a[0,:length//3])\n",
    "            np.save(os.path.join(label_dir,filename[:-4]+\"_2\"),a[0,length//3:2*length//3])\n",
    "            np.save(os.path.join(label_dir,filename[:-4]+\"_2\"),a[0,2*length//3:])\n",
    "            \n",
    "            os.rename(os.path.join(label_dir,filename),os.path.join(big_label_dir,filename))\n",
    "            os.rename(os.path.join(cov_dir,filename),os.path.join(big_cov_dir,filename))\n",
    "            \n",
    "        if length > 900 and length < 1200:\n",
    "            b = np.load(os.path.join(cov_dir,filename))\n",
    "            \n",
    "            np.save(os.path.join(cov_dir,filename[:-4]+\"_1\"), np.expand_dims(b[0,:length//4,:length//4,:],0))\n",
    "            np.save(os.path.join(cov_dir,filename[:-4]+\"_2\"), np.expand_dims(b[0,length//4:2*length//4,length//4:2*length//4,:],0))\n",
    "            np.save(os.path.join(cov_dir,filename[:-4]+\"_3\"), np.expand_dims(b[0,2*length//4:3*length//4,2*length//4:3*length//4,:],0))\n",
    "            np.save(os.path.join(cov_dir,filename[:-4]+\"_4\"), np.expand_dims(b[0,3*length//4:,3*length//4:,:],0))\n",
    "            \n",
    "            np.save(os.path.join(label_dir,filename[:-4]+\"_1\"),a[0,:length//4])\n",
    "            np.save(os.path.join(label_dir,filename[:-4]+\"_2\"),a[0,length//3:2*length//4])\n",
    "            np.save(os.path.join(label_dir,filename[:-4]+\"_3\"),a[0,2*length//3:3*length//4])\n",
    "            np.save(os.path.join(label_dir,filename[:-4]+\"_4\"),a[0,3*length//4:])\n",
    "            \n",
    "            os.rename(os.path.join(label_dir,filename),os.path.join(big_label_dir,filename))\n",
    "            os.rename(os.path.join(cov_dir,filename),os.path.join(big_cov_dir,filename))\n",
    "            \n",
    "            \n",
    "            "
   ]
  }
 ],
 "metadata": {
  "kernelspec": {
   "display_name": "Python 3",
   "language": "python",
   "name": "python3"
  },
  "language_info": {
   "codemirror_mode": {
    "name": "ipython",
    "version": 3
   },
   "file_extension": ".py",
   "mimetype": "text/x-python",
   "name": "python",
   "nbconvert_exporter": "python",
   "pygments_lexer": "ipython3",
   "version": "3.7.4"
  }
 },
 "nbformat": 4,
 "nbformat_minor": 4
}
