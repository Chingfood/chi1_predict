{
 "cells": [
  {
   "cell_type": "code",
   "execution_count": 1,
   "metadata": {},
   "outputs": [],
   "source": [
    "import numpy as np"
   ]
  },
  {
   "cell_type": "code",
   "execution_count": 22,
   "metadata": {},
   "outputs": [],
   "source": [
    "def range_determine(deg):\n",
    "    try:\n",
    "        deg = float(deg)\n",
    "    except:\n",
    "        return 3\n",
    "        \n",
    "    if (deg <0):\n",
    "        deg = deg +360\n",
    "    if deg>=0 and deg <120:\n",
    "        return 0\n",
    "    elif deg>=120 and deg <240:\n",
    "        return 1\n",
    "    elif deg>=240 and deg <360:\n",
    "        return 2\n",
    "    else:\n",
    "        return 3"
   ]
  },
  {
   "cell_type": "code",
   "execution_count": 4,
   "metadata": {},
   "outputs": [],
   "source": [
    "training_raw_path = \"/nfs/amino-home/qingyliu/dihedral_angle/ML_data/back_tag/back_train_scaled.npy\"\n",
    "training_raw = np.load(training_raw_path, allow_pickle = True)"
   ]
  },
  {
   "cell_type": "code",
   "execution_count": 24,
   "metadata": {},
   "outputs": [],
   "source": [
    "training_feature_file_name = \"/nfs/amino-home/qingyliu/dihedral_angle/ML_data/back_tag/back_train_feature_\"\n",
    "training_label_value_file_name = \"/nfs/amino-home/qingyliu/dihedral_angle/ML_data/back_tag/back_train_label_value_\"\n",
    "training_label_file_name = \"/nfs/amino-home/qingyliu/dihedral_angle/ML_data/back_tag/back_train_label_\""
   ]
  },
  {
   "cell_type": "code",
   "execution_count": 18,
   "metadata": {},
   "outputs": [],
   "source": [
    "test = np.asarray(training_raw[0][0:15])[:,:-1]"
   ]
  },
  {
   "cell_type": "code",
   "execution_count": 21,
   "metadata": {},
   "outputs": [
    {
     "data": {
      "text/plain": [
       "20.29"
      ]
     },
     "execution_count": 21,
     "metadata": {},
     "output_type": "execute_result"
    }
   ],
   "source": [
    "training_raw[0][0][-1]"
   ]
  },
  {
   "cell_type": "code",
   "execution_count": 25,
   "metadata": {},
   "outputs": [],
   "source": [
    "train_feature = []\n",
    "train_label = []\n",
    "train_label_value=[]\n",
    "count = 0\n",
    "for i in range(len(training_raw)):\n",
    "    for j in range(len(training_raw[i])):\n",
    "        if len(train_label) > 499: # this number may change to 500*2500\n",
    "            np.save(training_feature_file_name+str(count),np.asarray(train_feature))\n",
    "            np.save(training_label_file_name+str(count),np.asarray(train_label))\n",
    "            np.save(training_label_value_file_name+str(count),np.asarray(train_label_value))\n",
    "            train_feature = []\n",
    "            train_label = []\n",
    "            train_label_value = []\n",
    "            count += 1\n",
    "\n",
    "        if training_raw[i][j][-1] != 940501 and training_raw[i][j][-1] != 930524 and training_raw[i][j][0] != 0 and training_raw[i][j][1] !=0 :\n",
    "            train_feature.append(np.asarray(training_raw[i][j:j+15])[:,:-1])\n",
    "            train_label.append(training_raw[i][j][-1])\n",
    "            train_label_value.append(range_determine(training_raw[i][j][-1]))"
   ]
  },
  {
   "cell_type": "code",
   "execution_count": null,
   "metadata": {},
   "outputs": [],
   "source": [
    "train_feature_format=\"/nfs/amino-home/qingyliu/dihedral_angle/ML_data/back_tag/back_train_feature_\"\n",
    "train_label_format = \"/nfs/amino-home/qingyliu/dihedral_angle/ML_data/back_tag/back_train_label_value\"\n",
    "train_label_value_format = \"/nfs/amino-home/qingyliu/dihedral_angle/ML_data/back_tag/back_train_label_\"\n",
    "\n",
    "raw_train_feature =[] \n",
    "raw_train_label = []\n",
    "raw_train_label_value = []\n",
    "for i in range(7500,9096):\n",
    "    raw_train_feature.append(np.load(train_feature_format+str(i)+\".npy\"))\n",
    "    raw_train_label.append(np.load(train_label_format+str(i)+\".npy\"))\n",
    "    raw_train_label_value.append(np.load(train_label_value_format+str(i)+\".npy\"))\n",
    "    \n",
    "train_label_value = np.concatenate(raw_train_label_value[:], axis =0)\n",
    "train_feature = np.concatenate(raw_train_feature[:],axis = 0)  \n",
    "train_label = np.concatenate(raw_train_label[:], axis =0)\n",
    "\n",
    "np.save(\"/nfs/amino-home/qingyliu/dihedral_angle/ML_data/back_tag/bak.back_train_label_value_new_3\",train_label_value)\n",
    "np.save(\"/nfs/amino-home/qingyliu/dihedral_angle/ML_data/back_tag/back_train_feature_new_3\",train_feature)\n",
    "np.save(\"/nfs/amino-home/qingyliu/dihedral_angle/ML_data/back_tag/back_train_label_value_3\",train_label)"
   ]
  }
 ],
 "metadata": {
  "kernelspec": {
   "display_name": "Python 3",
   "language": "python",
   "name": "python3"
  },
  "language_info": {
   "codemirror_mode": {
    "name": "ipython",
    "version": 3
   },
   "file_extension": ".py",
   "mimetype": "text/x-python",
   "name": "python",
   "nbconvert_exporter": "python",
   "pygments_lexer": "ipython3",
   "version": "3.7.3"
  }
 },
 "nbformat": 4,
 "nbformat_minor": 2
}
