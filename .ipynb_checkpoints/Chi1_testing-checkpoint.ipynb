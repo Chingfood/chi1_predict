{
 "cells": [
  {
   "cell_type": "code",
   "execution_count": 2,
   "metadata": {},
   "outputs": [],
   "source": [
    "import numpy as np\n"
   ]
  },
  {
   "cell_type": "code",
   "execution_count": 3,
   "metadata": {},
   "outputs": [],
   "source": [
    "from __future__ import absolute_import, division, print_function, unicode_literals\n",
    "\n",
    "import os\n",
    "\n",
    "import tensorflow as tf\n",
    "from tensorflow import keras"
   ]
  },
  {
   "cell_type": "code",
   "execution_count": null,
   "metadata": {},
   "outputs": [],
   "source": [
    "def create_model_3():\n",
    "    model = tf.keras.models.Sequential([\n",
    "        keras.layers.Flatten(input_shape=(15, 27)),\n",
    "        keras.layers.Dense(1024, activation=tf.keras.activations.relu ),\n",
    "\n",
    "        keras.layers.Dense(512, activation=tf.keras.activations.relu),\n",
    "\n",
    "        keras.layers.Dense(256, activation=tf.keras.activations.relu),\n",
    "        \n",
    "        keras.layers.Dense(128, activation=tf.keras.activations.relu),\n",
    "        \n",
    "        keras.layers.Dense(64, activation=tf.keras.activations.relu),\n",
    "\n",
    "        keras.layers.Dense(3,activation=tf.keras.activations.softmax)\n",
    "      ])\n",
    "\n",
    "    model.compile(optimizer=tf.keras.optimizers.Adam(),\n",
    "                loss=tf.keras.losses.sparse_categorical_crossentropy,\n",
    "                metrics=['accuracy'])\n",
    "\n",
    "    return model"
   ]
  },
  {
   "cell_type": "code",
   "execution_count": 4,
   "metadata": {},
   "outputs": [],
   "source": [
    "def create_model_1():\n",
    "    model = tf.keras.models.Sequential([\n",
    "        keras.layers.Flatten(input_shape=(15, 27)),\n",
    "\n",
    "        \n",
    "        keras.layers.Dense(128, activation=tf.keras.activations.relu),\n",
    "\n",
    "        keras.layers.Dense(3,activation=tf.keras.activations.softmax)\n",
    "      ])\n",
    "\n",
    "    model.compile(optimizer=tf.keras.optimizers.Adam(),\n",
    "                loss=tf.keras.losses.sparse_categorical_crossentropy,\n",
    "                metrics=['accuracy'])\n",
    "\n",
    "    return model\n"
   ]
  },
  {
   "cell_type": "code",
   "execution_count": null,
   "metadata": {},
   "outputs": [],
   "source": [
    "def create_model_2():\n",
    "    model = tf.keras.models.Sequential([\n",
    "        keras.layers.Flatten(input_shape=(15, 27)),\n",
    "        keras.layers.Dense(512, activation=tf.keras.activations.relu ),\n",
    "\n",
    "        keras.layers.Dense(256, activation=tf.keras.activations.relu),\n",
    "\n",
    "        keras.layers.Dense(128, activation=tf.keras.activations.relu),\n",
    "\n",
    "        keras.layers.Dense(3,activation=tf.keras.activations.softmax)\n",
    "      ])\n",
    "\n",
    "    model.compile(optimizer=tf.keras.optimizers.Adam(),\n",
    "                loss=tf.keras.losses.sparse_categorical_crossentropy,\n",
    "                metrics=['accuracy'])\n",
    "\n",
    "    return model\n"
   ]
  },
  {
   "cell_type": "code",
   "execution_count": 6,
   "metadata": {},
   "outputs": [],
   "source": [
    "\n",
    "test_feature_file_format = \"/nfs/amino-home/qingyliu/dihedral_angle/ML_data/back_tag/back_train_feature_new_4.npy\"\n",
    "test_label_file_format = \"/nfs/amino-home/qingyliu/dihedral_angle/ML_data/back_tag/back_train_label_new_4.npy\"\n",
    "\n",
    "\n",
    "test_features= np.load(test_feature_file_format)\n",
    "test_labels = np.load(test_label_file_format)\n"
   ]
  },
  {
   "cell_type": "code",
   "execution_count": 9,
   "metadata": {},
   "outputs": [
    {
     "name": "stdout",
     "output_type": "stream",
     "text": [
      "400000/400000 [==============================] - 14s 34us/sample - loss: 0.8126 - acc: 0.6231\n"
     ]
    },
    {
     "data": {
      "text/plain": [
       "(400000, 3)"
      ]
     },
     "execution_count": 9,
     "metadata": {},
     "output_type": "execute_result"
    }
   ],
   "source": [
    "checkpoint_path_1 = \"/nfs/amino-home/qingyliu/dihedral_angle/ML_data/back_tag/training_1/cp.ckpt\"\n",
    "checkpoint_dir_1 = os.path.dirname(checkpoint_path_1)\n",
    "\n",
    "model_1 = create_model_1()\n",
    "\n",
    "model_1.load_weights(checkpoint_path_1)\n",
    "loss,acc = model_1.evaluate(test_features, test_labels)\n",
    "model_1.predict(test_features)"
   ]
  },
  {
   "cell_type": "code",
   "execution_count": null,
   "metadata": {},
   "outputs": [],
   "source": [
    "checkpoint_path_2 = \"/nfs/amino-home/qingyliu/dihedral_angle/ML_data/back_tag/training_2/cp.ckpt\"\n",
    "model_2 = create_model_2()\n",
    "\n",
    "model_2.load_weights(checkpoint_path_2)\n",
    "loss,acc = model_2.evaluate(test_features, test_labels)\n",
    "model_2.predict(test_features)"
   ]
  },
  {
   "cell_type": "code",
   "execution_count": null,
   "metadata": {},
   "outputs": [],
   "source": [
    "checkpoint_path_3 = \"/nfs/amino-home/qingyliu/dihedral_angle/ML_data/back_tag/training_3/cp.ckpt\"\n",
    "model_3 = create_model_3()\n",
    "\n",
    "model_3.load_weights(checkpoint_path_3)\n",
    "loss,acc = model_3.evaluate(test_features, test_labels)\n",
    "model_3.predict(test_features)"
   ]
  }
 ],
 "metadata": {
  "kernelspec": {
   "display_name": "Python 3",
   "language": "python",
   "name": "python3"
  },
  "language_info": {
   "codemirror_mode": {
    "name": "ipython",
    "version": 3
   },
   "file_extension": ".py",
   "mimetype": "text/x-python",
   "name": "python",
   "nbconvert_exporter": "python",
   "pygments_lexer": "ipython3",
   "version": "3.7.3"
  }
 },
 "nbformat": 4,
 "nbformat_minor": 2
}
