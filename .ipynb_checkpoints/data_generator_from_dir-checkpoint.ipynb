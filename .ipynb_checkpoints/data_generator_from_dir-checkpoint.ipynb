{
 "cells": [
  {
   "cell_type": "code",
   "execution_count": 2,
   "metadata": {},
   "outputs": [],
   "source": [
    "import tensorflow as tf"
   ]
  },
  {
   "cell_type": "code",
   "execution_count": 3,
   "metadata": {},
   "outputs": [],
   "source": [
    "import pathlib"
   ]
  },
  {
   "cell_type": "code",
   "execution_count": 14,
   "metadata": {},
   "outputs": [],
   "source": [
    "import os"
   ]
  },
  {
   "cell_type": "code",
   "execution_count": 4,
   "metadata": {},
   "outputs": [],
   "source": [
    "data_dir = pathlib.Path(\"/nfs/amino-home/qingyliu/dihedral_angle/conv_ML_input\")"
   ]
  },
  {
   "cell_type": "code",
   "execution_count": 7,
   "metadata": {},
   "outputs": [
    {
     "data": {
      "text/plain": [
       "[PosixPath('/nfs/amino-home/qingyliu/dihedral_angle/conv_ML_input/4m5dA.npy'),\n",
       " PosixPath('/nfs/amino-home/qingyliu/dihedral_angle/conv_ML_input/5xgtA.npy'),\n",
       " PosixPath('/nfs/amino-home/qingyliu/dihedral_angle/conv_ML_input/6q58A.npy'),\n",
       " PosixPath('/nfs/amino-home/qingyliu/dihedral_angle/conv_ML_input/4cvuA.npy'),\n",
       " PosixPath('/nfs/amino-home/qingyliu/dihedral_angle/conv_ML_input/1hp1A.npy'),\n",
       " PosixPath('/nfs/amino-home/qingyliu/dihedral_angle/conv_ML_input/6p0cA.npy'),\n",
       " PosixPath('/nfs/amino-home/qingyliu/dihedral_angle/conv_ML_input/1qsaA.npy'),\n",
       " PosixPath('/nfs/amino-home/qingyliu/dihedral_angle/conv_ML_input/4hvtA.npy'),\n",
       " PosixPath('/nfs/amino-home/qingyliu/dihedral_angle/conv_ML_input/5mq6A.npy'),\n",
       " PosixPath('/nfs/amino-home/qingyliu/dihedral_angle/conv_ML_input/4ccdA.npy'),\n",
       " PosixPath('/nfs/amino-home/qingyliu/dihedral_angle/conv_ML_input/3aj7A.npy'),\n",
       " PosixPath('/nfs/amino-home/qingyliu/dihedral_angle/conv_ML_input/5yp4A.npy'),\n",
       " PosixPath('/nfs/amino-home/qingyliu/dihedral_angle/conv_ML_input/1mpxA.npy'),\n",
       " PosixPath('/nfs/amino-home/qingyliu/dihedral_angle/conv_ML_input/6cpuA.npy'),\n",
       " PosixPath('/nfs/amino-home/qingyliu/dihedral_angle/conv_ML_input/6mltA.npy'),\n",
       " PosixPath('/nfs/amino-home/qingyliu/dihedral_angle/conv_ML_input/4hhrA.npy')]"
      ]
     },
     "execution_count": 7,
     "metadata": {},
     "output_type": "execute_result"
    }
   ],
   "source": [
    "list(data_dir.glob('*.npy'))"
   ]
  },
  {
   "cell_type": "code",
   "execution_count": 8,
   "metadata": {},
   "outputs": [],
   "source": [
    "list_ds = tf.data.Dataset.list_files(str(data_dir/'*'))"
   ]
  },
  {
   "cell_type": "code",
   "execution_count": 10,
   "metadata": {},
   "outputs": [
    {
     "name": "stdout",
     "output_type": "stream",
     "text": [
      "tf.Tensor(b'/nfs/amino-home/qingyliu/dihedral_angle/conv_ML_input/4m5dA.npy', shape=(), dtype=string)\n",
      "tf.Tensor(b'/nfs/amino-home/qingyliu/dihedral_angle/conv_ML_input/6cpuA.npy', shape=(), dtype=string)\n",
      "tf.Tensor(b'/nfs/amino-home/qingyliu/dihedral_angle/conv_ML_input/6mltA.npy', shape=(), dtype=string)\n",
      "tf.Tensor(b'/nfs/amino-home/qingyliu/dihedral_angle/conv_ML_input/1qsaA.npy', shape=(), dtype=string)\n",
      "tf.Tensor(b'/nfs/amino-home/qingyliu/dihedral_angle/conv_ML_input/4hhrA.npy', shape=(), dtype=string)\n"
     ]
    }
   ],
   "source": [
    "for f in list_ds.take(5):\n",
    "    print(f)"
   ]
  },
  {
   "cell_type": "code",
   "execution_count": 16,
   "metadata": {},
   "outputs": [],
   "source": [
    "def get_label(file_path):\n",
    "    print(file_path)\n",
    "  # convert the path to a list of path components\n",
    "    parts = tf.strings.split(file_path, os.path.sep)\n",
    "  # The second to last is the class-directory\n",
    "    return parts"
   ]
  },
  {
   "cell_type": "code",
   "execution_count": 12,
   "metadata": {},
   "outputs": [],
   "source": [
    "def process_path(file_path):\n",
    "    label = get_label(file_path)\n",
    "  # load the raw data from the file as a string\n",
    "    img = tf.io.read_file(file_path)\n",
    "\n",
    "    return img, label"
   ]
  },
  {
   "cell_type": "code",
   "execution_count": 17,
   "metadata": {},
   "outputs": [
    {
     "name": "stdout",
     "output_type": "stream",
     "text": [
      "Tensor(\"args_0:0\", shape=(), dtype=string)\n"
     ]
    }
   ],
   "source": [
    "labeled_ds = list_ds.map(process_path)"
   ]
  },
  {
   "cell_type": "code",
   "execution_count": 19,
   "metadata": {},
   "outputs": [],
   "source": [
    "for image, label in labeled_ds.take(1):\n",
    "    print(\"Image shape: \", image.numpy())\n",
    "    print(\"Label: \", label.numpy())"
   ]
  }
 ],
 "metadata": {
  "kernelspec": {
   "display_name": "Python 3",
   "language": "python",
   "name": "python3"
  },
  "language_info": {
   "codemirror_mode": {
    "name": "ipython",
    "version": 3
   },
   "file_extension": ".py",
   "mimetype": "text/x-python",
   "name": "python",
   "nbconvert_exporter": "python",
   "pygments_lexer": "ipython3",
   "version": "3.7.4"
  }
 },
 "nbformat": 4,
 "nbformat_minor": 4
}
