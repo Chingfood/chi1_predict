{
 "cells": [
  {
   "cell_type": "code",
   "execution_count": 4,
   "metadata": {},
   "outputs": [],
   "source": [
    "import numpy as np"
   ]
  },
  {
   "cell_type": "code",
   "execution_count": 7,
   "metadata": {},
   "outputs": [],
   "source": [
    "import functools"
   ]
  },
  {
   "cell_type": "code",
   "execution_count": 2,
   "metadata": {},
   "outputs": [],
   "source": [
    "training_feature_file_name = \"/nfs/amino-home/qingyliu/dihedral_angle/ML_data/whole_seq/hhblits/train_feature.npy\"\n",
    "training_label_value_file_name = \"/nfs/amino-home/qingyliu/dihedral_angle/ML_data/whole_seq/hhblits/train_label_value.npy\"\n",
    "training_label_file_name = \"/nfs/amino-home/qingyliu/dihedral_angle/ML_data/whole_seq/hhblits/train_label.npy\""
   ]
  },
  {
   "cell_type": "code",
   "execution_count": 5,
   "metadata": {},
   "outputs": [],
   "source": [
    "train_label = np.load(training_label_file_name,allow_pickle = True)"
   ]
  },
  {
   "cell_type": "code",
   "execution_count": 24,
   "metadata": {},
   "outputs": [],
   "source": [
    "remove_list = []"
   ]
  },
  {
   "cell_type": "code",
   "execution_count": 26,
   "metadata": {},
   "outputs": [],
   "source": [
    "for i in range(train_label.shape[0]):\n",
    "    if(not functools.reduce(lambda a,b: a|b, np.isin([0,1,2],train_label[i]))):\n",
    "        remove_list.append(i)"
   ]
  },
  {
   "cell_type": "code",
   "execution_count": 27,
   "metadata": {},
   "outputs": [
    {
     "data": {
      "text/plain": [
       "[]"
      ]
     },
     "execution_count": 27,
     "metadata": {},
     "output_type": "execute_result"
    }
   ],
   "source": [
    "remove_list"
   ]
  },
  {
   "cell_type": "code",
   "execution_count": 15,
   "metadata": {},
   "outputs": [],
   "source": [
    "train_label_new = np.delete(train_label,remove_list)"
   ]
  },
  {
   "cell_type": "code",
   "execution_count": 19,
   "metadata": {},
   "outputs": [],
   "source": [
    "np.save(\"/nfs/amino-home/qingyliu/dihedral_angle/ML_data/whole_seq/hhblits/train_label_removed\",train_label_new,)"
   ]
  },
  {
   "cell_type": "code",
   "execution_count": 21,
   "metadata": {},
   "outputs": [],
   "source": [
    "train_feature = np.load(training_feature_file_name,allow_pickle = True)\n",
    "np.save(\"/nfs/amino-home/qingyliu/dihedral_angle/ML_data/whole_seq/hhblits/train_feature_removed\",np.delete(train_feature,remove_list))"
   ]
  },
  {
   "cell_type": "code",
   "execution_count": 22,
   "metadata": {},
   "outputs": [],
   "source": [
    "train_label_value = np.load(training_label_value_file_name,allow_pickle = True)\n",
    "np.save(\"/nfs/amino-home/qingyliu/dihedral_angle/ML_data/whole_seq/hhblits/train_label_value_removed\",np.delete(train_label_value,remove_list))"
   ]
  },
  {
   "cell_type": "code",
   "execution_count": 23,
   "metadata": {},
   "outputs": [
    {
     "data": {
      "text/plain": [
       "(27861,)"
      ]
     },
     "execution_count": 23,
     "metadata": {},
     "output_type": "execute_result"
    }
   ],
   "source": [
    "train_label_value.shape"
   ]
  },
  {
   "cell_type": "code",
   "execution_count": 29,
   "metadata": {},
   "outputs": [],
   "source": [
    "testing_feature_file_name = \"/nfs/amino-home/qingyliu/dihedral_angle/ML_data/whole_seq/hhblits/test_feature.npy\"\n",
    "testing_label_value_file_name = \"/nfs/amino-home/qingyliu/dihedral_angle/ML_data/whole_seq/hhblits/test_label_value.npy\"\n",
    "testing_label_file_name = \"/nfs/amino-home/qingyliu/dihedral_angle/ML_data/whole_seq/hhblits/test_label.npy\""
   ]
  },
  {
   "cell_type": "code",
   "execution_count": 30,
   "metadata": {},
   "outputs": [],
   "source": [
    "test_label = np.load(testing_label_file_name,allow_pickle = True)"
   ]
  },
  {
   "cell_type": "code",
   "execution_count": 31,
   "metadata": {},
   "outputs": [],
   "source": [
    "remove_list = []\n",
    "for i in range(test_label.shape[0]):\n",
    "    if(not functools.reduce(lambda a,b: a|b, np.isin([0,1,2],test_label[i]))):\n",
    "        remove_list.append(i)"
   ]
  },
  {
   "cell_type": "code",
   "execution_count": 32,
   "metadata": {},
   "outputs": [
    {
     "data": {
      "text/plain": [
       "[535,\n",
       " 607,\n",
       " 1080,\n",
       " 1148,\n",
       " 1239,\n",
       " 1312,\n",
       " 1497,\n",
       " 1750,\n",
       " 1785,\n",
       " 2135,\n",
       " 2212,\n",
       " 2276,\n",
       " 2988,\n",
       " 3280,\n",
       " 3285,\n",
       " 3373,\n",
       " 3695,\n",
       " 3947,\n",
       " 4277,\n",
       " 5046,\n",
       " 5200,\n",
       " 5219,\n",
       " 5382,\n",
       " 5537,\n",
       " 5710,\n",
       " 5727,\n",
       " 6069,\n",
       " 6095,\n",
       " 6216,\n",
       " 6270,\n",
       " 6709,\n",
       " 6759,\n",
       " 6859,\n",
       " 6939]"
      ]
     },
     "execution_count": 32,
     "metadata": {},
     "output_type": "execute_result"
    }
   ],
   "source": [
    "remove_list"
   ]
  },
  {
   "cell_type": "code",
   "execution_count": 33,
   "metadata": {},
   "outputs": [],
   "source": [
    "np.save(\"/nfs/amino-home/qingyliu/dihedral_angle/ML_data/whole_seq/hhblits/test_label_removed\",np.delete(test_label,remove_list))"
   ]
  },
  {
   "cell_type": "code",
   "execution_count": 34,
   "metadata": {},
   "outputs": [],
   "source": [
    "test_feature = np.load(testing_feature_file_name,allow_pickle = True)\n",
    "np.save(\"/nfs/amino-home/qingyliu/dihedral_angle/ML_data/whole_seq/hhblits/test_feature_removed\",np.delete(test_feature,remove_list))"
   ]
  },
  {
   "cell_type": "code",
   "execution_count": 35,
   "metadata": {},
   "outputs": [],
   "source": [
    "test_label_value = np.load(testing_label_value_file_name,allow_pickle = True)\n",
    "np.save(\"/nfs/amino-home/qingyliu/dihedral_angle/ML_data/whole_seq/hhblits/test_label_value_removed\",np.delete(test_label_value,remove_list))"
   ]
  },
  {
   "cell_type": "code",
   "execution_count": 36,
   "metadata": {},
   "outputs": [],
   "source": [
    "training_feature_file_name = \"/nfs/amino-home/qingyliu/dihedral_angle/ML_data/whole_seq/hhblits/train_feature_removed.npy\"\n",
    "training_label_value_file_name = \"/nfs/amino-home/qingyliu/dihedral_angle/ML_data/whole_seq/hhblits/train_label_value_removed.npy\"\n",
    "training_label_file_name = \"/nfs/amino-home/qingyliu/dihedral_angle/ML_data/whole_seq/hhblits/train_label_removed.npy\""
   ]
  },
  {
   "cell_type": "code",
   "execution_count": 38,
   "metadata": {},
   "outputs": [],
   "source": [
    "a = np.load(training_feature_file_name,allow_pickle = True)\n",
    "b = np.load(training_label_file_name,allow_pickle = True)\n",
    "c = np.load(training_label_value_file_name,allow_pickle = True)"
   ]
  },
  {
   "cell_type": "code",
   "execution_count": 39,
   "metadata": {},
   "outputs": [
    {
     "data": {
      "text/plain": [
       "(27751,)"
      ]
     },
     "execution_count": 39,
     "metadata": {},
     "output_type": "execute_result"
    }
   ],
   "source": [
    "a.shape"
   ]
  },
  {
   "cell_type": "code",
   "execution_count": 40,
   "metadata": {},
   "outputs": [
    {
     "data": {
      "text/plain": [
       "(27751,)"
      ]
     },
     "execution_count": 40,
     "metadata": {},
     "output_type": "execute_result"
    }
   ],
   "source": [
    "b.shape"
   ]
  },
  {
   "cell_type": "code",
   "execution_count": 41,
   "metadata": {},
   "outputs": [
    {
     "data": {
      "text/plain": [
       "(27751,)"
      ]
     },
     "execution_count": 41,
     "metadata": {},
     "output_type": "execute_result"
    }
   ],
   "source": [
    "c.shape"
   ]
  },
  {
   "cell_type": "code",
   "execution_count": 45,
   "metadata": {},
   "outputs": [],
   "source": [
    "testing_feature_file_name = \"/nfs/amino-home/qingyliu/dihedral_angle/ML_data/whole_seq/hhblits/test_feature_removed.npy\"\n",
    "testing_label_value_file_name = \"/nfs/amino-home/qingyliu/dihedral_angle/ML_data/whole_seq/hhblits/test_label_value_removed.npy\"\n",
    "testing_label_file_name = \"/nfs/amino-home/qingyliu/dihedral_angle/ML_data/whole_seq/hhblits/test_label_removed.npy\""
   ]
  },
  {
   "cell_type": "code",
   "execution_count": 46,
   "metadata": {},
   "outputs": [],
   "source": [
    "d = np.load(testing_feature_file_name,allow_pickle = True)\n",
    "e = np.load(testing_label_file_name,allow_pickle = True)\n",
    "f = np.load(testing_label_value_file_name,allow_pickle = True)"
   ]
  },
  {
   "cell_type": "code",
   "execution_count": 47,
   "metadata": {},
   "outputs": [
    {
     "data": {
      "text/plain": [
       "(6931,)"
      ]
     },
     "execution_count": 47,
     "metadata": {},
     "output_type": "execute_result"
    }
   ],
   "source": [
    "d.shape"
   ]
  },
  {
   "cell_type": "code",
   "execution_count": 48,
   "metadata": {},
   "outputs": [
    {
     "data": {
      "text/plain": [
       "(6931,)"
      ]
     },
     "execution_count": 48,
     "metadata": {},
     "output_type": "execute_result"
    }
   ],
   "source": [
    "d.shape"
   ]
  },
  {
   "cell_type": "code",
   "execution_count": 49,
   "metadata": {},
   "outputs": [
    {
     "data": {
      "text/plain": [
       "(6931,)"
      ]
     },
     "execution_count": 49,
     "metadata": {},
     "output_type": "execute_result"
    }
   ],
   "source": [
    "e.shape"
   ]
  },
  {
   "cell_type": "code",
   "execution_count": 51,
   "metadata": {},
   "outputs": [
    {
     "data": {
      "text/plain": [
       "6931"
      ]
     },
     "execution_count": 51,
     "metadata": {},
     "output_type": "execute_result"
    }
   ],
   "source": [
    "test_label.shape[0] -len(remove_list)"
   ]
  }
 ],
 "metadata": {
  "kernelspec": {
   "display_name": "Python 3",
   "language": "python",
   "name": "python3"
  },
  "language_info": {
   "codemirror_mode": {
    "name": "ipython",
    "version": 3
   },
   "file_extension": ".py",
   "mimetype": "text/x-python",
   "name": "python",
   "nbconvert_exporter": "python",
   "pygments_lexer": "ipython3",
   "version": "3.7.3"
  }
 },
 "nbformat": 4,
 "nbformat_minor": 2
}
