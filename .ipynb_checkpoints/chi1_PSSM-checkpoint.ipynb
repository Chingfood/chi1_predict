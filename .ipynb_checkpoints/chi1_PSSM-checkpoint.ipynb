{
 "cells": [
  {
   "cell_type": "code",
   "execution_count": null,
   "metadata": {},
   "outputs": [],
   "source": [
    "import numpy as np"
   ]
  },
  {
   "cell_type": "code",
   "execution_count": null,
   "metadata": {},
   "outputs": [],
   "source": [
    "from __future__ import absolute_import, division, print_function, unicode_literals\n",
    "\n",
    "import os\n",
    "\n",
    "import tensorflow as tf\n",
    "from tensorflow import keras\n",
    "\n",
    "tf.__version__"
   ]
  },
  {
   "cell_type": "code",
   "execution_count": null,
   "metadata": {},
   "outputs": [],
   "source": [
    "train_feature_file_format = \"/nfs/amino-home/qingyliu/dihedral_angle/ML_data/back_tag/PSSM_only/back_train_PSSM_terminal_3.npy\"\n",
    "\n",
    "train_label_file_format = \"/nfs/amino-home/qingyliu/dihedral_angle/ML_data/back_tag/back_train_label_new_\"\n",
    "\n",
    "for i in range(20):\n",
    "    for j in range(4):\n",
    "        train_features= np.load(train_feature_file_format+str(j)+\".npy\")\n",
    "        train_labels = np.load(train_label_file_format+str(j)+\".npy\")\n",
    "        checkpoint_path_1 = \"/nfs/amino-home/qingyliu/dihedral_angle/ML_data/back_tag/training_1/cp.ckpt\"\n",
    "        checkpoint_dir_1 = os.path.dirname(checkpoint_path_1)\n",
    "        cp_callback_1 = tf.keras.callbacks.ModelCheckpoint(checkpoint_path_1,\n",
    "                                                 save_weights_only=True,\n",
    "                                                 verbose=1)\n",
    "        model_1 = create_model_1()\n",
    "\n",
    "        model_1.load_weights(checkpoint_path_1)\n",
    "        model_1.fit(train_features, train_labels,  epochs = 1,\n",
    "                callbacks = [cp_callback_1])"
   ]
  }
 ],
 "metadata": {
  "kernelspec": {
   "display_name": "Python 3",
   "language": "python",
   "name": "python3"
  },
  "language_info": {
   "codemirror_mode": {
    "name": "ipython",
    "version": 3
   },
   "file_extension": ".py",
   "mimetype": "text/x-python",
   "name": "python",
   "nbconvert_exporter": "python",
   "pygments_lexer": "ipython3",
   "version": "3.7.3"
  }
 },
 "nbformat": 4,
 "nbformat_minor": 2
}
