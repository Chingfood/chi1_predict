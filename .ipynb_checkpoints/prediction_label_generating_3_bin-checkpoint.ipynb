{
 "cells": [
  {
   "cell_type": "code",
   "execution_count": 15,
   "metadata": {},
   "outputs": [],
   "source": [
    "def chi1_value(directory_path,filename):\n",
    "    with open(os.path.join(directory_path,filename)) as f:\n",
    "        chi_val = []\n",
    "        for line in f:\n",
    "            line = line.replace('\\n','').split()\n",
    "            if line[0] == \"ALA\" or line[0] == \"GLY\":\n",
    "                chi_val.append(940501) #the residue is ala or gly\n",
    "            else:\n",
    "                if (len(line) > 1):\n",
    "                    chi_val.append(float(line[1]))\n",
    "                else:\n",
    "                    chi_val.append(930524) # the residue is missing coordinate to calculate chi1\n",
    "    return chi_val\n"
   ]
  },
  {
   "cell_type": "code",
   "execution_count": 16,
   "metadata": {},
   "outputs": [],
   "source": [
    "def range_determine(deg,filename):\n",
    "    for i in range(len(deg)):\n",
    "        try:\n",
    "            deg[i] = float(deg[i])\n",
    "        except:\n",
    "            print(filename)\n",
    "            deg[i] = 4\n",
    "        \n",
    "        if (deg[i] <=0):\n",
    "            deg[i] = deg[i] +360\n",
    "        if deg[i]>0 and deg[i] <120:\n",
    "            deg[i] = 0\n",
    "        elif deg[i]>=120 and deg[i] <240:\n",
    "            deg[i] = 1\n",
    "        elif deg[i]>=240 and deg[i] <=360:\n",
    "            deg[i] = 2\n",
    "        elif deg[i] == 940501:\n",
    "            deg[i] = 3\n",
    "        elif deg[i] == 930524:\n",
    "            deg[i] = 4\n",
    "        else:\n",
    "            deg[i] = 4\n",
    "    return deg"
   ]
  },
  {
   "cell_type": "code",
   "execution_count": 17,
   "metadata": {},
   "outputs": [],
   "source": [
    "dir_in_str = \"/nfs/amino-home/qingyliu/dihedral_angle/chi1_dataset_30_1\""
   ]
  },
  {
   "cell_type": "code",
   "execution_count": 18,
   "metadata": {},
   "outputs": [],
   "source": [
    "chi1_value_directory = \"/nfs/amino-home/qingyliu/dihedral_angle/chi1_value\"\n",
    "chi1_label_directory = \"/nfs/amino-home/qingyliu/dihedral_angle/chi1_label\""
   ]
  },
  {
   "cell_type": "code",
   "execution_count": null,
   "metadata": {},
   "outputs": [],
   "source": [
    "import os\n",
    "import numpy as np\n",
    "\n",
    "directory = os.fsencode(dir_in_str)\n",
    "\n",
    "for file in os.listdir(directory):\n",
    "    filename = os.fsdecode(file)\n",
    "    chi_val = chi1_value(dir_in_str,filename)\n",
    "    np.save(chi1_value_directory+'/'+filename,np.asarray(chi_val))\n",
    "    deg = range_determine(chi_val,filename)\n",
    "    np.save(chi1_label_directory+'/'+filename,np.asarray(deg))"
   ]
  },
  {
   "cell_type": "code",
   "execution_count": null,
   "metadata": {},
   "outputs": [],
   "source": []
  },
  {
   "cell_type": "code",
   "execution_count": 14,
   "metadata": {},
   "outputs": [
    {
     "data": {
      "text/plain": [
       "array([1, 2, 1, 0, 2, 1, 2, 3, 3, 2, 2, 1, 2, 1, 2, 2, 3, 2, 2, 3])"
      ]
     },
     "execution_count": 14,
     "metadata": {},
     "output_type": "execute_result"
    }
   ],
   "source": []
  },
  {
   "cell_type": "code",
   "execution_count": 13,
   "metadata": {},
   "outputs": [
    {
     "data": {
      "text/plain": [
       "(20,)"
      ]
     },
     "execution_count": 13,
     "metadata": {},
     "output_type": "execute_result"
    }
   ],
   "source": []
  }
 ],
 "metadata": {
  "kernelspec": {
   "display_name": "Python 3",
   "language": "python",
   "name": "python3"
  },
  "language_info": {
   "codemirror_mode": {
    "name": "ipython",
    "version": 3
   },
   "file_extension": ".py",
   "mimetype": "text/x-python",
   "name": "python",
   "nbconvert_exporter": "python",
   "pygments_lexer": "ipython3",
   "version": "3.7.4"
  }
 },
 "nbformat": 4,
 "nbformat_minor": 2
}
