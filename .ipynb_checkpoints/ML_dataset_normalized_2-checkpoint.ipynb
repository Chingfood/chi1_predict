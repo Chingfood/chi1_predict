{
 "cells": [
  {
   "cell_type": "code",
   "execution_count": 3,
   "metadata": {},
   "outputs": [],
   "source": [
    "import numpy as np"
   ]
  },
  {
   "cell_type": "markdown",
   "metadata": {},
   "source": [
    "training_raw_path = \"/nfs/amino-home/qingyliu/dihedral_angle/ML_data/back_tag/back_train.npy\"\n",
    "test_raw_path = \"/nfs/amino-home/qingyliu/dihedral_angle/ML_data/back_tag/back_test.npy\"\n",
    "scaled_train_path = \"/nfs/amino-home/qingyliu/dihedral_angle/ML_data/back_tag/back_train_scaled.npy\"\n",
    "scaled_test_path = \"/nfs/amino-home/qingyliu/dihedral_angle/ML_data/back_tag/back_test_scaled.npy\""
   ]
  },
  {
   "cell_type": "markdown",
   "metadata": {},
   "source": [
    "training_raw_path = \"/home/qingyliu/test/training_data/train.npy\"\n",
    "test_raw_path = \"/home/qingyliu/test/testing_data/test.npy\"\n",
    "scaled_train_path = \"/home/qingyliu/test/training_data/train_scaled.npy\"\n",
    "scaled_test_path = \"/home/qingyliu/test/testing_data/test_scaled.npy\""
   ]
  },
  {
   "cell_type": "code",
   "execution_count": null,
   "metadata": {},
   "outputs": [],
   "source": [
    "training_raw_path = \"/nfs/amino-home/qingyliu/dihedral_angle/ML_data/whole_seq/train.npy\"\n",
    "test_raw_path = \"/nfs/amino-home/qingyliu/dihedral_angle/ML_data/whole_seq/test.npy\"\n",
    "scaled_train_path = \"/nfs/amino-home/qingyliu/dihedral_angle/ML_data/whole_seq/train_scaled.npy\"\n",
    "scaled_test_path = \"/nfs/amino-home/qingyliu/dihedral_angle/ML_data/whole_seq/test_scaled.npy\""
   ]
  },
  {
   "cell_type": "code",
   "execution_count": 4,
   "metadata": {},
   "outputs": [],
   "source": [
    "training_raw = np.load(training_raw_path,allow_pickle = True)"
   ]
  },
  {
   "cell_type": "code",
   "execution_count": 5,
   "metadata": {},
   "outputs": [],
   "source": [
    "for i in range(len(training_raw)):\n",
    "    for j in range(len(training_raw[i])):\n",
    "        if not (training_raw[i][j][0] == 0 and training_raw[i][j][1] == 0 and training_raw[i][j][-1] == 0):\n",
    "            for k in range(20):\n",
    "                training_raw[i][j][k] = 1/(1+np.exp(-training_raw[i][j][k]/100))\n",
    "               "
   ]
  },
  {
   "cell_type": "code",
   "execution_count": 6,
   "metadata": {},
   "outputs": [],
   "source": [
    "np.save(scaled_train_path, training_raw)"
   ]
  },
  {
   "cell_type": "code",
   "execution_count": 7,
   "metadata": {},
   "outputs": [],
   "source": [
    "test_raw = np.load(test_raw_path,allow_pickle = True)\n",
    "for i in range(len(test_raw)):\n",
    "    for j in range(len(test_raw[i])):\n",
    "        if not (test_raw[i][j][0] == 0 and test_raw[i][j][1] == 0 and test_raw[i][j][-1] == 0):\n",
    "            for k in range(20):\n",
    "                test_raw[i][j][k] = 1/(1+np.exp(-test_raw[i][j][k]/100))\n"
   ]
  },
  {
   "cell_type": "code",
   "execution_count": 8,
   "metadata": {},
   "outputs": [],
   "source": [
    "np.save(scaled_test_path, test_raw)"
   ]
  },
  {
   "cell_type": "code",
   "execution_count": null,
   "metadata": {},
   "outputs": [],
   "source": [
    "train_data = []\n",
    "train_label = []\n",
    "for i in range(len(training_raw)):\n",
    "    for j in range(len(training_raw[i])):\n",
    "        if training_raw[i][j][-1] != 940501 and training_raw[i][j][-1] != 930524 and training_raw[i][j][0] != 0 and training_raw[i][j][1] !=0 :\n",
    "            train_data.append(np.asarray(training_raw[i][j-14:j+1][:-1]))\n",
    "            train_label.append(training_raw[i][j][-1])\n",
    "            "
   ]
  },
  {
   "cell_type": "code",
   "execution_count": null,
   "metadata": {},
   "outputs": [],
   "source": []
  }
 ],
 "metadata": {
  "kernelspec": {
   "display_name": "Python 3",
   "language": "python",
   "name": "python3"
  },
  "language_info": {
   "codemirror_mode": {
    "name": "ipython",
    "version": 3
   },
   "file_extension": ".py",
   "mimetype": "text/x-python",
   "name": "python",
   "nbconvert_exporter": "python",
   "pygments_lexer": "ipython3",
   "version": "3.7.3"
  }
 },
 "nbformat": 4,
 "nbformat_minor": 2
}
