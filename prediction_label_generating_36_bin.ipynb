{
 "cells": [
  {
   "cell_type": "markdown",
   "metadata": {},
   "source": [
    "def chi1_value(directory_path,filename):\n",
    "    with open(os.path.join(directory_path,filename)) as f:\n",
    "        chi_val = []\n",
    "        for line in f:\n",
    "            line = line.replace('\\n','').split()\n",
    "            if line[0] == \"ALA\" or line[0] == \"GLY\":\n",
    "                chi_val.append(940501) #the residue is ala or gly\n",
    "            else:\n",
    "                if (len(line) > 1):\n",
    "                    chi_val.append(float(line[1]))\n",
    "                else:\n",
    "                    chi_val.append(930524) # the residue is missing coordinate to calculate chi1\n",
    "    return chi_val\n"
   ]
  },
  {
   "cell_type": "code",
   "execution_count": 6,
   "metadata": {},
   "outputs": [],
   "source": [
    "def range_determine(deg,filename):\n",
    "    for i in range(len(deg)):\n",
    "        try:\n",
    "            deg[i] = float(deg[i])\n",
    "        except:\n",
    "            print(filename)\n",
    "            deg[i] = 37\n",
    "            continue\n",
    "        \n",
    "        if deg[i] == 940501:\n",
    "            deg[i] = 36\n",
    "            continue\n",
    "        if deg[i] == 930524:\n",
    "            deg[i] = 37\n",
    "            continue\n",
    "        \n",
    "        if (deg[i] <0):\n",
    "            deg[i] = deg[i] +360\n",
    "        \n",
    "        deg[i] = deg[i] // 10\n",
    "        \n",
    "        if deg[i] > 35:\n",
    "            print(\"out of 35\")\n",
    "            print(filename)\n",
    "            print(\"index\")\n",
    "            print(i)\n",
    "    return deg"
   ]
  },
  {
   "cell_type": "code",
   "execution_count": 2,
   "metadata": {},
   "outputs": [],
   "source": [
    "dir_in_str = \"/home/chingyuenliu/chi1_value\""
   ]
  },
  {
   "cell_type": "code",
   "execution_count": 3,
   "metadata": {},
   "outputs": [],
   "source": [
    "chi1_label_directory = \"/home/chingyuenliu/chi1_label_36_bin\""
   ]
  },
  {
   "cell_type": "code",
   "execution_count": 9,
   "metadata": {},
   "outputs": [
    {
     "name": "stdout",
     "output_type": "stream",
     "text": [
      "Trash\n",
      "3ipnA.npy\n",
      "Trash\n",
      "4v2wC.npy\n"
     ]
    }
   ],
   "source": [
    "import os\n",
    "import numpy as np\n",
    "\n",
    "directory = os.fsencode(dir_in_str)\n",
    "\n",
    "for file in os.listdir(directory):\n",
    "    filename = os.fsdecode(file)\n",
    "    if filename.endswith(\".npy\"):\n",
    "        chi_val = np.load(os.path.join(dir_in_str,filename))\n",
    "        deg = range_determine(chi_val,filename)\n",
    "        if ((deg==36) | (deg == 37)).all():\n",
    "            print(\"Trash\")\n",
    "            print(filename)\n",
    "            np.save(\"/home/chingyuenliu/chi1_label_trash/\"+filename, np.asarray(deg))\n",
    "            continue\n",
    "        np.save(chi1_label_directory+'/'+filename,np.asarray(deg))"
   ]
  },
  {
   "cell_type": "code",
   "execution_count": null,
   "metadata": {},
   "outputs": [],
   "source": []
  },
  {
   "cell_type": "code",
   "execution_count": 14,
   "metadata": {},
   "outputs": [
    {
     "data": {
      "text/plain": [
       "array([1, 2, 1, 0, 2, 1, 2, 3, 3, 2, 2, 1, 2, 1, 2, 2, 3, 2, 2, 3])"
      ]
     },
     "execution_count": 14,
     "metadata": {},
     "output_type": "execute_result"
    }
   ],
   "source": []
  },
  {
   "cell_type": "code",
   "execution_count": 13,
   "metadata": {},
   "outputs": [
    {
     "data": {
      "text/plain": [
       "(20,)"
      ]
     },
     "execution_count": 13,
     "metadata": {},
     "output_type": "execute_result"
    }
   ],
   "source": []
  }
 ],
 "metadata": {
  "kernelspec": {
   "display_name": "Python 3",
   "language": "python",
   "name": "python3"
  },
  "language_info": {
   "codemirror_mode": {
    "name": "ipython",
    "version": 3
   },
   "file_extension": ".py",
   "mimetype": "text/x-python",
   "name": "python",
   "nbconvert_exporter": "python",
   "pygments_lexer": "ipython3",
   "version": "3.7.6"
  }
 },
 "nbformat": 4,
 "nbformat_minor": 2
}
