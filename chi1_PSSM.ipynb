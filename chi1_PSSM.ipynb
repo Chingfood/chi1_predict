{
 "cells": [
  {
   "cell_type": "code",
   "execution_count": 1,
   "metadata": {},
   "outputs": [],
   "source": [
    "import numpy as np"
   ]
  },
  {
   "cell_type": "code",
   "execution_count": 2,
   "metadata": {},
   "outputs": [
    {
     "data": {
      "text/plain": [
       "'1.14.0'"
      ]
     },
     "execution_count": 2,
     "metadata": {},
     "output_type": "execute_result"
    }
   ],
   "source": [
    "from __future__ import absolute_import, division, print_function, unicode_literals\n",
    "\n",
    "import os\n",
    "\n",
    "import tensorflow as tf\n",
    "from tensorflow import keras\n",
    "\n",
    "tf.__version__"
   ]
  },
  {
   "cell_type": "code",
   "execution_count": 3,
   "metadata": {},
   "outputs": [],
   "source": [
    "def create_model_PSSM():\n",
    "    model = tf.keras.models.Sequential([\n",
    "        keras.layers.Flatten(input_shape=(15, 21)),\n",
    "                \n",
    "        keras.layers.Dense(128, activation=tf.keras.activations.relu),\n",
    "\n",
    "        keras.layers.Dense(3,activation=tf.keras.activations.softmax)\n",
    "      ])\n",
    "\n",
    "    model.compile(optimizer=tf.keras.optimizers.Adam(),\n",
    "                loss=tf.keras.losses.sparse_categorical_crossentropy,\n",
    "                metrics=['accuracy'])\n",
    "\n",
    "    return model"
   ]
  },
  {
   "cell_type": "code",
   "execution_count": 4,
   "metadata": {},
   "outputs": [
    {
     "name": "stdout",
     "output_type": "stream",
     "text": [
      "WARNING:tensorflow:From /home/qingyliu/miniconda3/lib/python3.7/site-packages/tensorflow/python/ops/init_ops.py:1251: calling VarianceScaling.__init__ (from tensorflow.python.ops.init_ops) with dtype is deprecated and will be removed in a future version.\n",
      "Instructions for updating:\n",
      "Call initializer instance with the dtype argument instead of passing it to the constructor\n",
      "Epoch 1/20\n",
      "397504/398000 [============================>.] - ETA: 0s - loss: 0.9445 - acc: 0.5304\n",
      "Epoch 00001: saving model to /nfs/amino-home/qingyliu/dihedral_angle/ML_data/back_tag/training_PSSM/cp.ckpt\n",
      "398000/398000 [==============================] - 23s 58us/sample - loss: 0.9444 - acc: 0.5304\n",
      "Epoch 2/20\n",
      "397536/398000 [============================>.] - ETA: 0s - loss: 0.9267 - acc: 0.5450\n",
      "Epoch 00002: saving model to /nfs/amino-home/qingyliu/dihedral_angle/ML_data/back_tag/training_PSSM/cp.ckpt\n",
      "398000/398000 [==============================] - 23s 58us/sample - loss: 0.9267 - acc: 0.5450\n",
      "Epoch 3/20\n",
      "397120/398000 [============================>.] - ETA: 0s - loss: 0.9194 - acc: 0.5501\n",
      "Epoch 00003: saving model to /nfs/amino-home/qingyliu/dihedral_angle/ML_data/back_tag/training_PSSM/cp.ckpt\n",
      "398000/398000 [==============================] - 24s 59us/sample - loss: 0.9194 - acc: 0.5501\n",
      "Epoch 4/20\n",
      "397312/398000 [============================>.] - ETA: 0s - loss: 0.9137 - acc: 0.5546\n",
      "Epoch 00004: saving model to /nfs/amino-home/qingyliu/dihedral_angle/ML_data/back_tag/training_PSSM/cp.ckpt\n",
      "398000/398000 [==============================] - 25s 62us/sample - loss: 0.9137 - acc: 0.5546\n",
      "Epoch 5/20\n",
      "397696/398000 [============================>.] - ETA: 0s - loss: 0.9079 - acc: 0.5587\n",
      "Epoch 00005: saving model to /nfs/amino-home/qingyliu/dihedral_angle/ML_data/back_tag/training_PSSM/cp.ckpt\n",
      "398000/398000 [==============================] - 12s 30us/sample - loss: 0.9080 - acc: 0.5587\n",
      "Epoch 6/20\n",
      "397728/398000 [============================>.] - ETA: 0s - loss: 0.9024 - acc: 0.5615\n",
      "Epoch 00006: saving model to /nfs/amino-home/qingyliu/dihedral_angle/ML_data/back_tag/training_PSSM/cp.ckpt\n",
      "398000/398000 [==============================] - 12s 29us/sample - loss: 0.9024 - acc: 0.5615\n",
      "Epoch 7/20\n",
      "396288/398000 [============================>.] - ETA: 0s - loss: 0.8975 - acc: 0.5654\n",
      "Epoch 00007: saving model to /nfs/amino-home/qingyliu/dihedral_angle/ML_data/back_tag/training_PSSM/cp.ckpt\n",
      "398000/398000 [==============================] - 12s 30us/sample - loss: 0.8976 - acc: 0.5654\n",
      "Epoch 8/20\n",
      "396736/398000 [============================>.] - ETA: 0s - loss: 0.8933 - acc: 0.5678\n",
      "Epoch 00008: saving model to /nfs/amino-home/qingyliu/dihedral_angle/ML_data/back_tag/training_PSSM/cp.ckpt\n",
      "398000/398000 [==============================] - 10s 26us/sample - loss: 0.8933 - acc: 0.5678\n",
      "Epoch 9/20\n",
      "397536/398000 [============================>.] - ETA: 0s - loss: 0.8888 - acc: 0.5707\n",
      "Epoch 00009: saving model to /nfs/amino-home/qingyliu/dihedral_angle/ML_data/back_tag/training_PSSM/cp.ckpt\n",
      "398000/398000 [==============================] - 23s 57us/sample - loss: 0.8888 - acc: 0.5707\n",
      "Epoch 10/20\n",
      "397376/398000 [============================>.] - ETA: 0s - loss: 0.8852 - acc: 0.5730\n",
      "Epoch 00010: saving model to /nfs/amino-home/qingyliu/dihedral_angle/ML_data/back_tag/training_PSSM/cp.ckpt\n",
      "398000/398000 [==============================] - 24s 60us/sample - loss: 0.8851 - acc: 0.5730\n",
      "Epoch 11/20\n",
      "397152/398000 [============================>.] - ETA: 0s - loss: 0.8820 - acc: 0.5743\n",
      "Epoch 00011: saving model to /nfs/amino-home/qingyliu/dihedral_angle/ML_data/back_tag/training_PSSM/cp.ckpt\n",
      "398000/398000 [==============================] - 24s 61us/sample - loss: 0.8820 - acc: 0.5743\n",
      "Epoch 12/20\n",
      "397760/398000 [============================>.] - ETA: 0s - loss: 0.8789 - acc: 0.5764\n",
      "Epoch 00012: saving model to /nfs/amino-home/qingyliu/dihedral_angle/ML_data/back_tag/training_PSSM/cp.ckpt\n",
      "398000/398000 [==============================] - 21s 53us/sample - loss: 0.8789 - acc: 0.5763\n",
      "Epoch 13/20\n",
      "397856/398000 [============================>.] - ETA: 0s - loss: 0.8760 - acc: 0.5783\n",
      "Epoch 00013: saving model to /nfs/amino-home/qingyliu/dihedral_angle/ML_data/back_tag/training_PSSM/cp.ckpt\n",
      "398000/398000 [==============================] - 21s 53us/sample - loss: 0.8760 - acc: 0.5783\n",
      "Epoch 14/20\n",
      "397792/398000 [============================>.] - ETA: 0s - loss: 0.8736 - acc: 0.5796\n",
      "Epoch 00014: saving model to /nfs/amino-home/qingyliu/dihedral_angle/ML_data/back_tag/training_PSSM/cp.ckpt\n",
      "398000/398000 [==============================] - 21s 52us/sample - loss: 0.8736 - acc: 0.5796\n",
      "Epoch 15/20\n",
      "397920/398000 [============================>.] - ETA: 0s - loss: 0.8714 - acc: 0.5807\n",
      "Epoch 00015: saving model to /nfs/amino-home/qingyliu/dihedral_angle/ML_data/back_tag/training_PSSM/cp.ckpt\n",
      "398000/398000 [==============================] - 20s 51us/sample - loss: 0.8714 - acc: 0.5807\n",
      "Epoch 16/20\n",
      "397056/398000 [============================>.] - ETA: 0s - loss: 0.8693 - acc: 0.5817\n",
      "Epoch 00016: saving model to /nfs/amino-home/qingyliu/dihedral_angle/ML_data/back_tag/training_PSSM/cp.ckpt\n",
      "398000/398000 [==============================] - 21s 52us/sample - loss: 0.8693 - acc: 0.5817\n",
      "Epoch 17/20\n",
      "397440/398000 [============================>.] - ETA: 0s - loss: 0.8672 - acc: 0.5831\n",
      "Epoch 00017: saving model to /nfs/amino-home/qingyliu/dihedral_angle/ML_data/back_tag/training_PSSM/cp.ckpt\n",
      "398000/398000 [==============================] - 21s 53us/sample - loss: 0.8672 - acc: 0.5830\n",
      "Epoch 18/20\n",
      "397728/398000 [============================>.] - ETA: 0s - loss: 0.8652 - acc: 0.5842\n",
      "Epoch 00018: saving model to /nfs/amino-home/qingyliu/dihedral_angle/ML_data/back_tag/training_PSSM/cp.ckpt\n",
      "398000/398000 [==============================] - 17s 42us/sample - loss: 0.8652 - acc: 0.5842\n",
      "Epoch 19/20\n",
      "396992/398000 [============================>.] - ETA: 0s - loss: 0.8634 - acc: 0.5854\n",
      "Epoch 00019: saving model to /nfs/amino-home/qingyliu/dihedral_angle/ML_data/back_tag/training_PSSM/cp.ckpt\n",
      "398000/398000 [==============================] - 10s 25us/sample - loss: 0.8634 - acc: 0.5854\n",
      "Epoch 20/20\n",
      "396032/398000 [============================>.] - ETA: 0s - loss: 0.8618 - acc: 0.5861\n",
      "Epoch 00020: saving model to /nfs/amino-home/qingyliu/dihedral_angle/ML_data/back_tag/training_PSSM/cp.ckpt\n",
      "398000/398000 [==============================] - 12s 29us/sample - loss: 0.8618 - acc: 0.5861\n"
     ]
    },
    {
     "data": {
      "text/plain": [
       "<tensorflow.python.keras.callbacks.History at 0x7fe183d4ca90>"
      ]
     },
     "execution_count": 4,
     "metadata": {},
     "output_type": "execute_result"
    }
   ],
   "source": [
    "train_feature_file_format = \"/nfs/amino-home/qingyliu/dihedral_angle/ML_data/back_tag/PSSM_only/back_train_PSSM_terminal_3.npy\"\n",
    "\n",
    "train_label_file_format = \"/nfs/amino-home/qingyliu/dihedral_angle/ML_data/back_tag/back_train_label_new_3.npy\"\n",
    "\n",
    "train_features= np.load(train_feature_file_format)\n",
    "train_labels = np.load(train_label_file_format)\n",
    "checkpoint_path_PSSM = \"/nfs/amino-home/qingyliu/dihedral_angle/ML_data/back_tag/training_PSSM/cp.ckpt\"\n",
    "checkpoint_dir_PSSM = os.path.dirname(checkpoint_path_PSSM)\n",
    "cp_callback_PSSM = tf.keras.callbacks.ModelCheckpoint(checkpoint_path_PSSM,\n",
    "                                                 save_weights_only=True,\n",
    "                                                 verbose=1)\n",
    "model_PSSM = create_model_PSSM()\n",
    "\n",
    "\n",
    "model_PSSM.fit(train_features, train_labels,  epochs = 20,\n",
    "                callbacks = [cp_callback_PSSM])"
   ]
  },
  {
   "cell_type": "code",
   "execution_count": 33,
   "metadata": {},
   "outputs": [],
   "source": [
    "def create_model_PSSM_conv():\n",
    " \n",
    "    model = tf.keras.models.Sequential()\n",
    "#convolutional layer with rectified linear unit activation\n",
    "    model.add(keras.layers.Conv2D(64, kernel_size=(3, 3),\n",
    "                 activation=tf.keras.activations.relu,\n",
    "                 input_shape=(15,20,1)))\n",
    "#32 convolution filters used each of size 3x3\n",
    "#again\n",
    "    model.add(keras.layers.Conv2D(128, (3, 3), activation=tf.keras.activations.relu))\n",
    "#64 convolution filters used each of size 3x3\n",
    "#choose the best features via pooling\n",
    "    model.add(keras.layers.MaxPooling2D(pool_size=(2, 2)))\n",
    "\n",
    " \n",
    "\n",
    "    model.add(keras.layers.Flatten())\n",
    "#fully connected to get all relevant data\n",
    "    model.add(keras.layers.Dense(256, activation=tf.keras.activations.relu))\n",
    "\n",
    "    model.add(keras.layers.Dense(128, activation=tf.keras.activations.relu))\n",
    "#output a softmax to squash the matrix into output probabilities\n",
    "    model.add(keras.layers.Dense(3, activation=tf.keras.activations.softmax))\n",
    "\n",
    "\n",
    "    model.compile(optimizer=tf.keras.optimizers.Adadelta(),\n",
    "                loss=tf.keras.losses.sparse_categorical_crossentropy,\n",
    "                metrics=['accuracy'])\n",
    "\n",
    "    return model"
   ]
  },
  {
   "cell_type": "code",
   "execution_count": 34,
   "metadata": {},
   "outputs": [],
   "source": [
    "train_feature_file_format = \"/nfs/amino-home/qingyliu/dihedral_angle/ML_data/back_tag/PSSM_only/back_train_PSSM_3.npy\"\n",
    "\n",
    "train_label_file_format = \"/nfs/amino-home/qingyliu/dihedral_angle/ML_data/back_tag/back_train_label_new_3.npy\"\n",
    "\n",
    "train_features= np.load(train_feature_file_format)\n",
    "train_labels = np.load(train_label_file_format)\n",
    "\n",
    "train_features = train_features.reshape(train_features.shape[0],train_features.shape[1], train_features.shape[2],-1)"
   ]
  },
  {
   "cell_type": "code",
   "execution_count": 25,
   "metadata": {},
   "outputs": [],
   "source": []
  },
  {
   "cell_type": "code",
   "execution_count": 26,
   "metadata": {},
   "outputs": [
    {
     "data": {
      "text/plain": [
       "(398000, 15, 20, 1)"
      ]
     },
     "execution_count": 26,
     "metadata": {},
     "output_type": "execute_result"
    }
   ],
   "source": []
  },
  {
   "cell_type": "code",
   "execution_count": 35,
   "metadata": {},
   "outputs": [
    {
     "name": "stdout",
     "output_type": "stream",
     "text": [
      "Epoch 1/20\n",
      "397920/398000 [============================>.] - ETA: 0s - loss: 1.0102 - acc: 0.5181\n",
      "Epoch 00001: saving model to /nfs/amino-home/qingyliu/dihedral_angle/ML_data/back_tag/training_PSSM_conv/cp.ckpt\n",
      "398000/398000 [==============================] - 154s 388us/sample - loss: 1.0101 - acc: 0.5182\n",
      "Epoch 2/20\n",
      "397920/398000 [============================>.] - ETA: 0s - loss: 1.0051 - acc: 0.5184\n",
      "Epoch 00002: saving model to /nfs/amino-home/qingyliu/dihedral_angle/ML_data/back_tag/training_PSSM_conv/cp.ckpt\n",
      "398000/398000 [==============================] - 158s 398us/sample - loss: 1.0051 - acc: 0.5184\n",
      "Epoch 3/20\n",
      "397888/398000 [============================>.] - ETA: 0s - loss: 1.0032 - acc: 0.5184\n",
      "Epoch 00003: saving model to /nfs/amino-home/qingyliu/dihedral_angle/ML_data/back_tag/training_PSSM_conv/cp.ckpt\n",
      "398000/398000 [==============================] - 159s 401us/sample - loss: 1.0032 - acc: 0.5184\n",
      "Epoch 4/20\n",
      "397952/398000 [============================>.] - ETA: 0s - loss: 1.0009 - acc: 0.5184\n",
      "Epoch 00004: saving model to /nfs/amino-home/qingyliu/dihedral_angle/ML_data/back_tag/training_PSSM_conv/cp.ckpt\n",
      "398000/398000 [==============================] - 148s 373us/sample - loss: 1.0009 - acc: 0.5184\n",
      "Epoch 5/20\n",
      "397952/398000 [============================>.] - ETA: 0s - loss: 0.9984 - acc: 0.5184\n",
      "Epoch 00005: saving model to /nfs/amino-home/qingyliu/dihedral_angle/ML_data/back_tag/training_PSSM_conv/cp.ckpt\n",
      "398000/398000 [==============================] - 151s 379us/sample - loss: 0.9983 - acc: 0.5184\n",
      "Epoch 6/20\n",
      "397952/398000 [============================>.] - ETA: 0s - loss: 0.9954 - acc: 0.5184\n",
      "Epoch 00006: saving model to /nfs/amino-home/qingyliu/dihedral_angle/ML_data/back_tag/training_PSSM_conv/cp.ckpt\n",
      "398000/398000 [==============================] - 149s 375us/sample - loss: 0.9954 - acc: 0.5184\n",
      "Epoch 7/20\n",
      "397952/398000 [============================>.] - ETA: 0s - loss: 0.9919 - acc: 0.5184\n",
      "Epoch 00007: saving model to /nfs/amino-home/qingyliu/dihedral_angle/ML_data/back_tag/training_PSSM_conv/cp.ckpt\n",
      "398000/398000 [==============================] - 148s 373us/sample - loss: 0.9919 - acc: 0.5184\n",
      "Epoch 8/20\n",
      "397952/398000 [============================>.] - ETA: 0s - loss: 0.9878 - acc: 0.5184\n",
      "Epoch 00008: saving model to /nfs/amino-home/qingyliu/dihedral_angle/ML_data/back_tag/training_PSSM_conv/cp.ckpt\n",
      "398000/398000 [==============================] - 148s 373us/sample - loss: 0.9878 - acc: 0.5184\n",
      "Epoch 9/20\n",
      "397984/398000 [============================>.] - ETA: 0s - loss: 0.9834 - acc: 0.5184\n",
      "Epoch 00009: saving model to /nfs/amino-home/qingyliu/dihedral_angle/ML_data/back_tag/training_PSSM_conv/cp.ckpt\n",
      "398000/398000 [==============================] - 153s 385us/sample - loss: 0.9834 - acc: 0.5184\n",
      "Epoch 10/20\n",
      "397856/398000 [============================>.] - ETA: 0s - loss: 0.9787 - acc: 0.5184\n",
      "Epoch 00010: saving model to /nfs/amino-home/qingyliu/dihedral_angle/ML_data/back_tag/training_PSSM_conv/cp.ckpt\n",
      "398000/398000 [==============================] - 172s 432us/sample - loss: 0.9787 - acc: 0.5184\n",
      "Epoch 11/20\n",
      "397856/398000 [============================>.] - ETA: 0s - loss: 0.9744 - acc: 0.5187\n",
      "Epoch 00011: saving model to /nfs/amino-home/qingyliu/dihedral_angle/ML_data/back_tag/training_PSSM_conv/cp.ckpt\n",
      "398000/398000 [==============================] - 159s 399us/sample - loss: 0.9744 - acc: 0.5187\n",
      "Epoch 12/20\n",
      "397920/398000 [============================>.] - ETA: 0s - loss: 0.9707 - acc: 0.5197\n",
      "Epoch 00012: saving model to /nfs/amino-home/qingyliu/dihedral_angle/ML_data/back_tag/training_PSSM_conv/cp.ckpt\n",
      "398000/398000 [==============================] - 158s 396us/sample - loss: 0.9707 - acc: 0.5197\n",
      "Epoch 13/20\n",
      "397888/398000 [============================>.] - ETA: 0s - loss: 0.9678 - acc: 0.5206\n",
      "Epoch 00013: saving model to /nfs/amino-home/qingyliu/dihedral_angle/ML_data/back_tag/training_PSSM_conv/cp.ckpt\n",
      "398000/398000 [==============================] - 162s 408us/sample - loss: 0.9678 - acc: 0.5206\n",
      "Epoch 14/20\n",
      "397888/398000 [============================>.] - ETA: 0s - loss: 0.9655 - acc: 0.5217\n",
      "Epoch 00014: saving model to /nfs/amino-home/qingyliu/dihedral_angle/ML_data/back_tag/training_PSSM_conv/cp.ckpt\n",
      "398000/398000 [==============================] - 155s 390us/sample - loss: 0.9655 - acc: 0.5217\n",
      "Epoch 15/20\n",
      "397920/398000 [============================>.] - ETA: 0s - loss: 0.9637 - acc: 0.5225\n",
      "Epoch 00015: saving model to /nfs/amino-home/qingyliu/dihedral_angle/ML_data/back_tag/training_PSSM_conv/cp.ckpt\n",
      "398000/398000 [==============================] - 152s 381us/sample - loss: 0.9637 - acc: 0.5225\n",
      "Epoch 16/20\n",
      "397920/398000 [============================>.] - ETA: 0s - loss: 0.9620 - acc: 0.5232\n",
      "Epoch 00016: saving model to /nfs/amino-home/qingyliu/dihedral_angle/ML_data/back_tag/training_PSSM_conv/cp.ckpt\n",
      "398000/398000 [==============================] - 170s 428us/sample - loss: 0.9620 - acc: 0.5232\n",
      "Epoch 17/20\n",
      "397984/398000 [============================>.] - ETA: 0s - loss: 0.9606 - acc: 0.5238\n",
      "Epoch 00017: saving model to /nfs/amino-home/qingyliu/dihedral_angle/ML_data/back_tag/training_PSSM_conv/cp.ckpt\n",
      "398000/398000 [==============================] - 169s 424us/sample - loss: 0.9606 - acc: 0.5238\n",
      "Epoch 18/20\n",
      "397856/398000 [============================>.] - ETA: 0s - loss: 0.9593 - acc: 0.5243\n",
      "Epoch 00018: saving model to /nfs/amino-home/qingyliu/dihedral_angle/ML_data/back_tag/training_PSSM_conv/cp.ckpt\n",
      "398000/398000 [==============================] - 155s 388us/sample - loss: 0.9593 - acc: 0.5243\n",
      "Epoch 19/20\n",
      "397984/398000 [============================>.] - ETA: 0s - loss: 0.9581 - acc: 0.5246\n",
      "Epoch 00019: saving model to /nfs/amino-home/qingyliu/dihedral_angle/ML_data/back_tag/training_PSSM_conv/cp.ckpt\n",
      "398000/398000 [==============================] - 154s 386us/sample - loss: 0.9581 - acc: 0.5246\n",
      "Epoch 20/20\n",
      "397984/398000 [============================>.] - ETA: 0s - loss: 0.9569 - acc: 0.5252\n",
      "Epoch 00020: saving model to /nfs/amino-home/qingyliu/dihedral_angle/ML_data/back_tag/training_PSSM_conv/cp.ckpt\n",
      "398000/398000 [==============================] - 154s 388us/sample - loss: 0.9569 - acc: 0.5252\n"
     ]
    },
    {
     "data": {
      "text/plain": [
       "<tensorflow.python.keras.callbacks.History at 0x7fe1831cb7f0>"
      ]
     },
     "execution_count": 35,
     "metadata": {},
     "output_type": "execute_result"
    }
   ],
   "source": [
    "checkpoint_path_PSSM_conv = \"/nfs/amino-home/qingyliu/dihedral_angle/ML_data/back_tag/training_PSSM_conv/cp.ckpt\"\n",
    "checkpoint_dir_PSSM_conv = os.path.dirname(checkpoint_path_PSSM_conv)\n",
    "cp_callback_PSSM_conv = tf.keras.callbacks.ModelCheckpoint(checkpoint_path_PSSM_conv,\n",
    "                                                 save_weights_only=True,\n",
    "                                                 verbose=1)\n",
    "model_PSSM_conv = create_model_PSSM_conv()\n",
    "\n",
    "\n",
    "model_PSSM_conv.fit(train_features, train_labels,  epochs = 20,\n",
    "                callbacks = [cp_callback_PSSM_conv])"
   ]
  }
 ],
 "metadata": {
  "kernelspec": {
   "display_name": "Python 3",
   "language": "python",
   "name": "python3"
  },
  "language_info": {
   "codemirror_mode": {
    "name": "ipython",
    "version": 3
   },
   "file_extension": ".py",
   "mimetype": "text/x-python",
   "name": "python",
   "nbconvert_exporter": "python",
   "pygments_lexer": "ipython3",
   "version": "3.7.3"
  }
 },
 "nbformat": 4,
 "nbformat_minor": 2
}
