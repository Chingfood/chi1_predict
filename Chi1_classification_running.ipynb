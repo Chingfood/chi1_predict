{
 "cells": [
  {
   "cell_type": "code",
   "execution_count": 1,
   "metadata": {},
   "outputs": [],
   "source": [
    "import numpy as np"
   ]
  },
  {
   "cell_type": "code",
   "execution_count": 2,
   "metadata": {},
   "outputs": [
    {
     "data": {
      "text/plain": [
       "'1.14.0'"
      ]
     },
     "execution_count": 2,
     "metadata": {},
     "output_type": "execute_result"
    }
   ],
   "source": [
    "from __future__ import absolute_import, division, print_function, unicode_literals\n",
    "\n",
    "import os\n",
    "\n",
    "import tensorflow as tf\n",
    "from tensorflow import keras\n",
    "\n",
    "tf.__version__"
   ]
  },
  {
   "cell_type": "code",
   "execution_count": 3,
   "metadata": {},
   "outputs": [],
   "source": [
    "# Returns a short sequential model\n",
    "def create_model_2():\n",
    "    model = tf.keras.models.Sequential([\n",
    "        keras.layers.Flatten(input_shape=(15, 27)),\n",
    "        keras.layers.Dense(512, activation=tf.keras.activations.relu ),\n",
    "\n",
    "        keras.layers.Dense(256, activation=tf.keras.activations.relu),\n",
    "\n",
    "        keras.layers.Dense(128, activation=tf.keras.activations.relu),\n",
    "\n",
    "        keras.layers.Dense(3,activation=tf.keras.activations.softmax)\n",
    "      ])\n",
    "\n",
    "    model.compile(optimizer=tf.keras.optimizers.Adam(),\n",
    "                loss=tf.keras.losses.sparse_categorical_crossentropy,\n",
    "                metrics=['accuracy'])\n",
    "\n",
    "    return model\n",
    "\n",
    "\n",
    "# Create a basic model instanc"
   ]
  },
  {
   "cell_type": "code",
   "execution_count": null,
   "metadata": {},
   "outputs": [],
   "source": []
  },
  {
   "cell_type": "code",
   "execution_count": null,
   "metadata": {},
   "outputs": [],
   "source": [
    "train_feature_file_format = \"/nfs/amino-home/qingyliu/dihedral_angle/ML_data/back_tag/back_train_feature_new_\"\n",
    "train_label_file_format = \"/nfs/amino-home/qingyliu/dihedral_angle/ML_data/back_tag/back_train_label_new_\"\n",
    "\n",
    "for i in range(200):\n",
    "    for j in range(4):\n",
    "        train_features= np.load(train_feature_file_format+str(j)+\".npy\")\n",
    "        train_labels = np.load(train_label_file_format+str(j)+\".npy\")\n",
    "        checkpoint_path_2 = \"/nfs/amino-home/qingyliu/dihedral_angle/ML_data/back_tag/training_2/cp.ckpt\"\n",
    "        checkpoint_dir_2 = os.path.dirname(checkpoint_path_2)\n",
    "        cp_callback_2 = tf.keras.callbacks.ModelCheckpoint(checkpoint_path_2,\n",
    "                                                 save_weights_only=True,\n",
    "                                                 verbose=1)\n",
    "        model_2 = create_model_2()\n",
    "\n",
    "        model_2.load_weights(checkpoint_path_2)\n",
    "        model_2.fit(train_features, train_labels,  epochs = 1,\n",
    "                callbacks = [cp_callback_2])\n"
   ]
  },
  {
   "cell_type": "code",
   "execution_count": 10,
   "metadata": {},
   "outputs": [
    {
     "name": "stdout",
     "output_type": "stream",
     "text": [
      "1000/1000 [==============================] - 0s 30us/sample - loss: 1.3661 - acc: 0.5140\n"
     ]
    }
   ],
   "source": [
    "test_loss, test_acc = model_2.evaluate(train_features[15000:16000], train_labels[15000:16000])"
   ]
  }
 ],
 "metadata": {
  "kernelspec": {
   "display_name": "Python 3",
   "language": "python",
   "name": "python3"
  },
  "language_info": {
   "codemirror_mode": {
    "name": "ipython",
    "version": 3
   },
   "file_extension": ".py",
   "mimetype": "text/x-python",
   "name": "python",
   "nbconvert_exporter": "python",
   "pygments_lexer": "ipython3",
   "version": "3.7.3"
  }
 },
 "nbformat": 4,
 "nbformat_minor": 2
}
