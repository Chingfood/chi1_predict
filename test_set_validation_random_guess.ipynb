{
 "cells": [
  {
   "cell_type": "code",
   "execution_count": 13,
   "metadata": {},
   "outputs": [],
   "source": [
    "def range_determine(deg):\n",
    "    try:\n",
    "        deg = float(deg)\n",
    "    except:\n",
    "        return 4\n",
    "        \n",
    "    if (deg <0):\n",
    "        deg = deg +360\n",
    "    if deg>=0 and deg <120:\n",
    "        return 0\n",
    "    elif deg>=120 and deg <240:\n",
    "        return 1\n",
    "    elif deg>=240 and deg <360:\n",
    "        return 2\n",
    "#    elif deg == 940501:\n",
    " #       return 3\n",
    "  #  else:\n",
    "        return 4"
   ]
  },
  {
   "cell_type": "code",
   "execution_count": 1,
   "metadata": {},
   "outputs": [],
   "source": [
    "native_dis_file = \"/nfs/amino-home/qingyliu/dihedral_angle/Chi1_native.pkl\""
   ]
  },
  {
   "cell_type": "code",
   "execution_count": 2,
   "metadata": {},
   "outputs": [],
   "source": [
    "import pickle\n",
    "file = open(native_dis_file,'rb')\n",
    "native_distribution = pickle.load(file)"
   ]
  },
  {
   "cell_type": "code",
   "execution_count": 12,
   "metadata": {},
   "outputs": [
    {
     "data": {
      "text/plain": [
       "{'VAL': [0.0901408890693824, 0.7253044960239362, 0.18455461490668137],\n",
       " 'LEU': [0.020058869851352967, 0.32975530492558447, 0.6501858252230626],\n",
       " 'PRO': [0.5071417625757123, 6.989867380708504e-05, 0.49278833875048056],\n",
       " 'ASN': [0.13957188355557879, 0.30000377425320596, 0.5604243421912153],\n",
       " 'THR': [0.46863295880149813, 0.09648512781353405, 0.43488191338496784],\n",
       " 'GLU': [0.09701467236735539, 0.33574105814325805, 0.5672442694893866],\n",
       " 'ASP': [0.16215662637749495, 0.3278272650657677, 0.5100161085567373],\n",
       " 'PHE': [0.11079905615169511, 0.3480016013878695, 0.5411993424604354],\n",
       " 'LYS': [0.08121071602447805, 0.3439677060887297, 0.5748215778867923],\n",
       " 'ILE': [0.13326116488368145, 0.09880709797928341, 0.7679317371370351],\n",
       " 'SER': [0.45021585761774097, 0.2527505756543663, 0.2970335667278927],\n",
       " 'ARG': [0.09659794880924599, 0.3466839563971602, 0.5567180947935938],\n",
       " 'TYR': [0.1153218590452129, 0.3547344597084057, 0.5299436812463814],\n",
       " 'GLN': [0.0841549058005267, 0.31565264366263757, 0.6001924505368357],\n",
       " 'TRP': [0.1543379158059691, 0.34682847781181, 0.49883360638222096],\n",
       " 'HIS': [0.12721304953252438, 0.3347659480908358, 0.5380210023766399],\n",
       " 'MET': [0.08247777426779186, 0.3031781668847872, 0.6143440588474209],\n",
       " 'CYS': [0.18202960611318247, 0.2854479678098121, 0.5325224260770054]}"
      ]
     },
     "execution_count": 12,
     "metadata": {},
     "output_type": "execute_result"
    }
   ],
   "source": [
    "native_distribution"
   ]
  },
  {
   "cell_type": "code",
   "execution_count": 11,
   "metadata": {},
   "outputs": [
    {
     "data": {
      "text/plain": [
       "True"
      ]
     },
     "execution_count": 11,
     "metadata": {},
     "output_type": "execute_result"
    }
   ],
   "source": [
    "'VAL' in native_distribution"
   ]
  },
  {
   "cell_type": "code",
   "execution_count": 9,
   "metadata": {},
   "outputs": [],
   "source": [
    "chi1_library = \"/nfs/amino-home/qingyliu/dihedral_angle/chi1_dataset\""
   ]
  },
  {
   "cell_type": "code",
   "execution_count": 18,
   "metadata": {},
   "outputs": [],
   "source": [
    "import os\n",
    "import numpy as np\n",
    "correct = 0\n",
    "wrong = 0\n",
    "\n",
    "directory = os.fsencode(chi1_library)\n",
    "\n",
    "for num, file in enumerate(os.listdir(directory)):\n",
    "    \n",
    "    if num > 3000:\n",
    "        break\n",
    "    \n",
    "    filename = os.fsdecode(file)\n",
    "    with open(os.path.join(chi1_library,filename),'r') as f:\n",
    "        for line in f:\n",
    "            line = line.replace('\\n','').split()\n",
    "            if line[0] in native_distribution and len(line) > 1:\n",
    "                label = range_determine(float(line[-1]))\n",
    "                if label == 4:\n",
    "                    print(filename)\n",
    "                    print(line)\n",
    "                    continue\n",
    "                else:\n",
    "                    pred_label = np.random.choice(3, p = native_distribution[line[0]])\n",
    "                    if pred_label == label :\n",
    "                        correct += 1\n",
    "                    else :\n",
    "                        wrong += 1"
   ]
  },
  {
   "cell_type": "code",
   "execution_count": 34,
   "metadata": {},
   "outputs": [],
   "source": []
  },
  {
   "cell_type": "code",
   "execution_count": 35,
   "metadata": {},
   "outputs": [
    {
     "ename": "TypeError",
     "evalue": "object of type 'int' has no len()",
     "output_type": "error",
     "traceback": [
      "\u001b[0;31m---------------------------------------------------------------------------\u001b[0m",
      "\u001b[0;31mTypeError\u001b[0m                                 Traceback (most recent call last)",
      "\u001b[0;32m<ipython-input-35-20da3e9b2a98>\u001b[0m in \u001b[0;36m<module>\u001b[0;34m\u001b[0m\n\u001b[0;32m----> 1\u001b[0;31m \u001b[0mlen\u001b[0m\u001b[0;34m(\u001b[0m\u001b[0mall_count\u001b[0m\u001b[0;34m)\u001b[0m\u001b[0;34m\u001b[0m\u001b[0;34m\u001b[0m\u001b[0m\n\u001b[0m",
      "\u001b[0;31mTypeError\u001b[0m: object of type 'int' has no len()"
     ]
    }
   ],
   "source": []
  },
  {
   "cell_type": "code",
   "execution_count": 21,
   "metadata": {},
   "outputs": [
    {
     "data": {
      "text/plain": [
       "0.4633878239808162"
      ]
     },
     "execution_count": 21,
     "metadata": {},
     "output_type": "execute_result"
    }
   ],
   "source": [
    "correct / (correct + wrong)"
   ]
  },
  {
   "cell_type": "code",
   "execution_count": 22,
   "metadata": {},
   "outputs": [
    {
     "data": {
      "text/plain": [
       "0.5366121760191839"
      ]
     },
     "execution_count": 22,
     "metadata": {},
     "output_type": "execute_result"
    }
   ],
   "source": [
    "wrong / (correct + wrong)"
   ]
  },
  {
   "cell_type": "code",
   "execution_count": 25,
   "metadata": {},
   "outputs": [
    {
     "data": {
      "text/plain": [
       "1"
      ]
     },
     "execution_count": 25,
     "metadata": {},
     "output_type": "execute_result"
    }
   ],
   "source": [
    "native_distribution['VAL'].index(max(native_distribution['VAL']))"
   ]
  },
  {
   "cell_type": "code",
   "execution_count": 26,
   "metadata": {},
   "outputs": [],
   "source": [
    "correct_max = 0\n",
    "wrong_max = 0\n",
    "\n",
    "directory = os.fsencode(chi1_library)\n",
    "\n",
    "for num, file in enumerate(os.listdir(directory)):\n",
    "    \n",
    "    if num > 3000:\n",
    "        break\n",
    "    \n",
    "    filename = os.fsdecode(file)\n",
    "    with open(os.path.join(chi1_library,filename),'r') as f:\n",
    "        for line in f:\n",
    "            line = line.replace('\\n','').split()\n",
    "            if line[0] in native_distribution and len(line) > 1:\n",
    "                label = range_determine(float(line[-1]))\n",
    "                if label == 4:\n",
    "                    print(filename)\n",
    "                    print(line)\n",
    "                    continue\n",
    "                else:\n",
    "                    pred_label = native_distribution[line[0]].index(max(native_distribution[line[0]]))\n",
    "                    if pred_label == label :\n",
    "                        correct_max += 1\n",
    "                    else :\n",
    "                        wrong_max += 1"
   ]
  },
  {
   "cell_type": "code",
   "execution_count": 29,
   "metadata": {},
   "outputs": [
    {
     "data": {
      "text/plain": [
       "335481"
      ]
     },
     "execution_count": 29,
     "metadata": {},
     "output_type": "execute_result"
    }
   ],
   "source": [
    "correct_max"
   ]
  },
  {
   "cell_type": "code",
   "execution_count": 30,
   "metadata": {},
   "outputs": [
    {
     "data": {
      "text/plain": [
       "245842"
      ]
     },
     "execution_count": 30,
     "metadata": {},
     "output_type": "execute_result"
    }
   ],
   "source": [
    "wrong_max"
   ]
  },
  {
   "cell_type": "code",
   "execution_count": 32,
   "metadata": {},
   "outputs": [
    {
     "data": {
      "text/plain": [
       "0.5770991342162619"
      ]
     },
     "execution_count": 32,
     "metadata": {},
     "output_type": "execute_result"
    }
   ],
   "source": [
    "correct_max / (correct_max+wrong_max)"
   ]
  },
  {
   "cell_type": "code",
   "execution_count": 33,
   "metadata": {},
   "outputs": [
    {
     "data": {
      "text/plain": [
       "0.42290086578373814"
      ]
     },
     "execution_count": 33,
     "metadata": {},
     "output_type": "execute_result"
    }
   ],
   "source": [
    "wrong_max / (correct_max+wrong_max)"
   ]
  }
 ],
 "metadata": {
  "kernelspec": {
   "display_name": "Python 3",
   "language": "python",
   "name": "python3"
  },
  "language_info": {
   "codemirror_mode": {
    "name": "ipython",
    "version": 3
   },
   "file_extension": ".py",
   "mimetype": "text/x-python",
   "name": "python",
   "nbconvert_exporter": "python",
   "pygments_lexer": "ipython3",
   "version": "3.7.4"
  }
 },
 "nbformat": 4,
 "nbformat_minor": 4
}
