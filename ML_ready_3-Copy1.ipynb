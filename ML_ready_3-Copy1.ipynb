{
 "cells": [
  {
   "cell_type": "code",
   "execution_count": 1,
   "metadata": {},
   "outputs": [],
   "source": [
    "import numpy as np"
   ]
  },
  {
   "cell_type": "code",
   "execution_count": 2,
   "metadata": {},
   "outputs": [],
   "source": [
    "def range_determine(deg):\n",
    "    try:\n",
    "        deg = float(deg)\n",
    "    except:\n",
    "        return 4\n",
    "        \n",
    "    if (deg <0):\n",
    "        deg = deg +360\n",
    "    if deg>=0 and deg <120:\n",
    "        return 0\n",
    "    elif deg>=120 and deg <240:\n",
    "        return 1\n",
    "    elif deg>=240 and deg <360:\n",
    "        return 2\n",
    "    elif deg == 940501:\n",
    "        return 3\n",
    "    else:\n",
    "        return 4"
   ]
  },
  {
   "cell_type": "markdown",
   "metadata": {},
   "source": [
    "training_raw_path = \"/nfs/amino-home/qingyliu/dihedral_angle/ML_data/back_tag/back_train_scaled.npy\"\n"
   ]
  },
  {
   "cell_type": "markdown",
   "metadata": {},
   "source": [
    "training_raw_path = \"/nfs/amino-home/qingyliu/dihedral_angle/ML_data/whole_seq/hhblits/train_scaled.npy\""
   ]
  },
  {
   "cell_type": "code",
   "execution_count": 14,
   "metadata": {},
   "outputs": [],
   "source": [
    "training_raw_path = \"/nfs/amino-home/qingyliu/dihedral_angle/ML_data/back_tag/hhblits/train_scaled_\""
   ]
  },
  {
   "cell_type": "markdown",
   "metadata": {},
   "source": [
    "training_raw = np.load(training_raw_path, allow_pickle = True)"
   ]
  },
  {
   "cell_type": "code",
   "execution_count": 9,
   "metadata": {},
   "outputs": [
    {
     "data": {
      "text/plain": [
       "-141.74"
      ]
     },
     "execution_count": 9,
     "metadata": {},
     "output_type": "execute_result"
    }
   ],
   "source": []
  },
  {
   "cell_type": "markdown",
   "metadata": {},
   "source": [
    "training_feature_file_name = \"/nfs/amino-home/qingyliu/dihedral_angle/ML_data/back_tag/back_train_feature_\"\n",
    "training_label_value_file_name = \"/nfs/amino-home/qingyliu/dihedral_angle/ML_data/back_tag/back_train_label_value_\"\n",
    "training_label_file_name = \"/nfs/amino-home/qingyliu/dihedral_angle/ML_data/back_tag/back_train_label_\""
   ]
  },
  {
   "cell_type": "code",
   "execution_count": 15,
   "metadata": {},
   "outputs": [],
   "source": [
    "training_feature_file_name = \"/nfs/amino-home/qingyliu/dihedral_angle/ML_data/back_tag/hhblits/back_train_feature_\"\n",
    "training_label_value_file_name = \"/nfs/amino-home/qingyliu/dihedral_angle/ML_data/back_tag/hhblits/back_train_label_value_\"\n",
    "training_label_file_name = \"/nfs/amino-home/qingyliu/dihedral_angle/ML_data/back_tag/hhblits/back_train_label_\""
   ]
  },
  {
   "cell_type": "code",
   "execution_count": 17,
   "metadata": {},
   "outputs": [
    {
     "name": "stdout",
     "output_type": "stream",
     "text": [
      "0\n",
      "\n",
      "\n",
      "0\n",
      "\n",
      "\n",
      "0\n",
      "\n",
      "\n",
      "0\n",
      "\n",
      "\n",
      "0\n",
      "\n",
      "\n",
      "0\n",
      "\n",
      "\n"
     ]
    }
   ],
   "source": [
    "for num in range(6):\n",
    "    train_feature_num = []\n",
    "    train_label = []\n",
    "    train_label_value=[]\n",
    "    training_raw = np.load(training_raw_path+str(num)+\".npy\", allow_pickle = True)\n",
    "    for i in range(len(training_raw)):\n",
    "        if (training_raw[i,0,-1] != 940501) and (training_raw[i,0,-1] != 930524) and (training_raw[i,0,-1] != 0 or training_raw[i,0,0] !=0) :\n",
    "            train_label.append(range_determine(training_raw[i:0:-1]))\n",
    "            train_label_value.append(training_raw[i:0:-1])\n",
    "        else:\n",
    "            train_feature_num.append(i)\n",
    "    print(len(train_feature_num))\n",
    "    print('\\n')\n",
    "    np.save(training_feature_file_name+str(num),training_raw[:,:,:27])\n",
    "    np.save(training_label_value_file_name+str(num),training_raw[:,:,-1])\n",
    "    np.save(training_label_file_name+str(num),np.asarray(train_label))"
   ]
  },
  {
   "cell_type": "code",
   "execution_count": 12,
   "metadata": {},
   "outputs": [
    {
     "data": {
      "text/plain": [
       "1000000"
      ]
     },
     "execution_count": 12,
     "metadata": {},
     "output_type": "execute_result"
    }
   ],
   "source": []
  },
  {
   "cell_type": "code",
   "execution_count": null,
   "metadata": {},
   "outputs": [],
   "source": [
    "train_feature_format=\"/nfs/amino-home/qingyliu/dihedral_angle/ML_data/back_tag/back_train_feature_\"\n",
    "train_label_format = \"/nfs/amino-home/qingyliu/dihedral_angle/ML_data/back_tag/back_train_label_value\"\n",
    "train_label_value_format = \"/nfs/amino-home/qingyliu/dihedral_angle/ML_data/back_tag/back_train_label_\"\n",
    "\n",
    "raw_train_feature =[] \n",
    "raw_train_label = []\n",
    "raw_train_label_value = []\n",
    "for i in range(7500,9096):\n",
    "    raw_train_feature.append(np.load(train_feature_format+str(i)+\".npy\"))\n",
    "    raw_train_label.append(np.load(train_label_format+str(i)+\".npy\"))\n",
    "    raw_train_label_value.append(np.load(train_label_value_format+str(i)+\".npy\"))\n",
    "    \n",
    "train_label_value = np.concatenate(raw_train_label_value[:], axis =0)\n",
    "train_feature = np.concatenate(raw_train_feature[:],axis = 0)  \n",
    "train_label = np.concatenate(raw_train_label[:], axis =0)\n",
    "\n",
    "np.save(\"/nfs/amino-home/qingyliu/dihedral_angle/ML_data/back_tag/bak.back_train_label_value_new_3\",train_label_value)\n",
    "np.save(\"/nfs/amino-home/qingyliu/dihedral_angle/ML_data/back_tag/back_train_feature_new_3\",train_feature)\n",
    "np.save(\"/nfs/amino-home/qingyliu/dihedral_angle/ML_data/back_tag/back_train_label_value_3\",train_label)"
   ]
  }
 ],
 "metadata": {
  "kernelspec": {
   "display_name": "Python 3",
   "language": "python",
   "name": "python3"
  },
  "language_info": {
   "codemirror_mode": {
    "name": "ipython",
    "version": 3
   },
   "file_extension": ".py",
   "mimetype": "text/x-python",
   "name": "python",
   "nbconvert_exporter": "python",
   "pygments_lexer": "ipython3",
   "version": "3.7.3"
  }
 },
 "nbformat": 4,
 "nbformat_minor": 2
}
